{
 "cells": [
  {
   "cell_type": "markdown",
   "metadata": {
    "papermill": {
     "duration": 0.009602,
     "end_time": "2023-02-21T23:32:28.675688",
     "exception": false,
     "start_time": "2023-02-21T23:32:28.666086",
     "status": "completed"
    },
    "tags": []
   },
   "source": [
    "# Facial Expression Recognition | VGG19 Model - FER2013 Dataset"
   ]
  },
  {
   "cell_type": "markdown",
   "metadata": {
    "papermill": {
     "duration": 0.00803,
     "end_time": "2023-02-21T23:32:28.775887",
     "exception": false,
     "start_time": "2023-02-21T23:32:28.767857",
     "status": "completed"
    },
    "tags": []
   },
   "source": [
    "## Library"
   ]
  },
  {
   "cell_type": "code",
   "execution_count": 1,
   "metadata": {
    "execution": {
     "iopub.execute_input": "2023-07-03T01:22:41.375789Z",
     "iopub.status.busy": "2023-07-03T01:22:41.375486Z",
     "iopub.status.idle": "2023-07-03T01:22:52.486601Z",
     "shell.execute_reply": "2023-07-03T01:22:52.485600Z",
     "shell.execute_reply.started": "2023-07-03T01:22:41.375762Z"
    },
    "papermill": {
     "duration": 8.188704,
     "end_time": "2023-02-21T23:32:36.972552",
     "exception": false,
     "start_time": "2023-02-21T23:32:28.783848",
     "status": "completed"
    },
    "tags": []
   },
   "outputs": [],
   "source": [
    "import math\n",
    "import numpy as np\n",
    "import pandas as pd\n",
    "\n",
    "import cv2\n",
    "import scikitplot\n",
    "import seaborn as sns\n",
    "from matplotlib import pyplot\n",
    "\n",
    "from sklearn.model_selection import train_test_split\n",
    "from sklearn.preprocessing import LabelEncoder\n",
    "from sklearn.metrics import classification_report\n",
    "\n",
    "import tensorflow as tf\n",
    "from tensorflow.keras import optimizers\n",
    "from tensorflow.keras.models import Model\n",
    "from tensorflow.keras.layers import Flatten, Dense, Conv2D, GlobalAveragePooling2D, GlobalMaxPooling2D\n",
    "from tensorflow.keras.layers import Dropout, BatchNormalization, Activation\n",
    "from tensorflow.keras.callbacks import Callback, EarlyStopping, ReduceLROnPlateau\n",
    "from tensorflow.keras.preprocessing.image import ImageDataGenerator\n",
    "\n",
    "from keras.utils import np_utils"
   ]
  },
  {
   "cell_type": "markdown",
   "metadata": {
    "execution": {
     "iopub.execute_input": "2023-06-29T06:13:44.132285Z",
     "iopub.status.busy": "2023-06-29T06:13:44.131210Z",
     "iopub.status.idle": "2023-06-29T06:13:44.139785Z",
     "shell.execute_reply": "2023-06-29T06:13:44.138594Z",
     "shell.execute_reply.started": "2023-06-29T06:13:44.132217Z"
    }
   },
   "source": [
    "## Extract data from dataset and rehshape data back to 2D dimension"
   ]
  },
  {
   "cell_type": "code",
   "execution_count": 2,
   "metadata": {
    "execution": {
     "iopub.execute_input": "2023-07-03T01:22:52.494585Z",
     "iopub.status.busy": "2023-07-03T01:22:52.491680Z",
     "iopub.status.idle": "2023-07-03T01:23:00.960642Z",
     "shell.execute_reply": "2023-07-03T01:23:00.959567Z",
     "shell.execute_reply.started": "2023-07-03T01:22:52.494550Z"
    },
    "papermill": {
     "duration": 5.936801,
     "end_time": "2023-02-21T23:32:42.918178",
     "exception": false,
     "start_time": "2023-02-21T23:32:36.981377",
     "status": "completed"
    },
    "tags": []
   },
   "outputs": [
    {
     "name": "stdout",
     "output_type": "stream",
     "text": [
      "(35887, 3)\n"
     ]
    },
    {
     "data": {
      "text/html": [
       "<div>\n",
       "<style scoped>\n",
       "    .dataframe tbody tr th:only-of-type {\n",
       "        vertical-align: middle;\n",
       "    }\n",
       "\n",
       "    .dataframe tbody tr th {\n",
       "        vertical-align: top;\n",
       "    }\n",
       "\n",
       "    .dataframe thead th {\n",
       "        text-align: right;\n",
       "    }\n",
       "</style>\n",
       "<table border=\"1\" class=\"dataframe\">\n",
       "  <thead>\n",
       "    <tr style=\"text-align: right;\">\n",
       "      <th></th>\n",
       "      <th>emotion</th>\n",
       "      <th>pixels</th>\n",
       "      <th>Usage</th>\n",
       "    </tr>\n",
       "  </thead>\n",
       "  <tbody>\n",
       "    <tr>\n",
       "      <th>0</th>\n",
       "      <td>0</td>\n",
       "      <td>70 80 82 72 58 58 60 63 54 58 60 48 89 115 121...</td>\n",
       "      <td>Training</td>\n",
       "    </tr>\n",
       "    <tr>\n",
       "      <th>1</th>\n",
       "      <td>0</td>\n",
       "      <td>151 150 147 155 148 133 111 140 170 174 182 15...</td>\n",
       "      <td>Training</td>\n",
       "    </tr>\n",
       "    <tr>\n",
       "      <th>2</th>\n",
       "      <td>2</td>\n",
       "      <td>231 212 156 164 174 138 161 173 182 200 106 38...</td>\n",
       "      <td>Training</td>\n",
       "    </tr>\n",
       "    <tr>\n",
       "      <th>3</th>\n",
       "      <td>4</td>\n",
       "      <td>24 32 36 30 32 23 19 20 30 41 21 22 32 34 21 1...</td>\n",
       "      <td>Training</td>\n",
       "    </tr>\n",
       "    <tr>\n",
       "      <th>4</th>\n",
       "      <td>6</td>\n",
       "      <td>4 0 0 0 0 0 0 0 0 0 0 0 3 15 23 28 48 50 58 84...</td>\n",
       "      <td>Training</td>\n",
       "    </tr>\n",
       "  </tbody>\n",
       "</table>\n",
       "</div>"
      ],
      "text/plain": [
       "   emotion                                             pixels     Usage\n",
       "0        0  70 80 82 72 58 58 60 63 54 58 60 48 89 115 121...  Training\n",
       "1        0  151 150 147 155 148 133 111 140 170 174 182 15...  Training\n",
       "2        2  231 212 156 164 174 138 161 173 182 200 106 38...  Training\n",
       "3        4  24 32 36 30 32 23 19 20 30 41 21 22 32 34 21 1...  Training\n",
       "4        6  4 0 0 0 0 0 0 0 0 0 0 0 3 15 23 28 48 50 58 84...  Training"
      ]
     },
     "execution_count": 2,
     "metadata": {},
     "output_type": "execute_result"
    }
   ],
   "source": [
    "df = pd.read_csv('fer-2013/fer2013/fer2013.csv')\n",
    "print(df.shape)\n",
    "df.head()"
   ]
  },
  {
   "cell_type": "code",
   "execution_count": 3,
   "metadata": {
    "execution": {
     "iopub.execute_input": "2023-07-03T01:23:00.968288Z",
     "iopub.status.busy": "2023-07-03T01:23:00.965490Z",
     "iopub.status.idle": "2023-07-03T01:24:14.045404Z",
     "shell.execute_reply": "2023-07-03T01:24:14.044396Z",
     "shell.execute_reply.started": "2023-07-03T01:23:00.968249Z"
    },
    "papermill": {
     "duration": 39.660137,
     "end_time": "2023-02-21T23:33:30.286412",
     "exception": false,
     "start_time": "2023-02-21T23:32:50.626275",
     "status": "completed"
    },
    "tags": []
   },
   "outputs": [],
   "source": [
    "img_array = df.pixels.apply(lambda x: np.array(x.split(' ')).reshape(48, 48).astype('float32'))\n",
    "img_array = np.stack(img_array, axis = 0)"
   ]
  },
  {
   "cell_type": "markdown",
   "metadata": {},
   "source": [
    "## Convert Data to RBG (compatiable with VGG 19), also normalization using Min Max Scale"
   ]
  },
  {
   "cell_type": "code",
   "execution_count": 4,
   "metadata": {
    "execution": {
     "iopub.execute_input": "2023-07-03T01:24:14.058319Z",
     "iopub.status.busy": "2023-07-03T01:24:14.057182Z",
     "iopub.status.idle": "2023-07-03T01:24:15.282041Z",
     "shell.execute_reply": "2023-07-03T01:24:15.281085Z",
     "shell.execute_reply.started": "2023-07-03T01:24:14.058288Z"
    },
    "papermill": {
     "duration": 0.912211,
     "end_time": "2023-02-21T23:33:31.250950",
     "exception": false,
     "start_time": "2023-02-21T23:33:30.338739",
     "status": "completed"
    },
    "tags": []
   },
   "outputs": [
    {
     "name": "stdout",
     "output_type": "stream",
     "text": [
      "(35887, 48, 48, 3)\n"
     ]
    }
   ],
   "source": [
    "img_features = []\n",
    "\n",
    "for i in range(len(img_array)):\n",
    "    temp = cv2.cvtColor(img_array[i], cv2.COLOR_GRAY2RGB)\n",
    "    img_features.append(temp)\n",
    "\n",
    "img_features = np.array(img_features)\n",
    "print(img_features.shape)\n",
    "\n",
    "img_features = img_features/255"
   ]
  },
  {
   "cell_type": "code",
   "execution_count": 5,
   "metadata": {
    "execution": {
     "iopub.execute_input": "2023-07-03T01:24:15.283889Z",
     "iopub.status.busy": "2023-07-03T01:24:15.283508Z",
     "iopub.status.idle": "2023-07-03T01:24:15.537627Z",
     "shell.execute_reply": "2023-07-03T01:24:15.536771Z",
     "shell.execute_reply.started": "2023-07-03T01:24:15.283857Z"
    },
    "papermill": {
     "duration": 0.22468,
     "end_time": "2023-02-21T23:33:31.489635",
     "exception": false,
     "start_time": "2023-02-21T23:33:31.264955",
     "status": "completed"
    },
    "tags": []
   },
   "outputs": [
    {
     "data": {
      "image/png": "[encoded data removed]",
      "text/plain": [
       "<Figure size 640x480 with 1 Axes>"
      ]
     },
     "metadata": {},
     "output_type": "display_data"
    }
   ],
   "source": [
    "pyplot.imshow((img_features[0]*255).astype(np.uint8));"
   ]
  },
  {
   "cell_type": "code",
   "execution_count": 6,
   "metadata": {
    "execution": {
     "iopub.execute_input": "2023-07-03T01:24:15.539381Z",
     "iopub.status.busy": "2023-07-03T01:24:15.539067Z",
     "iopub.status.idle": "2023-07-03T01:24:15.552035Z",
     "shell.execute_reply": "2023-07-03T01:24:15.550998Z",
     "shell.execute_reply.started": "2023-07-03T01:24:15.539351Z"
    },
    "papermill": {
     "duration": 0.028227,
     "end_time": "2023-02-21T23:33:31.531431",
     "exception": false,
     "start_time": "2023-02-21T23:33:31.503204",
     "status": "completed"
    },
    "tags": []
   },
   "outputs": [
    {
     "data": {
      "text/plain": [
       "(35887, 7)"
      ]
     },
     "execution_count": 6,
     "metadata": {},
     "output_type": "execute_result"
    }
   ],
   "source": [
    "le = LabelEncoder()\n",
    "\n",
    "img_labels = le.fit_transform(df.emotion)\n",
    "img_labels = np_utils.to_categorical(img_labels)\n",
    "img_labels.shape"
   ]
  },
  {
   "cell_type": "markdown",
   "metadata": {
    "papermill": {
     "duration": 0.013334,
     "end_time": "2023-02-21T23:33:31.594833",
     "exception": false,
     "start_time": "2023-02-21T23:33:31.581499",
     "status": "completed"
    },
    "tags": []
   },
   "source": [
    "### Splitting the data into training and validation set."
   ]
  },
  {
   "cell_type": "code",
   "execution_count": 7,
   "metadata": {
    "execution": {
     "iopub.execute_input": "2023-07-03T01:24:15.560527Z",
     "iopub.status.busy": "2023-07-03T01:24:15.559656Z",
     "iopub.status.idle": "2023-07-03T01:24:16.860168Z",
     "shell.execute_reply": "2023-07-03T01:24:16.859095Z",
     "shell.execute_reply.started": "2023-07-03T01:24:15.560493Z"
    },
    "papermill": {
     "duration": 0.552102,
     "end_time": "2023-02-21T23:33:32.159866",
     "exception": false,
     "start_time": "2023-02-21T23:33:31.607764",
     "status": "completed"
    },
    "tags": []
   },
   "outputs": [
    {
     "data": {
      "text/plain": [
       "((28745, 48, 48, 3),\n",
       " (3553, 48, 48, 3),\n",
       " (3589, 48, 48, 3),\n",
       " (28745, 7),\n",
       " (3553, 7),\n",
       " (3589, 7))"
      ]
     },
     "execution_count": 7,
     "metadata": {},
     "output_type": "execute_result"
    }
   ],
   "source": [
    "X_train_valid, X_test, y_train_valid, y_test = train_test_split(img_features, \n",
    "                                                      img_labels, \n",
    "                                                      shuffle = True, \n",
    "                                                      stratify = img_labels, \n",
    "                                                      test_size = 0.1, \n",
    "                                                      random_state = 42)\n",
    "\n",
    "X_train, X_valid, y_train, y_valid = train_test_split(X_train_valid, \n",
    "                                                      y_train_valid, \n",
    "                                                      shuffle = True, \n",
    "                                                      stratify = y_train_valid, \n",
    "                                                      test_size = 0.11, \n",
    "                                                      random_state = 42)\n",
    "X_train.shape, X_valid.shape,X_test.shape, y_train.shape, y_valid.shape, y_test.shape"
   ]
  },
  {
   "cell_type": "code",
   "execution_count": 8,
   "metadata": {},
   "outputs": [
    {
     "data": {
      "image/png": "[encoded data removed]",
      "text/plain": [
       "<Figure size 640x480 with 1 Axes>"
      ]
     },
     "metadata": {},
     "output_type": "display_data"
    }
   ],
   "source": [
    "pyplot.imshow((X_test[95]*255).astype(np.uint8));"
   ]
  },
  {
   "cell_type": "code",
   "execution_count": 9,
   "metadata": {
    "execution": {
     "iopub.execute_input": "2023-07-03T01:24:16.865029Z",
     "iopub.status.busy": "2023-07-03T01:24:16.864733Z",
     "iopub.status.idle": "2023-07-03T01:24:16.869663Z",
     "shell.execute_reply": "2023-07-03T01:24:16.868845Z",
     "shell.execute_reply.started": "2023-07-03T01:24:16.865006Z"
    }
   },
   "outputs": [],
   "source": [
    "# Use this code if you only want to split into training and validation data\n",
    "# X_train,X_valid, y_train, y_valid = train_test_split(img_features, \n",
    "#                                                       img_labels, \n",
    "#                                                       shuffle = True, \n",
    "#                                                       stratify = img_labels, \n",
    "#                                                       test_size = 0.1, \n",
    "#                                                       random_state = 42)\n"
   ]
  },
  {
   "cell_type": "markdown",
   "metadata": {},
   "source": [
    "## Download and import weight from VGG model"
   ]
  },
  {
   "cell_type": "code",
   "execution_count": 10,
   "metadata": {
    "papermill": {
     "duration": 4.097025,
     "end_time": "2023-02-21T23:33:36.695651",
     "exception": false,
     "start_time": "2023-02-21T23:33:32.598626",
     "status": "completed"
    },
    "tags": []
   },
   "outputs": [],
   "source": [
    "# Downlaod VGG model with weight except 3 fully connected layers\n",
    "\n",
    "vgg = tf.keras.applications.VGG19(weights = 'imagenet',\n",
    "                                  include_top = False,\n",
    "                                  input_shape = (48, 48, 3))"
   ]
  },
  {
   "cell_type": "code",
   "execution_count": 11,
   "metadata": {
    "execution": {
     "iopub.status.busy": "2023-07-03T01:24:23.826394Z",
     "iopub.status.idle": "2023-07-03T01:24:23.826861Z",
     "shell.execute_reply": "2023-07-03T01:24:23.826645Z",
     "shell.execute_reply.started": "2023-07-03T01:24:23.826624Z"
    },
    "papermill": {
     "duration": 0.025758,
     "end_time": "2023-02-21T23:33:36.917291",
     "exception": false,
     "start_time": "2023-02-21T23:33:36.891533",
     "status": "completed"
    },
    "tags": []
   },
   "outputs": [],
   "source": [
    "#This function will create a model based on CNN blocks from VGG 19.\n",
    "def build_model(bottom_model, classes):\n",
    "    model = bottom_model.layers[-2].output\n",
    "    model = GlobalMaxPooling2D()(model)\n",
    "    model = Dense(classes, activation = 'softmax', name = 'out_layer')(model)\n",
    "    \n",
    "    return model"
   ]
  },
  {
   "cell_type": "code",
   "execution_count": 12,
   "metadata": {
    "execution": {
     "iopub.status.busy": "2023-07-03T01:24:23.828485Z",
     "iopub.status.idle": "2023-07-03T01:24:23.829425Z",
     "shell.execute_reply": "2023-07-03T01:24:23.829213Z",
     "shell.execute_reply.started": "2023-07-03T01:24:23.829192Z"
    },
    "papermill": {
     "duration": 0.122994,
     "end_time": "2023-02-21T23:33:37.057333",
     "exception": false,
     "start_time": "2023-02-21T23:33:36.934339",
     "status": "completed"
    },
    "tags": []
   },
   "outputs": [
    {
     "name": "stdout",
     "output_type": "stream",
     "text": [
      "Model: \"model\"\n",
      "_________________________________________________________________\n",
      " Layer (type)                Output Shape              Param #   \n",
      "=================================================================\n",
      " input_1 (InputLayer)        [(None, 48, 48, 3)]       0         \n",
      "                                                                 \n",
      " block1_conv1 (Conv2D)       (None, 48, 48, 64)        1792      \n",
      "                                                                 \n",
      " block1_conv2 (Conv2D)       (None, 48, 48, 64)        36928     \n",
      "                                                                 \n",
      " block1_pool (MaxPooling2D)  (None, 24, 24, 64)        0         \n",
      "                                                                 \n",
      " block2_conv1 (Conv2D)       (None, 24, 24, 128)       73856     \n",
      "                                                                 \n",
      " block2_conv2 (Conv2D)       (None, 24, 24, 128)       147584    \n",
      "                                                                 \n",
      " block2_pool (MaxPooling2D)  (None, 12, 12, 128)       0         \n",
      "                                                                 \n",
      " block3_conv1 (Conv2D)       (None, 12, 12, 256)       295168    \n",
      "                                                                 \n",
      " block3_conv2 (Conv2D)       (None, 12, 12, 256)       590080    \n",
      "                                                                 \n",
      " block3_conv3 (Conv2D)       (None, 12, 12, 256)       590080    \n",
      "                                                                 \n",
      " block3_conv4 (Conv2D)       (None, 12, 12, 256)       590080    \n",
      "                                                                 \n",
      " block3_pool (MaxPooling2D)  (None, 6, 6, 256)         0         \n",
      "                                                                 \n",
      " block4_conv1 (Conv2D)       (None, 6, 6, 512)         1180160   \n",
      "                                                                 \n",
      " block4_conv2 (Conv2D)       (None, 6, 6, 512)         2359808   \n",
      "                                                                 \n",
      " block4_conv3 (Conv2D)       (None, 6, 6, 512)         2359808   \n",
      "                                                                 \n",
      " block4_conv4 (Conv2D)       (None, 6, 6, 512)         2359808   \n",
      "                                                                 \n",
      " block4_pool (MaxPooling2D)  (None, 3, 3, 512)         0         \n",
      "                                                                 \n",
      " block5_conv1 (Conv2D)       (None, 3, 3, 512)         2359808   \n",
      "                                                                 \n",
      " block5_conv2 (Conv2D)       (None, 3, 3, 512)         2359808   \n",
      "                                                                 \n",
      " block5_conv3 (Conv2D)       (None, 3, 3, 512)         2359808   \n",
      "                                                                 \n",
      " block5_conv4 (Conv2D)       (None, 3, 3, 512)         2359808   \n",
      "                                                                 \n",
      " global_max_pooling2d (Globa  (None, 512)              0         \n",
      " lMaxPooling2D)                                                  \n",
      "                                                                 \n",
      " out_layer (Dense)           (None, 7)                 3591      \n",
      "                                                                 \n",
      "=================================================================\n",
      "Total params: 20,027,975\n",
      "Trainable params: 20,027,975\n",
      "Non-trainable params: 0\n",
      "_________________________________________________________________\n",
      "None\n"
     ]
    }
   ],
   "source": [
    "num_classes = 7\n",
    "head = build_model(vgg, num_classes)\n",
    "\n",
    "model = Model(inputs = vgg.input, outputs = head)\n",
    "\n",
    "print(model.summary())"
   ]
  },
  {
   "cell_type": "code",
   "execution_count": 13,
   "metadata": {
    "execution": {
     "iopub.status.busy": "2023-07-03T01:24:23.831071Z",
     "iopub.status.idle": "2023-07-03T01:24:23.831512Z",
     "shell.execute_reply": "2023-07-03T01:24:23.831307Z",
     "shell.execute_reply.started": "2023-07-03T01:24:23.831287Z"
    }
   },
   "outputs": [
    {
     "name": "stdout",
     "output_type": "stream",
     "text": [
      "input_1 True\n",
      "block1_conv1 True\n",
      "block1_conv2 True\n",
      "block1_pool True\n",
      "block2_conv1 True\n",
      "block2_conv2 True\n",
      "block2_pool True\n",
      "block3_conv1 True\n",
      "block3_conv2 True\n",
      "block3_conv3 True\n",
      "block3_conv4 True\n",
      "block3_pool True\n",
      "block4_conv1 True\n",
      "block4_conv2 True\n",
      "block4_conv3 True\n",
      "block4_conv4 True\n",
      "block4_pool True\n",
      "block5_conv1 True\n",
      "block5_conv2 True\n",
      "block5_conv3 True\n",
      "block5_conv4 True\n",
      "global_max_pooling2d True\n",
      "out_layer True\n"
     ]
    }
   ],
   "source": [
    "# Do not freeze any layer\n",
    "for layer in model.layers:\n",
    "    layer.trainable = True\n",
    "\n",
    "for layer in model.layers:\n",
    "    print(layer.name, layer.trainable)"
   ]
  },
  {
   "cell_type": "markdown",
   "metadata": {
    "papermill": {
     "duration": 0.019708,
     "end_time": "2023-02-21T23:33:37.099105",
     "exception": false,
     "start_time": "2023-02-21T23:33:37.079397",
     "status": "completed"
    },
    "tags": []
   },
   "source": [
    "### Early Stopping after no improvement for 11 epochs and Reduce Learning Rate Scheduler \n"
   ]
  },
  {
   "cell_type": "code",
   "execution_count": 14,
   "metadata": {
    "execution": {
     "iopub.status.busy": "2023-07-03T01:24:23.832872Z",
     "iopub.status.idle": "2023-07-03T01:24:23.833984Z",
     "shell.execute_reply": "2023-07-03T01:24:23.833745Z",
     "shell.execute_reply.started": "2023-07-03T01:24:23.833723Z"
    },
    "papermill": {
     "duration": 0.028579,
     "end_time": "2023-02-21T23:33:37.148178",
     "exception": false,
     "start_time": "2023-02-21T23:33:37.119599",
     "status": "completed"
    },
    "tags": []
   },
   "outputs": [],
   "source": [
    "early_stopping = EarlyStopping(monitor = 'val_accuracy', \n",
    "                               min_delta = 0.00005, \n",
    "                               patience = 11,\n",
    "                               verbose = 1, \n",
    "                               restore_best_weights = True,)\n",
    "\n",
    "lr_scheduler = ReduceLROnPlateau(monitor = 'val_accuracy', \n",
    "                                 factor = 0.5, \n",
    "                                 patience = 7,\n",
    "                                 min_lr = 1e-7,\n",
    "                                 verbose = 1,)\n",
    "\n",
    "callbacks = [early_stopping,lr_scheduler,]"
   ]
  },
  {
   "cell_type": "markdown",
   "metadata": {
    "papermill": {
     "duration": 0.022724,
     "end_time": "2023-02-21T23:33:37.190869",
     "exception": false,
     "start_time": "2023-02-21T23:33:37.168145",
     "status": "completed"
    },
    "tags": []
   },
   "source": [
    "### Apply data augmentation"
   ]
  },
  {
   "cell_type": "code",
   "execution_count": 15,
   "metadata": {
    "execution": {
     "iopub.status.busy": "2023-07-03T01:24:23.835503Z",
     "iopub.status.idle": "2023-07-03T01:24:23.835972Z",
     "shell.execute_reply": "2023-07-03T01:24:23.835748Z",
     "shell.execute_reply.started": "2023-07-03T01:24:23.835728Z"
    },
    "papermill": {
     "duration": 0.355921,
     "end_time": "2023-02-21T23:33:37.573936",
     "exception": false,
     "start_time": "2023-02-21T23:33:37.218015",
     "status": "completed"
    },
    "tags": []
   },
   "outputs": [],
   "source": [
    "train_datagen = ImageDataGenerator(rotation_range = 15,\n",
    "                                   width_shift_range = 0.15,\n",
    "                                   height_shift_range = 0.15,\n",
    "                                   shear_range = 0.15,\n",
    "                                   zoom_range = 0.15,\n",
    "                                   horizontal_flip = True,)\n",
    "train_datagen.fit(X_train) "
   ]
  },
  {
   "cell_type": "markdown",
   "metadata": {},
   "source": [
    "## Focal loss "
   ]
  },
  {
   "cell_type": "code",
   "execution_count": 16,
   "metadata": {
    "execution": {
     "iopub.status.busy": "2023-07-03T01:24:23.837799Z",
     "iopub.status.idle": "2023-07-03T01:24:23.838261Z",
     "shell.execute_reply": "2023-07-03T01:24:23.838053Z",
     "shell.execute_reply.started": "2023-07-03T01:24:23.838033Z"
    }
   },
   "outputs": [],
   "source": [
    "\n",
    "def focal_loss(gamma=2):\n",
    "    def loss(y_true, y_pred):\n",
    "        ce_loss = tf.keras.losses.categorical_crossentropy(y_true, y_pred, from_logits=True)\n",
    "        pt = tf.math.exp(-ce_loss)\n",
    "        focal_loss = tf.pow(1 - pt, gamma) * ce_loss\n",
    "        return focal_loss\n",
    "    return loss\n",
    "gamma = 5"
   ]
  },
  {
   "cell_type": "markdown",
   "metadata": {},
   "source": [
    "## Compiling and Training Model"
   ]
  },
  {
   "cell_type": "code",
   "execution_count": 17,
   "metadata": {
    "execution": {
     "iopub.status.busy": "2023-07-03T01:24:23.840144Z",
     "iopub.status.idle": "2023-07-03T01:24:23.840627Z",
     "shell.execute_reply": "2023-07-03T01:24:23.840386Z",
     "shell.execute_reply.started": "2023-07-03T01:24:23.840362Z"
    }
   },
   "outputs": [],
   "source": [
    "# batch size of 32 performs the best.\n",
    "batch_size = 32 \n",
    "epochs = 60\n",
    "optims = [optimizers.Adam(learning_rate = 0.0001, beta_1 = 0.9, beta_2 = 0.999),]\n",
    "\n",
    "model.compile(loss = 'categorical_crossentropy',\n",
    "              optimizer = optims[0],\n",
    "              metrics = ['accuracy'])\n"
   ]
  },
  {
   "cell_type": "code",
   "execution_count": 18,
   "metadata": {
    "execution": {
     "iopub.status.busy": "2023-07-03T01:24:23.842589Z",
     "iopub.status.idle": "2023-07-03T01:24:23.843057Z",
     "shell.execute_reply": "2023-07-03T01:24:23.842842Z",
     "shell.execute_reply.started": "2023-07-03T01:24:23.842805Z"
    },
    "papermill": {
     "duration": 1530.626395,
     "end_time": "2023-02-21T23:59:08.278254",
     "exception": false,
     "start_time": "2023-02-21T23:33:37.651859",
     "status": "completed"
    },
    "tags": []
   },
   "outputs": [
    {
     "ename": "SyntaxError",
     "evalue": "incomplete input (849352278.py, line 9)",
     "output_type": "error",
     "traceback": [
      "\u001b[1;36m  Cell \u001b[1;32mIn[18], line 9\u001b[1;36m\u001b[0m\n\u001b[1;33m    #                                        use_multiprocessing = True)\u001b[0m\n\u001b[1;37m                                                                        ^\u001b[0m\n\u001b[1;31mSyntaxError\u001b[0m\u001b[1;31m:\u001b[0m incomplete input\n"
     ]
    }
   ],
   "source": [
    "history = model.fit(train_datagen.flow(X_train, \n",
    "                                       y_train, \n",
    "                                       batch_size = batch_size),\n",
    "                                       validation_data = (X_valid, y_valid),\n",
    "                                       steps_per_epoch = len(X_train) / batch_size,\n",
    "\n",
    "                                       epochs = epochs,\n",
    "                                       callbacks = callbacks,\n",
    "#                                        use_multiprocessing = True)"
   ]
  },
  {
   "cell_type": "markdown",
   "metadata": {},
   "source": [
    "## Saving model"
   ]
  },
  {
   "cell_type": "code",
   "execution_count": null,
   "metadata": {
    "execution": {
     "iopub.status.busy": "2023-07-03T01:24:23.844896Z",
     "iopub.status.idle": "2023-07-03T01:24:23.845337Z",
     "shell.execute_reply": "2023-07-03T01:24:23.845132Z",
     "shell.execute_reply.started": "2023-07-03T01:24:23.845111Z"
    },
    "papermill": {
     "duration": 1.983505,
     "end_time": "2023-02-21T23:59:11.647964",
     "exception": false,
     "start_time": "2023-02-21T23:59:09.664459",
     "status": "completed"
    },
    "tags": []
   },
   "outputs": [],
   "source": [
    "# model_yaml = model.to_json()\n",
    "# with open(\"model.yaml\", \"w\") as yaml_file:\n",
    "#     yaml_file.write(model_yaml)\n",
    "    \n",
    "# model.save(\"model.h5\")"
   ]
  },
  {
   "cell_type": "markdown",
   "metadata": {},
   "source": [
    "## Result Visualization"
   ]
  },
  {
   "cell_type": "code",
   "execution_count": null,
   "metadata": {
    "execution": {
     "iopub.status.busy": "2023-07-03T01:24:23.847174Z",
     "iopub.status.idle": "2023-07-03T01:24:23.847631Z",
     "shell.execute_reply": "2023-07-03T01:24:23.847413Z",
     "shell.execute_reply.started": "2023-07-03T01:24:23.847393Z"
    },
    "papermill": {
     "duration": 2.74917,
     "end_time": "2023-02-21T23:59:15.824774",
     "exception": false,
     "start_time": "2023-02-21T23:59:13.075604",
     "status": "completed"
    },
    "tags": []
   },
   "outputs": [],
   "source": [
    "# Graph drawing \n",
    "sns.set()\n",
    "fig = pyplot.figure(0, (12, 4))\n",
    "\n",
    "ax = pyplot.subplot(1, 2, 1)\n",
    "sns.lineplot(x=history.epoch, y=history.history['accuracy'], label='train')\n",
    "sns.lineplot(x=history.epoch, y=history.history['val_accuracy'], label='valid')\n",
    "pyplot.title('Accuracy')\n",
    "pyplot.tight_layout()\n",
    "\n",
    "ax = pyplot.subplot(1, 2, 2)\n",
    "sns.lineplot(x=history.epoch, y=history.history['loss'], label='train')\n",
    "sns.lineplot(x=history.epoch, y=history.history['val_loss'], label='valid')\n",
    "pyplot.title('Loss')\n",
    "pyplot.tight_layout()\n",
    "\n",
    "pyplot.savefig('epoch_history_dcnn.png')\n",
    "pyplot.show()\n"
   ]
  },
  {
   "cell_type": "code",
   "execution_count": null,
   "metadata": {
    "execution": {
     "iopub.status.busy": "2023-07-03T01:24:23.851770Z",
     "iopub.status.idle": "2023-07-03T01:24:23.852238Z",
     "shell.execute_reply": "2023-07-03T01:24:23.852029Z",
     "shell.execute_reply.started": "2023-07-03T01:24:23.852007Z"
    },
    "papermill": {
     "duration": 4.659401,
     "end_time": "2023-02-21T23:59:25.995629",
     "exception": false,
     "start_time": "2023-02-21T23:59:21.336228",
     "status": "completed"
    },
    "tags": []
   },
   "outputs": [],
   "source": [
    "# Confusion matrix for testing data\n",
    "print(\"This is for testing data\")\n",
    "yhat_test = np.argmax(model.predict(X_test), axis=1)\n",
    "scikitplot.metrics.plot_confusion_matrix(np.argmax(y_test, axis=1), yhat_test, figsize=(7,7))\n",
    "pyplot.savefig(\"confusion_matrix_dcnn.png\")\n",
    "\n",
    "print(f'total wrong validation predictions: {np.sum(np.argmax(y_test, axis=1) != yhat_test)}\\n\\n')\n",
    "report = classification_report(np.argmax(y_test, axis=1), yhat_test, digits=4)\n",
    "print(report)"
   ]
  },
  {
   "cell_type": "code",
   "execution_count": null,
   "metadata": {
    "execution": {
     "iopub.status.busy": "2023-07-03T01:24:23.854047Z",
     "iopub.status.idle": "2023-07-03T01:24:23.854492Z",
     "shell.execute_reply": "2023-07-03T01:24:23.854282Z",
     "shell.execute_reply.started": "2023-07-03T01:24:23.854262Z"
    }
   },
   "outputs": [],
   "source": [
    "# Confusion mateix for validation data\n",
    "print(\"this is for validationd data\")\n",
    "yhat_valid = np.argmax(model.predict(X_valid), axis=1)\n",
    "scikitplot.metrics.plot_confusion_matrix(np.argmax(y_valid, axis=1), yhat_valid, figsize=(7,7))\n",
    "pyplot.savefig(\"confusion_matrix_dcnn.png\")\n",
    "\n",
    "print(f'total wrong validation predictions: {np.sum(np.argmax(y_valid, axis=1) != yhat_valid)}\\n\\n')\n",
    "report = classification_report(np.argmax(y_valid, axis=1), yhat_valid, digits=4)\n",
    "print(report)"
   ]
  }
 ],
 "metadata": {
  "kernelspec": {
   "display_name": "Python 3 (ipykernel)",
   "language": "python",
   "name": "python3"
  },
  "language_info": {
   "codemirror_mode": {
    "name": "ipython",
    "version": 3
   },
   "file_extension": ".py",
   "mimetype": "text/x-python",
   "name": "python",
   "nbconvert_exporter": "python",
   "pygments_lexer": "ipython3",
   "version": "3.10.9"
  }
 },
 "nbformat": 4,
 "nbformat_minor": 4
}
