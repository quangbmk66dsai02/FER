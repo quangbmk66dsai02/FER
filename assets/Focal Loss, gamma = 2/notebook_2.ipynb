{
 "cells": [
  {
   "cell_type": "markdown",
   "id": "e58b1466",
   "metadata": {
    "papermill": {
     "duration": 0.010318,
     "end_time": "2023-07-03T09:59:46.697106",
     "exception": false,
     "start_time": "2023-07-03T09:59:46.686788",
     "status": "completed"
    },
    "tags": []
   },
   "source": [
    "# Facial Emotion Recognition | VGG19 Model - FER2013 Dataset"
   ]
  },
  {
   "cell_type": "markdown",
   "id": "16e7367f",
   "metadata": {
    "papermill": {
     "duration": 0.009543,
     "end_time": "2023-07-03T09:59:46.716317",
     "exception": false,
     "start_time": "2023-07-03T09:59:46.706774",
     "status": "completed"
    },
    "tags": []
   },
   "source": [
    "## Library"
   ]
  },
  {
   "cell_type": "code",
   "execution_count": 1,
   "id": "4f3ed97f",
   "metadata": {
    "execution": {
     "iopub.execute_input": "2023-07-03T09:59:46.737071Z",
     "iopub.status.busy": "2023-07-03T09:59:46.736303Z",
     "iopub.status.idle": "2023-07-03T09:59:56.192778Z",
     "shell.execute_reply": "2023-07-03T09:59:56.191785Z"
    },
    "papermill": {
     "duration": 9.469799,
     "end_time": "2023-07-03T09:59:56.195456",
     "exception": false,
     "start_time": "2023-07-03T09:59:46.725657",
     "status": "completed"
    },
    "tags": []
   },
   "outputs": [
    {
     "name": "stderr",
     "output_type": "stream",
     "text": [
      "/opt/conda/lib/python3.10/site-packages/tensorflow_io/python/ops/__init__.py:98: UserWarning: unable to load libtensorflow_io_plugins.so: unable to open file: libtensorflow_io_plugins.so, from paths: ['/opt/conda/lib/python3.10/site-packages/tensorflow_io/python/ops/libtensorflow_io_plugins.so']\n",
      "caused by: ['/opt/conda/lib/python3.10/site-packages/tensorflow_io/python/ops/libtensorflow_io_plugins.so: undefined symbol: _ZN3tsl6StatusC1EN10tensorflow5error4CodeESt17basic_string_viewIcSt11char_traitsIcEENS_14SourceLocationE']\n",
      "  warnings.warn(f\"unable to load libtensorflow_io_plugins.so: {e}\")\n",
      "/opt/conda/lib/python3.10/site-packages/tensorflow_io/python/ops/__init__.py:104: UserWarning: file system plugins are not loaded: unable to open file: libtensorflow_io.so, from paths: ['/opt/conda/lib/python3.10/site-packages/tensorflow_io/python/ops/libtensorflow_io.so']\n",
      "caused by: ['/opt/conda/lib/python3.10/site-packages/tensorflow_io/python/ops/libtensorflow_io.so: undefined symbol: _ZTVN10tensorflow13GcsFileSystemE']\n",
      "  warnings.warn(f\"file system plugins are not loaded: {e}\")\n"
     ]
    }
   ],
   "source": [
    "import math\n",
    "import numpy as np\n",
    "import pandas as pd\n",
    "\n",
    "import cv2\n",
    "import scikitplot\n",
    "import seaborn as sns\n",
    "from matplotlib import pyplot\n",
    "\n",
    "from sklearn.model_selection import train_test_split\n",
    "from sklearn.preprocessing import LabelEncoder\n",
    "from sklearn.metrics import classification_report\n",
    "\n",
    "import tensorflow as tf\n",
    "from tensorflow.keras import optimizers\n",
    "from tensorflow.keras.models import Model\n",
    "from tensorflow.keras.layers import Flatten, Dense, Conv2D, GlobalAveragePooling2D, GlobalMaxPooling2D\n",
    "from tensorflow.keras.layers import Dropout, BatchNormalization, Activation\n",
    "from tensorflow.keras.callbacks import Callback, EarlyStopping, ReduceLROnPlateau\n",
    "from tensorflow.keras.preprocessing.image import ImageDataGenerator\n",
    "\n",
    "from keras.utils import np_utils"
   ]
  },
  {
   "cell_type": "markdown",
   "id": "a353e632",
   "metadata": {
    "execution": {
     "iopub.execute_input": "2023-06-29T06:13:44.132285Z",
     "iopub.status.busy": "2023-06-29T06:13:44.131210Z",
     "iopub.status.idle": "2023-06-29T06:13:44.139785Z",
     "shell.execute_reply": "2023-06-29T06:13:44.138594Z",
     "shell.execute_reply.started": "2023-06-29T06:13:44.132217Z"
    },
    "papermill": {
     "duration": 0.009777,
     "end_time": "2023-07-03T09:59:56.215126",
     "exception": false,
     "start_time": "2023-07-03T09:59:56.205349",
     "status": "completed"
    },
    "tags": []
   },
   "source": [
    "## Extract data from dataset and rehshape data back to 2D dimension"
   ]
  },
  {
   "cell_type": "code",
   "execution_count": 2,
   "id": "e0cadf1f",
   "metadata": {
    "execution": {
     "iopub.execute_input": "2023-07-03T09:59:56.237093Z",
     "iopub.status.busy": "2023-07-03T09:59:56.235948Z",
     "iopub.status.idle": "2023-07-03T10:00:02.242647Z",
     "shell.execute_reply": "2023-07-03T10:00:02.241319Z"
    },
    "papermill": {
     "duration": 6.020874,
     "end_time": "2023-07-03T10:00:02.246127",
     "exception": false,
     "start_time": "2023-07-03T09:59:56.225253",
     "status": "completed"
    },
    "tags": []
   },
   "outputs": [
    {
     "name": "stdout",
     "output_type": "stream",
     "text": [
      "(35887, 3)\n"
     ]
    },
    {
     "data": {
      "text/html": [
       "<div>\n",
       "<style scoped>\n",
       "    .dataframe tbody tr th:only-of-type {\n",
       "        vertical-align: middle;\n",
       "    }\n",
       "\n",
       "    .dataframe tbody tr th {\n",
       "        vertical-align: top;\n",
       "    }\n",
       "\n",
       "    .dataframe thead th {\n",
       "        text-align: right;\n",
       "    }\n",
       "</style>\n",
       "<table border=\"1\" class=\"dataframe\">\n",
       "  <thead>\n",
       "    <tr style=\"text-align: right;\">\n",
       "      <th></th>\n",
       "      <th>emotion</th>\n",
       "      <th>pixels</th>\n",
       "      <th>Usage</th>\n",
       "    </tr>\n",
       "  </thead>\n",
       "  <tbody>\n",
       "    <tr>\n",
       "      <th>0</th>\n",
       "      <td>0</td>\n",
       "      <td>70 80 82 72 58 58 60 63 54 58 60 48 89 115 121...</td>\n",
       "      <td>Training</td>\n",
       "    </tr>\n",
       "    <tr>\n",
       "      <th>1</th>\n",
       "      <td>0</td>\n",
       "      <td>151 150 147 155 148 133 111 140 170 174 182 15...</td>\n",
       "      <td>Training</td>\n",
       "    </tr>\n",
       "    <tr>\n",
       "      <th>2</th>\n",
       "      <td>2</td>\n",
       "      <td>231 212 156 164 174 138 161 173 182 200 106 38...</td>\n",
       "      <td>Training</td>\n",
       "    </tr>\n",
       "    <tr>\n",
       "      <th>3</th>\n",
       "      <td>4</td>\n",
       "      <td>24 32 36 30 32 23 19 20 30 41 21 22 32 34 21 1...</td>\n",
       "      <td>Training</td>\n",
       "    </tr>\n",
       "    <tr>\n",
       "      <th>4</th>\n",
       "      <td>6</td>\n",
       "      <td>4 0 0 0 0 0 0 0 0 0 0 0 3 15 23 28 48 50 58 84...</td>\n",
       "      <td>Training</td>\n",
       "    </tr>\n",
       "  </tbody>\n",
       "</table>\n",
       "</div>"
      ],
      "text/plain": [
       "   emotion                                             pixels     Usage\n",
       "0        0  70 80 82 72 58 58 60 63 54 58 60 48 89 115 121...  Training\n",
       "1        0  151 150 147 155 148 133 111 140 170 174 182 15...  Training\n",
       "2        2  231 212 156 164 174 138 161 173 182 200 106 38...  Training\n",
       "3        4  24 32 36 30 32 23 19 20 30 41 21 22 32 34 21 1...  Training\n",
       "4        6  4 0 0 0 0 0 0 0 0 0 0 0 3 15 23 28 48 50 58 84...  Training"
      ]
     },
     "execution_count": 2,
     "metadata": {},
     "output_type": "execute_result"
    }
   ],
   "source": [
    "df = pd.read_csv('/kaggle/input/fer-2013/fer2013/fer2013/fer2013.csv')\n",
    "print(df.shape)\n",
    "df.head()"
   ]
  },
  {
   "cell_type": "code",
   "execution_count": 3,
   "id": "e19a882b",
   "metadata": {
    "execution": {
     "iopub.execute_input": "2023-07-03T10:00:02.267867Z",
     "iopub.status.busy": "2023-07-03T10:00:02.267040Z",
     "iopub.status.idle": "2023-07-03T10:01:17.730616Z",
     "shell.execute_reply": "2023-07-03T10:01:17.729568Z"
    },
    "papermill": {
     "duration": 75.476965,
     "end_time": "2023-07-03T10:01:17.733265",
     "exception": false,
     "start_time": "2023-07-03T10:00:02.256300",
     "status": "completed"
    },
    "tags": []
   },
   "outputs": [],
   "source": [
    "img_array = df.pixels.apply(lambda x: np.array(x.split(' ')).reshape(48, 48).astype('float32'))\n",
    "img_array = np.stack(img_array, axis = 0)"
   ]
  },
  {
   "cell_type": "code",
   "execution_count": 4,
   "id": "741a5f96",
   "metadata": {
    "execution": {
     "iopub.execute_input": "2023-07-03T10:01:17.754537Z",
     "iopub.status.busy": "2023-07-03T10:01:17.754203Z",
     "iopub.status.idle": "2023-07-03T10:01:17.760799Z",
     "shell.execute_reply": "2023-07-03T10:01:17.759757Z"
    },
    "papermill": {
     "duration": 0.020687,
     "end_time": "2023-07-03T10:01:17.764159",
     "exception": false,
     "start_time": "2023-07-03T10:01:17.743472",
     "status": "completed"
    },
    "tags": []
   },
   "outputs": [
    {
     "data": {
      "text/plain": [
       "(35887, 48, 48)"
      ]
     },
     "execution_count": 4,
     "metadata": {},
     "output_type": "execute_result"
    }
   ],
   "source": [
    "img_array.shape"
   ]
  },
  {
   "cell_type": "markdown",
   "id": "4588b77c",
   "metadata": {
    "papermill": {
     "duration": 0.009581,
     "end_time": "2023-07-03T10:01:17.783934",
     "exception": false,
     "start_time": "2023-07-03T10:01:17.774353",
     "status": "completed"
    },
    "tags": []
   },
   "source": [
    "## Convert Data to RBG (to compatiable with VGG 19), also normalization using Min Max Scale"
   ]
  },
  {
   "cell_type": "code",
   "execution_count": 5,
   "id": "0e51c347",
   "metadata": {
    "execution": {
     "iopub.execute_input": "2023-07-03T10:01:17.805903Z",
     "iopub.status.busy": "2023-07-03T10:01:17.805164Z",
     "iopub.status.idle": "2023-07-03T10:01:19.027157Z",
     "shell.execute_reply": "2023-07-03T10:01:19.026129Z"
    },
    "papermill": {
     "duration": 1.235766,
     "end_time": "2023-07-03T10:01:19.029861",
     "exception": false,
     "start_time": "2023-07-03T10:01:17.794095",
     "status": "completed"
    },
    "tags": []
   },
   "outputs": [
    {
     "name": "stdout",
     "output_type": "stream",
     "text": [
      "(35887, 48, 48, 3)\n"
     ]
    }
   ],
   "source": [
    "img_features = []\n",
    "\n",
    "for i in range(len(img_array)):\n",
    "    temp = cv2.cvtColor(img_array[i], cv2.COLOR_GRAY2RGB)\n",
    "    img_features.append(temp)\n",
    "\n",
    "img_features = np.array(img_features)\n",
    "print(img_features.shape)\n",
    "\n",
    "img_features = img_features/255"
   ]
  },
  {
   "cell_type": "code",
   "execution_count": 6,
   "id": "8062a94b",
   "metadata": {
    "execution": {
     "iopub.execute_input": "2023-07-03T10:01:19.053344Z",
     "iopub.status.busy": "2023-07-03T10:01:19.052975Z",
     "iopub.status.idle": "2023-07-03T10:01:19.328938Z",
     "shell.execute_reply": "2023-07-03T10:01:19.327998Z"
    },
    "papermill": {
     "duration": 0.28975,
     "end_time": "2023-07-03T10:01:19.331061",
     "exception": false,
     "start_time": "2023-07-03T10:01:19.041311",
     "status": "completed"
    },
    "tags": []
   },
   "outputs": [
    {
     "data": {
      "image/png": "[encoded data removed]",
      "text/plain": [
       "<Figure size 640x480 with 1 Axes>"
      ]
     },
     "metadata": {},
     "output_type": "display_data"
    }
   ],
   "source": [
    "pyplot.imshow((img_features[0]*255).astype(np.uint8));"
   ]
  },
  {
   "cell_type": "code",
   "execution_count": 7,
   "id": "07eb2235",
   "metadata": {
    "execution": {
     "iopub.execute_input": "2023-07-03T10:01:19.355280Z",
     "iopub.status.busy": "2023-07-03T10:01:19.353550Z",
     "iopub.status.idle": "2023-07-03T10:01:19.368078Z",
     "shell.execute_reply": "2023-07-03T10:01:19.366954Z"
    },
    "papermill": {
     "duration": 0.028667,
     "end_time": "2023-07-03T10:01:19.370540",
     "exception": false,
     "start_time": "2023-07-03T10:01:19.341873",
     "status": "completed"
    },
    "tags": []
   },
   "outputs": [
    {
     "data": {
      "text/plain": [
       "(35887, 7)"
      ]
     },
     "execution_count": 7,
     "metadata": {},
     "output_type": "execute_result"
    }
   ],
   "source": [
    "le = LabelEncoder()\n",
    "\n",
    "img_labels = le.fit_transform(df.emotion)\n",
    "img_labels = np_utils.to_categorical(img_labels)\n",
    "img_labels.shape"
   ]
  },
  {
   "cell_type": "code",
   "execution_count": 8,
   "id": "166358d0",
   "metadata": {
    "execution": {
     "iopub.execute_input": "2023-07-03T10:01:19.395546Z",
     "iopub.status.busy": "2023-07-03T10:01:19.395192Z",
     "iopub.status.idle": "2023-07-03T10:01:19.399516Z",
     "shell.execute_reply": "2023-07-03T10:01:19.398493Z"
    },
    "papermill": {
     "duration": 0.019341,
     "end_time": "2023-07-03T10:01:19.401732",
     "exception": false,
     "start_time": "2023-07-03T10:01:19.382391",
     "status": "completed"
    },
    "tags": []
   },
   "outputs": [],
   "source": [
    "# le_name_mapping = dict(zip(le.classes_, le.transform(le.classes_)))\n",
    "# print(le_name_mapping)"
   ]
  },
  {
   "cell_type": "markdown",
   "id": "d15742d7",
   "metadata": {
    "papermill": {
     "duration": 0.010584,
     "end_time": "2023-07-03T10:01:19.422960",
     "exception": false,
     "start_time": "2023-07-03T10:01:19.412376",
     "status": "completed"
    },
    "tags": []
   },
   "source": [
    "### Splitting the data into training and validation set."
   ]
  },
  {
   "cell_type": "code",
   "execution_count": 9,
   "id": "5ade960c",
   "metadata": {
    "execution": {
     "iopub.execute_input": "2023-07-03T10:01:19.446524Z",
     "iopub.status.busy": "2023-07-03T10:01:19.445547Z",
     "iopub.status.idle": "2023-07-03T10:01:20.807931Z",
     "shell.execute_reply": "2023-07-03T10:01:20.806903Z"
    },
    "papermill": {
     "duration": 1.376616,
     "end_time": "2023-07-03T10:01:20.810186",
     "exception": false,
     "start_time": "2023-07-03T10:01:19.433570",
     "status": "completed"
    },
    "tags": []
   },
   "outputs": [
    {
     "data": {
      "text/plain": [
       "((28745, 48, 48, 3),\n",
       " (3553, 48, 48, 3),\n",
       " (3589, 48, 48, 3),\n",
       " (28745, 7),\n",
       " (3553, 7),\n",
       " (3589, 7))"
      ]
     },
     "execution_count": 9,
     "metadata": {},
     "output_type": "execute_result"
    }
   ],
   "source": [
    "X_train_valid, X_test, y_train_valid, y_test = train_test_split(img_features, \n",
    "                                                      img_labels, \n",
    "                                                      shuffle = True, \n",
    "                                                      stratify = img_labels, \n",
    "                                                      test_size = 0.1, \n",
    "                                                      random_state = 42)\n",
    "\n",
    "X_train, X_valid, y_train, y_valid = train_test_split(X_train_valid, \n",
    "                                                      y_train_valid, \n",
    "                                                      shuffle = True, \n",
    "                                                      stratify = y_train_valid, \n",
    "                                                      test_size = 0.11, \n",
    "                                                      random_state = 42)\n",
    "X_train.shape, X_valid.shape,X_test.shape, y_train.shape, y_valid.shape, y_test.shape"
   ]
  },
  {
   "cell_type": "code",
   "execution_count": 10,
   "id": "a7c63166",
   "metadata": {
    "execution": {
     "iopub.execute_input": "2023-07-03T10:01:20.833600Z",
     "iopub.status.busy": "2023-07-03T10:01:20.832653Z",
     "iopub.status.idle": "2023-07-03T10:01:20.837576Z",
     "shell.execute_reply": "2023-07-03T10:01:20.836635Z"
    },
    "papermill": {
     "duration": 0.019161,
     "end_time": "2023-07-03T10:01:20.839891",
     "exception": false,
     "start_time": "2023-07-03T10:01:20.820730",
     "status": "completed"
    },
    "tags": []
   },
   "outputs": [],
   "source": [
    "# X_train,X_valid, y_train, y_valid = train_test_split(img_features, \n",
    "#                                                       img_labels, \n",
    "#                                                       shuffle = True, \n",
    "#                                                       stratify = img_labels, \n",
    "#                                                       test_size = 0.1, \n",
    "#                                                       random_state = 42)\n"
   ]
  },
  {
   "cell_type": "code",
   "execution_count": 11,
   "id": "4f944640",
   "metadata": {
    "execution": {
     "iopub.execute_input": "2023-07-03T10:01:20.862320Z",
     "iopub.status.busy": "2023-07-03T10:01:20.861928Z",
     "iopub.status.idle": "2023-07-03T10:01:20.866009Z",
     "shell.execute_reply": "2023-07-03T10:01:20.865129Z"
    },
    "papermill": {
     "duration": 0.017577,
     "end_time": "2023-07-03T10:01:20.868021",
     "exception": false,
     "start_time": "2023-07-03T10:01:20.850444",
     "status": "completed"
    },
    "tags": []
   },
   "outputs": [],
   "source": [
    "# del df\n",
    "# del img_features\n",
    "# del img_labels"
   ]
  },
  {
   "cell_type": "code",
   "execution_count": 12,
   "id": "b93393d4",
   "metadata": {
    "execution": {
     "iopub.execute_input": "2023-07-03T10:01:20.890280Z",
     "iopub.status.busy": "2023-07-03T10:01:20.889889Z",
     "iopub.status.idle": "2023-07-03T10:01:26.548381Z",
     "shell.execute_reply": "2023-07-03T10:01:26.547335Z"
    },
    "papermill": {
     "duration": 5.672489,
     "end_time": "2023-07-03T10:01:26.550866",
     "exception": false,
     "start_time": "2023-07-03T10:01:20.878377",
     "status": "completed"
    },
    "tags": []
   },
   "outputs": [
    {
     "name": "stdout",
     "output_type": "stream",
     "text": [
      "Downloading data from https://storage.googleapis.com/tensorflow/keras-applications/vgg19/vgg19_weights_tf_dim_ordering_tf_kernels_notop.h5\n",
      "80134624/80134624 [==============================] - 3s 0us/step\n"
     ]
    }
   ],
   "source": [
    "vgg = tf.keras.applications.VGG19(weights = 'imagenet',\n",
    "                                  include_top = False,\n",
    "                                  input_shape = (48, 48, 3))"
   ]
  },
  {
   "cell_type": "markdown",
   "id": "622792ec",
   "metadata": {
    "papermill": {
     "duration": 0.013538,
     "end_time": "2023-07-03T10:01:26.578930",
     "exception": false,
     "start_time": "2023-07-03T10:01:26.565392",
     "status": "completed"
    },
    "tags": []
   },
   "source": [
    "This code makes all layers of a VGG19 model non-trainable. This allows the model to be applied to a new problem using only pre-learned features, rather than reflecting changes in the training data to the model, while preserving the pre-trained weights. This is a technique often used in transfer learning applications.\n",
    "\n",
    "In particular, while developing a facial emotion recognition model using the VGG19 model, the pre-trained weights of the model are preserved, allowing it to be used in solving a new emotion recognition problem. In this way, it may be possible to obtain better results using less data."
   ]
  },
  {
   "cell_type": "code",
   "execution_count": 13,
   "id": "4b71242f",
   "metadata": {
    "execution": {
     "iopub.execute_input": "2023-07-03T10:01:26.608830Z",
     "iopub.status.busy": "2023-07-03T10:01:26.607853Z",
     "iopub.status.idle": "2023-07-03T10:01:26.650810Z",
     "shell.execute_reply": "2023-07-03T10:01:26.649950Z"
    },
    "papermill": {
     "duration": 0.090675,
     "end_time": "2023-07-03T10:01:26.683845",
     "exception": false,
     "start_time": "2023-07-03T10:01:26.593170",
     "status": "completed"
    },
    "tags": []
   },
   "outputs": [
    {
     "name": "stdout",
     "output_type": "stream",
     "text": [
      "Model: \"vgg19\"\n",
      "_________________________________________________________________\n",
      " Layer (type)                Output Shape              Param #   \n",
      "=================================================================\n",
      " input_1 (InputLayer)        [(None, 48, 48, 3)]       0         \n",
      "                                                                 \n",
      " block1_conv1 (Conv2D)       (None, 48, 48, 64)        1792      \n",
      "                                                                 \n",
      " block1_conv2 (Conv2D)       (None, 48, 48, 64)        36928     \n",
      "                                                                 \n",
      " block1_pool (MaxPooling2D)  (None, 24, 24, 64)        0         \n",
      "                                                                 \n",
      " block2_conv1 (Conv2D)       (None, 24, 24, 128)       73856     \n",
      "                                                                 \n",
      " block2_conv2 (Conv2D)       (None, 24, 24, 128)       147584    \n",
      "                                                                 \n",
      " block2_pool (MaxPooling2D)  (None, 12, 12, 128)       0         \n",
      "                                                                 \n",
      " block3_conv1 (Conv2D)       (None, 12, 12, 256)       295168    \n",
      "                                                                 \n",
      " block3_conv2 (Conv2D)       (None, 12, 12, 256)       590080    \n",
      "                                                                 \n",
      " block3_conv3 (Conv2D)       (None, 12, 12, 256)       590080    \n",
      "                                                                 \n",
      " block3_conv4 (Conv2D)       (None, 12, 12, 256)       590080    \n",
      "                                                                 \n",
      " block3_pool (MaxPooling2D)  (None, 6, 6, 256)         0         \n",
      "                                                                 \n",
      " block4_conv1 (Conv2D)       (None, 6, 6, 512)         1180160   \n",
      "                                                                 \n",
      " block4_conv2 (Conv2D)       (None, 6, 6, 512)         2359808   \n",
      "                                                                 \n",
      " block4_conv3 (Conv2D)       (None, 6, 6, 512)         2359808   \n",
      "                                                                 \n",
      " block4_conv4 (Conv2D)       (None, 6, 6, 512)         2359808   \n",
      "                                                                 \n",
      " block4_pool (MaxPooling2D)  (None, 3, 3, 512)         0         \n",
      "                                                                 \n",
      " block5_conv1 (Conv2D)       (None, 3, 3, 512)         2359808   \n",
      "                                                                 \n",
      " block5_conv2 (Conv2D)       (None, 3, 3, 512)         2359808   \n",
      "                                                                 \n",
      " block5_conv3 (Conv2D)       (None, 3, 3, 512)         2359808   \n",
      "                                                                 \n",
      " block5_conv4 (Conv2D)       (None, 3, 3, 512)         2359808   \n",
      "                                                                 \n",
      " block5_pool (MaxPooling2D)  (None, 1, 1, 512)         0         \n",
      "                                                                 \n",
      "=================================================================\n",
      "Total params: 20,024,384\n",
      "Trainable params: 20,024,384\n",
      "Non-trainable params: 0\n",
      "_________________________________________________________________\n"
     ]
    }
   ],
   "source": [
    "vgg.summary()"
   ]
  },
  {
   "cell_type": "code",
   "execution_count": 14,
   "id": "11ff8c96",
   "metadata": {
    "execution": {
     "iopub.execute_input": "2023-07-03T10:01:26.719689Z",
     "iopub.status.busy": "2023-07-03T10:01:26.719377Z",
     "iopub.status.idle": "2023-07-03T10:01:26.724265Z",
     "shell.execute_reply": "2023-07-03T10:01:26.723522Z"
    },
    "papermill": {
     "duration": 0.024966,
     "end_time": "2023-07-03T10:01:26.726174",
     "exception": false,
     "start_time": "2023-07-03T10:01:26.701208",
     "status": "completed"
    },
    "tags": []
   },
   "outputs": [],
   "source": [
    "def build_model(bottom_model, classes):\n",
    "    model = bottom_model.layers[-2].output\n",
    "    model = GlobalMaxPooling2D()(model)\n",
    "    model = Dense(classes, activation = 'softmax', name = 'out_layer')(model)\n",
    "    \n",
    "    return model"
   ]
  },
  {
   "cell_type": "code",
   "execution_count": 15,
   "id": "638f3008",
   "metadata": {
    "execution": {
     "iopub.execute_input": "2023-07-03T10:01:26.761490Z",
     "iopub.status.busy": "2023-07-03T10:01:26.761221Z",
     "iopub.status.idle": "2023-07-03T10:01:26.827455Z",
     "shell.execute_reply": "2023-07-03T10:01:26.826688Z"
    },
    "papermill": {
     "duration": 0.119801,
     "end_time": "2023-07-03T10:01:26.863145",
     "exception": false,
     "start_time": "2023-07-03T10:01:26.743344",
     "status": "completed"
    },
    "tags": []
   },
   "outputs": [
    {
     "name": "stdout",
     "output_type": "stream",
     "text": [
      "Model: \"model\"\n",
      "_________________________________________________________________\n",
      " Layer (type)                Output Shape              Param #   \n",
      "=================================================================\n",
      " input_1 (InputLayer)        [(None, 48, 48, 3)]       0         \n",
      "                                                                 \n",
      " block1_conv1 (Conv2D)       (None, 48, 48, 64)        1792      \n",
      "                                                                 \n",
      " block1_conv2 (Conv2D)       (None, 48, 48, 64)        36928     \n",
      "                                                                 \n",
      " block1_pool (MaxPooling2D)  (None, 24, 24, 64)        0         \n",
      "                                                                 \n",
      " block2_conv1 (Conv2D)       (None, 24, 24, 128)       73856     \n",
      "                                                                 \n",
      " block2_conv2 (Conv2D)       (None, 24, 24, 128)       147584    \n",
      "                                                                 \n",
      " block2_pool (MaxPooling2D)  (None, 12, 12, 128)       0         \n",
      "                                                                 \n",
      " block3_conv1 (Conv2D)       (None, 12, 12, 256)       295168    \n",
      "                                                                 \n",
      " block3_conv2 (Conv2D)       (None, 12, 12, 256)       590080    \n",
      "                                                                 \n",
      " block3_conv3 (Conv2D)       (None, 12, 12, 256)       590080    \n",
      "                                                                 \n",
      " block3_conv4 (Conv2D)       (None, 12, 12, 256)       590080    \n",
      "                                                                 \n",
      " block3_pool (MaxPooling2D)  (None, 6, 6, 256)         0         \n",
      "                                                                 \n",
      " block4_conv1 (Conv2D)       (None, 6, 6, 512)         1180160   \n",
      "                                                                 \n",
      " block4_conv2 (Conv2D)       (None, 6, 6, 512)         2359808   \n",
      "                                                                 \n",
      " block4_conv3 (Conv2D)       (None, 6, 6, 512)         2359808   \n",
      "                                                                 \n",
      " block4_conv4 (Conv2D)       (None, 6, 6, 512)         2359808   \n",
      "                                                                 \n",
      " block4_pool (MaxPooling2D)  (None, 3, 3, 512)         0         \n",
      "                                                                 \n",
      " block5_conv1 (Conv2D)       (None, 3, 3, 512)         2359808   \n",
      "                                                                 \n",
      " block5_conv2 (Conv2D)       (None, 3, 3, 512)         2359808   \n",
      "                                                                 \n",
      " block5_conv3 (Conv2D)       (None, 3, 3, 512)         2359808   \n",
      "                                                                 \n",
      " block5_conv4 (Conv2D)       (None, 3, 3, 512)         2359808   \n",
      "                                                                 \n",
      " global_max_pooling2d (Globa  (None, 512)              0         \n",
      " lMaxPooling2D)                                                  \n",
      "                                                                 \n",
      " out_layer (Dense)           (None, 7)                 3591      \n",
      "                                                                 \n",
      "=================================================================\n",
      "Total params: 20,027,975\n",
      "Trainable params: 20,027,975\n",
      "Non-trainable params: 0\n",
      "_________________________________________________________________\n",
      "None\n"
     ]
    }
   ],
   "source": [
    "num_classes = 7\n",
    "head = build_model(vgg, num_classes)\n",
    "\n",
    "model = Model(inputs = vgg.input, outputs = head)\n",
    "\n",
    "print(model.summary())"
   ]
  },
  {
   "cell_type": "code",
   "execution_count": 16,
   "id": "0c5f041c",
   "metadata": {
    "execution": {
     "iopub.execute_input": "2023-07-03T10:01:26.907792Z",
     "iopub.status.busy": "2023-07-03T10:01:26.907448Z",
     "iopub.status.idle": "2023-07-03T10:01:26.913667Z",
     "shell.execute_reply": "2023-07-03T10:01:26.912905Z"
    },
    "papermill": {
     "duration": 0.031597,
     "end_time": "2023-07-03T10:01:26.916377",
     "exception": false,
     "start_time": "2023-07-03T10:01:26.884780",
     "status": "completed"
    },
    "tags": []
   },
   "outputs": [
    {
     "name": "stdout",
     "output_type": "stream",
     "text": [
      "input_1 True\n",
      "block1_conv1 True\n",
      "block1_conv2 True\n",
      "block1_pool True\n",
      "block2_conv1 True\n",
      "block2_conv2 True\n",
      "block2_pool True\n",
      "block3_conv1 True\n",
      "block3_conv2 True\n",
      "block3_conv3 True\n",
      "block3_conv4 True\n",
      "block3_pool True\n",
      "block4_conv1 True\n",
      "block4_conv2 True\n",
      "block4_conv3 True\n",
      "block4_conv4 True\n",
      "block4_pool True\n",
      "block5_conv1 True\n",
      "block5_conv2 True\n",
      "block5_conv3 True\n",
      "block5_conv4 True\n",
      "global_max_pooling2d True\n",
      "out_layer True\n"
     ]
    }
   ],
   "source": [
    "# Freeze layers up to block1_pool\n",
    "for layer in model.layers:\n",
    "    layer.trainable = True\n",
    "# for layer in model.layers[:4]:\n",
    "#     layer.trainable = False\n",
    "for layer in model.layers:\n",
    "    print(layer.name, layer.trainable)"
   ]
  },
  {
   "cell_type": "markdown",
   "id": "4e73577d",
   "metadata": {
    "papermill": {
     "duration": 0.021231,
     "end_time": "2023-07-03T10:01:26.960121",
     "exception": false,
     "start_time": "2023-07-03T10:01:26.938890",
     "status": "completed"
    },
    "tags": []
   },
   "source": [
    "### I used two callbacks one is `early stopping` for avoiding overfitting training data and other `ReduceLROnPlateau` for learning rate.\n"
   ]
  },
  {
   "cell_type": "code",
   "execution_count": 17,
   "id": "95ba20a0",
   "metadata": {
    "execution": {
     "iopub.execute_input": "2023-07-03T10:01:27.005782Z",
     "iopub.status.busy": "2023-07-03T10:01:27.005431Z",
     "iopub.status.idle": "2023-07-03T10:01:27.012095Z",
     "shell.execute_reply": "2023-07-03T10:01:27.011172Z"
    },
    "papermill": {
     "duration": 0.032133,
     "end_time": "2023-07-03T10:01:27.014101",
     "exception": false,
     "start_time": "2023-07-03T10:01:26.981968",
     "status": "completed"
    },
    "tags": []
   },
   "outputs": [],
   "source": [
    "early_stopping = EarlyStopping(monitor = 'val_accuracy', \n",
    "                               min_delta = 0.00005, \n",
    "                               patience = 11,\n",
    "                               verbose = 1, \n",
    "                               restore_best_weights = True,)\n",
    "\n",
    "lr_scheduler = ReduceLROnPlateau(monitor = 'val_accuracy', \n",
    "                                 factor = 0.5, \n",
    "                                 patience = 7,\n",
    "                                 min_lr = 1e-7,\n",
    "                                 verbose = 1,)\n",
    "\n",
    "callbacks = [early_stopping,lr_scheduler,]"
   ]
  },
  {
   "cell_type": "markdown",
   "id": "a388422b",
   "metadata": {
    "papermill": {
     "duration": 0.021252,
     "end_time": "2023-07-03T10:01:27.057664",
     "exception": false,
     "start_time": "2023-07-03T10:01:27.036412",
     "status": "completed"
    },
    "tags": []
   },
   "source": [
    "### As the data in hand is less as compared to the task so ImageDataGenerator is good to go."
   ]
  },
  {
   "cell_type": "code",
   "execution_count": 18,
   "id": "3873ecb8",
   "metadata": {
    "execution": {
     "iopub.execute_input": "2023-07-03T10:01:27.103397Z",
     "iopub.status.busy": "2023-07-03T10:01:27.103039Z",
     "iopub.status.idle": "2023-07-03T10:01:27.381174Z",
     "shell.execute_reply": "2023-07-03T10:01:27.380135Z"
    },
    "papermill": {
     "duration": 0.303933,
     "end_time": "2023-07-03T10:01:27.383612",
     "exception": false,
     "start_time": "2023-07-03T10:01:27.079679",
     "status": "completed"
    },
    "tags": []
   },
   "outputs": [],
   "source": [
    "train_datagen = ImageDataGenerator(rotation_range = 15,\n",
    "                                   width_shift_range = 0.15,\n",
    "                                   height_shift_range = 0.15,\n",
    "                                   shear_range = 0.15,\n",
    "                                   zoom_range = 0.15,\n",
    "                                   horizontal_flip = True,)\n",
    "train_datagen.fit(X_train)"
   ]
  },
  {
   "cell_type": "code",
   "execution_count": 19,
   "id": "2050cc59",
   "metadata": {
    "execution": {
     "iopub.execute_input": "2023-07-03T10:01:27.428864Z",
     "iopub.status.busy": "2023-07-03T10:01:27.427934Z",
     "iopub.status.idle": "2023-07-03T10:01:27.434085Z",
     "shell.execute_reply": "2023-07-03T10:01:27.433167Z"
    },
    "papermill": {
     "duration": 0.030814,
     "end_time": "2023-07-03T10:01:27.436094",
     "exception": false,
     "start_time": "2023-07-03T10:01:27.405280",
     "status": "completed"
    },
    "tags": []
   },
   "outputs": [],
   "source": [
    "def focal_loss(gamma=2):\n",
    "    def loss(y_true, y_pred):\n",
    "        ce_loss = tf.keras.losses.categorical_crossentropy(y_true, y_pred, from_logits=True)\n",
    "        pt = tf.math.exp(-ce_loss)\n",
    "        focal_loss = tf.pow(1 - pt, gamma) * ce_loss\n",
    "        return focal_loss\n",
    "    return loss\n",
    "gamma = 2"
   ]
  },
  {
   "cell_type": "code",
   "execution_count": 20,
   "id": "2244c05a",
   "metadata": {
    "execution": {
     "iopub.execute_input": "2023-07-03T10:01:27.480837Z",
     "iopub.status.busy": "2023-07-03T10:01:27.480194Z",
     "iopub.status.idle": "2023-07-03T10:01:27.500372Z",
     "shell.execute_reply": "2023-07-03T10:01:27.499466Z"
    },
    "papermill": {
     "duration": 0.045158,
     "end_time": "2023-07-03T10:01:27.502599",
     "exception": false,
     "start_time": "2023-07-03T10:01:27.457441",
     "status": "completed"
    },
    "tags": []
   },
   "outputs": [],
   "source": [
    "# batch size of 32 performs the best.\n",
    "batch_size = 32 \n",
    "epochs = 60\n",
    "optims = [optimizers.Adam(learning_rate = 0.0001, beta_1 = 0.9, beta_2 = 0.999),]\n",
    "\n",
    "model.compile(loss= focal_loss(gamma=gamma),\n",
    "              optimizer = optims[0],\n",
    "              metrics = ['accuracy'])\n"
   ]
  },
  {
   "cell_type": "code",
   "execution_count": 21,
   "id": "09d2d3de",
   "metadata": {
    "execution": {
     "iopub.execute_input": "2023-07-03T10:01:27.547909Z",
     "iopub.status.busy": "2023-07-03T10:01:27.547028Z",
     "iopub.status.idle": "2023-07-03T10:58:11.398435Z",
     "shell.execute_reply": "2023-07-03T10:58:11.397089Z"
    },
    "papermill": {
     "duration": 3403.876863,
     "end_time": "2023-07-03T10:58:11.401091",
     "exception": false,
     "start_time": "2023-07-03T10:01:27.524228",
     "status": "completed"
    },
    "tags": []
   },
   "outputs": [
    {
     "name": "stdout",
     "output_type": "stream",
     "text": [
      "Epoch 1/60\n"
     ]
    },
    {
     "name": "stderr",
     "output_type": "stream",
     "text": [
      "/opt/conda/lib/python3.10/site-packages/keras/backend.py:5561: UserWarning: \"`categorical_crossentropy` received `from_logits=True`, but the `output` argument was produced by a Softmax activation and thus does not represent logits. Was this intended?\n",
      "  output, from_logits = _get_logits(\n"
     ]
    },
    {
     "name": "stdout",
     "output_type": "stream",
     "text": [
      "898/898 [==============================] - 80s 73ms/step - loss: 1.0352 - accuracy: 0.3858 - val_loss: 0.8285 - val_accuracy: 0.4985 - lr: 1.0000e-04\n",
      "Epoch 2/60\n",
      "898/898 [==============================] - 68s 76ms/step - loss: 0.8044 - accuracy: 0.5024 - val_loss: 0.7833 - val_accuracy: 0.5159 - lr: 1.0000e-04\n",
      "Epoch 3/60\n",
      "898/898 [==============================] - 68s 76ms/step - loss: 0.7403 - accuracy: 0.5347 - val_loss: 0.7023 - val_accuracy: 0.5556 - lr: 1.0000e-04\n",
      "Epoch 4/60\n",
      "898/898 [==============================] - 67s 74ms/step - loss: 0.6922 - accuracy: 0.5595 - val_loss: 0.6630 - val_accuracy: 0.5806 - lr: 1.0000e-04\n",
      "Epoch 5/60\n",
      "898/898 [==============================] - 67s 75ms/step - loss: 0.6532 - accuracy: 0.5752 - val_loss: 0.6397 - val_accuracy: 0.5798 - lr: 1.0000e-04\n",
      "Epoch 6/60\n",
      "898/898 [==============================] - 68s 76ms/step - loss: 0.6250 - accuracy: 0.5918 - val_loss: 0.6193 - val_accuracy: 0.6001 - lr: 1.0000e-04\n",
      "Epoch 7/60\n",
      "898/898 [==============================] - 66s 74ms/step - loss: 0.5975 - accuracy: 0.6049 - val_loss: 0.6045 - val_accuracy: 0.6079 - lr: 1.0000e-04\n",
      "Epoch 8/60\n",
      "898/898 [==============================] - 66s 74ms/step - loss: 0.5763 - accuracy: 0.6131 - val_loss: 0.6020 - val_accuracy: 0.6113 - lr: 1.0000e-04\n",
      "Epoch 9/60\n",
      "898/898 [==============================] - 68s 75ms/step - loss: 0.5540 - accuracy: 0.6267 - val_loss: 0.5812 - val_accuracy: 0.6347 - lr: 1.0000e-04\n",
      "Epoch 10/60\n",
      "898/898 [==============================] - 67s 75ms/step - loss: 0.5371 - accuracy: 0.6310 - val_loss: 0.5622 - val_accuracy: 0.6330 - lr: 1.0000e-04\n",
      "Epoch 11/60\n",
      "898/898 [==============================] - 66s 74ms/step - loss: 0.5220 - accuracy: 0.6378 - val_loss: 0.5842 - val_accuracy: 0.6226 - lr: 1.0000e-04\n",
      "Epoch 12/60\n",
      "898/898 [==============================] - 64s 72ms/step - loss: 0.5054 - accuracy: 0.6475 - val_loss: 0.5796 - val_accuracy: 0.6130 - lr: 1.0000e-04\n",
      "Epoch 13/60\n",
      "898/898 [==============================] - 69s 76ms/step - loss: 0.4906 - accuracy: 0.6550 - val_loss: 0.5625 - val_accuracy: 0.6375 - lr: 1.0000e-04\n",
      "Epoch 14/60\n",
      "898/898 [==============================] - 67s 74ms/step - loss: 0.4785 - accuracy: 0.6640 - val_loss: 0.5586 - val_accuracy: 0.6305 - lr: 1.0000e-04\n",
      "Epoch 15/60\n",
      "898/898 [==============================] - 69s 76ms/step - loss: 0.4624 - accuracy: 0.6684 - val_loss: 0.5742 - val_accuracy: 0.6392 - lr: 1.0000e-04\n",
      "Epoch 16/60\n",
      "898/898 [==============================] - 69s 77ms/step - loss: 0.4496 - accuracy: 0.6751 - val_loss: 0.5604 - val_accuracy: 0.6375 - lr: 1.0000e-04\n",
      "Epoch 17/60\n",
      "898/898 [==============================] - 66s 74ms/step - loss: 0.4383 - accuracy: 0.6805 - val_loss: 0.5712 - val_accuracy: 0.6400 - lr: 1.0000e-04\n",
      "Epoch 18/60\n",
      "898/898 [==============================] - 65s 72ms/step - loss: 0.4222 - accuracy: 0.6876 - val_loss: 0.5532 - val_accuracy: 0.6496 - lr: 1.0000e-04\n",
      "Epoch 19/60\n",
      "898/898 [==============================] - 68s 75ms/step - loss: 0.4112 - accuracy: 0.6953 - val_loss: 0.5676 - val_accuracy: 0.6479 - lr: 1.0000e-04\n",
      "Epoch 20/60\n",
      "898/898 [==============================] - 68s 75ms/step - loss: 0.3961 - accuracy: 0.7035 - val_loss: 0.5667 - val_accuracy: 0.6499 - lr: 1.0000e-04\n",
      "Epoch 21/60\n",
      "898/898 [==============================] - 65s 72ms/step - loss: 0.3901 - accuracy: 0.7084 - val_loss: 0.5555 - val_accuracy: 0.6471 - lr: 1.0000e-04\n",
      "Epoch 22/60\n",
      "898/898 [==============================] - 65s 73ms/step - loss: 0.3803 - accuracy: 0.7134 - val_loss: 0.5699 - val_accuracy: 0.6496 - lr: 1.0000e-04\n",
      "Epoch 23/60\n",
      "898/898 [==============================] - 64s 71ms/step - loss: 0.3684 - accuracy: 0.7149 - val_loss: 0.5504 - val_accuracy: 0.6592 - lr: 1.0000e-04\n",
      "Epoch 24/60\n",
      "898/898 [==============================] - 68s 75ms/step - loss: 0.3614 - accuracy: 0.7205 - val_loss: 0.5896 - val_accuracy: 0.6569 - lr: 1.0000e-04\n",
      "Epoch 25/60\n",
      "898/898 [==============================] - 64s 71ms/step - loss: 0.3490 - accuracy: 0.7272 - val_loss: 0.5840 - val_accuracy: 0.6516 - lr: 1.0000e-04\n",
      "Epoch 26/60\n",
      "898/898 [==============================] - 67s 74ms/step - loss: 0.3382 - accuracy: 0.7312 - val_loss: 0.5920 - val_accuracy: 0.6510 - lr: 1.0000e-04\n",
      "Epoch 27/60\n",
      "898/898 [==============================] - 67s 75ms/step - loss: 0.3336 - accuracy: 0.7340 - val_loss: 0.5740 - val_accuracy: 0.6465 - lr: 1.0000e-04\n",
      "Epoch 28/60\n",
      "898/898 [==============================] - 68s 75ms/step - loss: 0.3255 - accuracy: 0.7401 - val_loss: 0.5939 - val_accuracy: 0.6642 - lr: 1.0000e-04\n",
      "Epoch 29/60\n",
      "898/898 [==============================] - 65s 72ms/step - loss: 0.3076 - accuracy: 0.7474 - val_loss: 0.6064 - val_accuracy: 0.6510 - lr: 1.0000e-04\n",
      "Epoch 30/60\n",
      "898/898 [==============================] - 65s 72ms/step - loss: 0.3086 - accuracy: 0.7485 - val_loss: 0.6224 - val_accuracy: 0.6589 - lr: 1.0000e-04\n",
      "Epoch 31/60\n",
      "898/898 [==============================] - 65s 72ms/step - loss: 0.2994 - accuracy: 0.7554 - val_loss: 0.5791 - val_accuracy: 0.6693 - lr: 1.0000e-04\n",
      "Epoch 32/60\n",
      "898/898 [==============================] - 66s 73ms/step - loss: 0.2912 - accuracy: 0.7580 - val_loss: 0.6148 - val_accuracy: 0.6530 - lr: 1.0000e-04\n",
      "Epoch 33/60\n",
      "898/898 [==============================] - 64s 71ms/step - loss: 0.2847 - accuracy: 0.7603 - val_loss: 0.6028 - val_accuracy: 0.6625 - lr: 1.0000e-04\n",
      "Epoch 34/60\n",
      "898/898 [==============================] - 64s 71ms/step - loss: 0.2754 - accuracy: 0.7659 - val_loss: 0.6256 - val_accuracy: 0.6676 - lr: 1.0000e-04\n",
      "Epoch 35/60\n",
      "898/898 [==============================] - 66s 73ms/step - loss: 0.2712 - accuracy: 0.7702 - val_loss: 0.6064 - val_accuracy: 0.6648 - lr: 1.0000e-04\n",
      "Epoch 36/60\n",
      "898/898 [==============================] - 66s 74ms/step - loss: 0.2599 - accuracy: 0.7724 - val_loss: 0.5871 - val_accuracy: 0.6777 - lr: 1.0000e-04\n",
      "Epoch 37/60\n",
      "898/898 [==============================] - 63s 70ms/step - loss: 0.2567 - accuracy: 0.7745 - val_loss: 0.6154 - val_accuracy: 0.6603 - lr: 1.0000e-04\n",
      "Epoch 38/60\n",
      "898/898 [==============================] - 64s 71ms/step - loss: 0.2492 - accuracy: 0.7792 - val_loss: 0.6397 - val_accuracy: 0.6606 - lr: 1.0000e-04\n",
      "Epoch 39/60\n",
      "898/898 [==============================] - 65s 72ms/step - loss: 0.2502 - accuracy: 0.7851 - val_loss: 0.6324 - val_accuracy: 0.6518 - lr: 1.0000e-04\n",
      "Epoch 40/60\n",
      "898/898 [==============================] - 63s 70ms/step - loss: 0.2354 - accuracy: 0.7879 - val_loss: 0.6533 - val_accuracy: 0.6679 - lr: 1.0000e-04\n",
      "Epoch 41/60\n",
      "898/898 [==============================] - 62s 69ms/step - loss: 0.2311 - accuracy: 0.7912 - val_loss: 0.6582 - val_accuracy: 0.6634 - lr: 1.0000e-04\n",
      "Epoch 42/60\n",
      "898/898 [==============================] - 63s 70ms/step - loss: 0.2216 - accuracy: 0.7990 - val_loss: 0.6463 - val_accuracy: 0.6547 - lr: 1.0000e-04\n",
      "Epoch 43/60\n",
      "899/898 [==============================] - ETA: 0s - loss: 0.2180 - accuracy: 0.8007\n",
      "Epoch 43: ReduceLROnPlateau reducing learning rate to 4.999999873689376e-05.\n",
      "898/898 [==============================] - 65s 72ms/step - loss: 0.2180 - accuracy: 0.8007 - val_loss: 0.6806 - val_accuracy: 0.6642 - lr: 1.0000e-04\n",
      "Epoch 44/60\n",
      "898/898 [==============================] - 63s 70ms/step - loss: 0.1731 - accuracy: 0.8335 - val_loss: 0.6882 - val_accuracy: 0.6696 - lr: 5.0000e-05\n",
      "Epoch 45/60\n",
      "898/898 [==============================] - 64s 71ms/step - loss: 0.1626 - accuracy: 0.8382 - val_loss: 0.6838 - val_accuracy: 0.6766 - lr: 5.0000e-05\n",
      "Epoch 46/60\n",
      "898/898 [==============================] - 65s 72ms/step - loss: 0.1525 - accuracy: 0.8487 - val_loss: 0.7197 - val_accuracy: 0.6715 - lr: 5.0000e-05\n",
      "Epoch 47/60\n",
      "899/898 [==============================] - ETA: 0s - loss: 0.1488 - accuracy: 0.8503Restoring model weights from the end of the best epoch: 36.\n",
      "898/898 [==============================] - 64s 72ms/step - loss: 0.1488 - accuracy: 0.8503 - val_loss: 0.7203 - val_accuracy: 0.6730 - lr: 5.0000e-05\n",
      "Epoch 47: early stopping\n"
     ]
    }
   ],
   "source": [
    "history = model.fit(train_datagen.flow(X_train, \n",
    "                                       y_train, \n",
    "                                       batch_size = batch_size),\n",
    "                                       validation_data = (X_valid, y_valid),\n",
    "                                       steps_per_epoch = len(X_train) / batch_size,\n",
    "\n",
    "                                       epochs = epochs,\n",
    "                                       callbacks = callbacks,\n",
    "                                       use_multiprocessing = True)"
   ]
  },
  {
   "cell_type": "code",
   "execution_count": null,
   "id": "17ecaa2c",
   "metadata": {
    "execution": {
     "iopub.execute_input": "2023-06-30T10:01:17.508100Z",
     "iopub.status.busy": "2023-06-30T10:01:17.507729Z",
     "iopub.status.idle": "2023-06-30T10:04:37.184619Z",
     "shell.execute_reply": "2023-06-30T10:04:37.182641Z",
     "shell.execute_reply.started": "2023-06-30T10:01:17.508072Z"
    },
    "papermill": {
     "duration": 2.778847,
     "end_time": "2023-07-03T10:58:16.874493",
     "exception": false,
     "start_time": "2023-07-03T10:58:14.095646",
     "status": "completed"
    },
    "tags": []
   },
   "outputs": [],
   "source": []
  },
  {
   "cell_type": "markdown",
   "id": "582feedd",
   "metadata": {
    "papermill": {
     "duration": 2.675946,
     "end_time": "2023-07-03T10:58:22.242069",
     "exception": false,
     "start_time": "2023-07-03T10:58:19.566123",
     "status": "completed"
    },
    "tags": []
   },
   "source": [
    "## Saving model"
   ]
  },
  {
   "cell_type": "code",
   "execution_count": 22,
   "id": "8be6eb09",
   "metadata": {
    "execution": {
     "iopub.execute_input": "2023-07-03T10:58:27.620070Z",
     "iopub.status.busy": "2023-07-03T10:58:27.619624Z",
     "iopub.status.idle": "2023-07-03T10:58:29.314224Z",
     "shell.execute_reply": "2023-07-03T10:58:29.313212Z"
    },
    "papermill": {
     "duration": 4.45005,
     "end_time": "2023-07-03T10:58:29.316805",
     "exception": false,
     "start_time": "2023-07-03T10:58:24.866755",
     "status": "completed"
    },
    "tags": []
   },
   "outputs": [],
   "source": [
    "model_yaml = model.to_json()\n",
    "with open(\"model.yaml\", \"w\") as yaml_file:\n",
    "    yaml_file.write(model_yaml)\n",
    "    \n",
    "model.save(\"model.h5\")"
   ]
  },
  {
   "cell_type": "markdown",
   "id": "04fd13ac",
   "metadata": {
    "papermill": {
     "duration": 3.276647,
     "end_time": "2023-07-03T10:58:35.281707",
     "exception": false,
     "start_time": "2023-07-03T10:58:32.005060",
     "status": "completed"
    },
    "tags": []
   },
   "source": [
    "## Result Visualization"
   ]
  },
  {
   "cell_type": "code",
   "execution_count": 23,
   "id": "ed7f9907",
   "metadata": {
    "execution": {
     "iopub.execute_input": "2023-07-03T10:58:40.525730Z",
     "iopub.status.busy": "2023-07-03T10:58:40.525369Z",
     "iopub.status.idle": "2023-07-03T10:58:41.683665Z",
     "shell.execute_reply": "2023-07-03T10:58:41.682680Z"
    },
    "papermill": {
     "duration": 3.741334,
     "end_time": "2023-07-03T10:58:41.686023",
     "exception": false,
     "start_time": "2023-07-03T10:58:37.944689",
     "status": "completed"
    },
    "tags": []
   },
   "outputs": [
    {
     "data": {
      "image/png": "[encoded data removed]",
      "text/plain": [
       "<Figure size 1200x400 with 2 Axes>"
      ]
     },
     "metadata": {},
     "output_type": "display_data"
    }
   ],
   "source": [
    "sns.set()\n",
    "fig = pyplot.figure(0, (12, 4))\n",
    "\n",
    "ax = pyplot.subplot(1, 2, 1)\n",
    "sns.lineplot(x=history.epoch, y=history.history['accuracy'], label='train')\n",
    "sns.lineplot(x=history.epoch, y=history.history['val_accuracy'], label='valid')\n",
    "pyplot.title('Accuracy')\n",
    "pyplot.tight_layout()\n",
    "\n",
    "ax = pyplot.subplot(1, 2, 2)\n",
    "sns.lineplot(x=history.epoch, y=history.history['loss'], label='train')\n",
    "sns.lineplot(x=history.epoch, y=history.history['val_loss'], label='valid')\n",
    "pyplot.title('Loss')\n",
    "pyplot.tight_layout()\n",
    "\n",
    "pyplot.savefig('epoch_history_dcnn.png')\n",
    "pyplot.show()\n"
   ]
  },
  {
   "cell_type": "code",
   "execution_count": 24,
   "id": "50ecd179",
   "metadata": {
    "execution": {
     "iopub.execute_input": "2023-07-03T10:58:47.209443Z",
     "iopub.status.busy": "2023-07-03T10:58:47.209081Z",
     "iopub.status.idle": "2023-07-03T10:58:48.102909Z",
     "shell.execute_reply": "2023-07-03T10:58:48.101932Z"
    },
    "papermill": {
     "duration": 3.590136,
     "end_time": "2023-07-03T10:58:48.108353",
     "exception": false,
     "start_time": "2023-07-03T10:58:44.518217",
     "status": "completed"
    },
    "tags": []
   },
   "outputs": [
    {
     "data": {
      "image/png": "[encoded data removed]",
      "text/plain": [
       "<Figure size 1400x400 with 2 Axes>"
      ]
     },
     "metadata": {},
     "output_type": "display_data"
    }
   ],
   "source": [
    "df_accu = pd.DataFrame({'train': history.history['accuracy'], 'valid': history.history['val_accuracy']})\n",
    "df_loss = pd.DataFrame({'train': history.history['loss'], 'valid': history.history['val_loss']})\n",
    "\n",
    "fig = pyplot.figure(0, (14, 4))\n",
    "ax = pyplot.subplot(1, 2, 1)\n",
    "sns.violinplot(x=\"variable\", y=\"value\", data=pd.melt(df_accu), showfliers=False)\n",
    "pyplot.title('Accuracy')\n",
    "pyplot.tight_layout()\n",
    "\n",
    "ax = pyplot.subplot(1, 2, 2)\n",
    "sns.violinplot(x=\"variable\", y=\"value\", data=pd.melt(df_loss), showfliers=False)\n",
    "pyplot.title('Loss')\n",
    "pyplot.tight_layout()\n",
    "\n",
    "pyplot.savefig('performance_dist.png')\n",
    "pyplot.show()"
   ]
  },
  {
   "cell_type": "code",
   "execution_count": 25,
   "id": "8902c748",
   "metadata": {
    "execution": {
     "iopub.execute_input": "2023-07-03T10:58:53.395443Z",
     "iopub.status.busy": "2023-07-03T10:58:53.395081Z",
     "iopub.status.idle": "2023-07-03T10:58:55.915168Z",
     "shell.execute_reply": "2023-07-03T10:58:55.914237Z"
    },
    "papermill": {
     "duration": 5.122123,
     "end_time": "2023-07-03T10:58:55.917714",
     "exception": false,
     "start_time": "2023-07-03T10:58:50.795591",
     "status": "completed"
    },
    "tags": []
   },
   "outputs": [
    {
     "name": "stdout",
     "output_type": "stream",
     "text": [
      "This is for testing data\n",
      "113/113 [==============================] - 1s 10ms/step\n",
      "total wrong validation predictions: 1191\n",
      "\n",
      "\n",
      "              precision    recall  f1-score   support\n",
      "\n",
      "           0     0.6329    0.5677    0.5985       495\n",
      "           1     0.8571    0.4364    0.5783        55\n",
      "           2     0.5302    0.4805    0.5041       512\n",
      "           3     0.8418    0.8699    0.8556       899\n",
      "           4     0.5764    0.5148    0.5439       608\n",
      "           5     0.7354    0.7850    0.7594       400\n",
      "           6     0.5809    0.7065    0.6376       620\n",
      "\n",
      "    accuracy                         0.6682      3589\n",
      "   macro avg     0.6792    0.6229    0.6396      3589\n",
      "weighted avg     0.6669    0.6682    0.6645      3589\n",
      "\n"
     ]
    },
    {
     "data": {
      "image/png": "[encoded data removed]",
      "text/plain": [
       "<Figure size 700x700 with 2 Axes>"
      ]
     },
     "metadata": {},
     "output_type": "display_data"
    }
   ],
   "source": [
    "print(\"This is for testing data\")\n",
    "yhat_test = np.argmax(model.predict(X_test), axis=1)\n",
    "scikitplot.metrics.plot_confusion_matrix(np.argmax(y_test, axis=1), yhat_test, figsize=(7,7))\n",
    "pyplot.savefig(\"confusion_matrix_dcnn.png\")\n",
    "\n",
    "print(f'total wrong validation predictions: {np.sum(np.argmax(y_test, axis=1) != yhat_test)}\\n\\n')\n",
    "report = classification_report(np.argmax(y_test, axis=1), yhat_test, digits=4)\n",
    "print(report)"
   ]
  },
  {
   "cell_type": "code",
   "execution_count": 26,
   "id": "ef23b527",
   "metadata": {
    "execution": {
     "iopub.execute_input": "2023-07-03T10:59:01.483710Z",
     "iopub.status.busy": "2023-07-03T10:59:01.483247Z",
     "iopub.status.idle": "2023-07-03T10:59:03.806405Z",
     "shell.execute_reply": "2023-07-03T10:59:03.805314Z"
    },
    "papermill": {
     "duration": 5.096405,
     "end_time": "2023-07-03T10:59:03.809364",
     "exception": false,
     "start_time": "2023-07-03T10:58:58.712959",
     "status": "completed"
    },
    "tags": []
   },
   "outputs": [
    {
     "name": "stdout",
     "output_type": "stream",
     "text": [
      "this is for validationd data\n",
      "112/112 [==============================] - 1s 8ms/step\n",
      "total wrong validation predictions: 1145\n",
      "\n",
      "\n",
      "              precision    recall  f1-score   support\n",
      "\n",
      "           0     0.6329    0.5677    0.5985       495\n",
      "           1     0.8571    0.4364    0.5783        55\n",
      "           2     0.5302    0.4805    0.5041       512\n",
      "           3     0.8418    0.8699    0.8556       899\n",
      "           4     0.5764    0.5148    0.5439       608\n",
      "           5     0.7354    0.7850    0.7594       400\n",
      "           6     0.5809    0.7065    0.6376       620\n",
      "\n",
      "    accuracy                         0.6682      3589\n",
      "   macro avg     0.6792    0.6229    0.6396      3589\n",
      "weighted avg     0.6669    0.6682    0.6645      3589\n",
      "\n"
     ]
    },
    {
     "data": {
      "image/png": "[encoded data removed]",
      "text/plain": [
       "<Figure size 700x700 with 2 Axes>"
      ]
     },
     "metadata": {},
     "output_type": "display_data"
    }
   ],
   "source": [
    "print(\"this is for validationd data\")\n",
    "yhat_valid = np.argmax(model.predict(X_valid), axis=1)\n",
    "scikitplot.metrics.plot_confusion_matrix(np.argmax(y_valid, axis=1), yhat_valid, figsize=(7,7))\n",
    "pyplot.savefig(\"confusion_matrix_dcnn.png\")\n",
    "\n",
    "print(f'total wrong validation predictions: {np.sum(np.argmax(y_valid, axis=1) != yhat_valid)}\\n\\n')\n",
    "report = classification_report(np.argmax(y_test, axis=1), yhat_test, digits=4)\n",
    "print(report)"
   ]
  },
  {
   "cell_type": "code",
   "execution_count": null,
   "id": "342ea81f",
   "metadata": {
    "papermill": {
     "duration": 2.707231,
     "end_time": "2023-07-03T10:59:09.701532",
     "exception": false,
     "start_time": "2023-07-03T10:59:06.994301",
     "status": "completed"
    },
    "tags": []
   },
   "outputs": [],
   "source": []
  }
 ],
 "metadata": {
  "kernelspec": {
   "display_name": "Python 3",
   "language": "python",
   "name": "python3"
  },
  "language_info": {
   "codemirror_mode": {
    "name": "ipython",
    "version": 3
   },
   "file_extension": ".py",
   "mimetype": "text/x-python",
   "name": "python",
   "nbconvert_exporter": "python",
   "pygments_lexer": "ipython3",
   "version": "3.10.10"
  },
  "papermill": {
   "default_parameters": {},
   "duration": 3579.529052,
   "end_time": "2023-07-03T10:59:15.316288",
   "environment_variables": {},
   "exception": null,
   "input_path": "__notebook__.ipynb",
   "output_path": "__notebook__.ipynb",
   "parameters": {},
   "start_time": "2023-07-03T09:59:35.787236",
   "version": "2.4.0"
  }
 },
 "nbformat": 4,
 "nbformat_minor": 5
}
