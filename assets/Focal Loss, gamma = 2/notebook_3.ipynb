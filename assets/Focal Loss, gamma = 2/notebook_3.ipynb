{
 "cells": [
  {
   "cell_type": "markdown",
   "id": "73420bf9",
   "metadata": {
    "papermill": {
     "duration": 0.009566,
     "end_time": "2023-07-03T10:00:08.670723",
     "exception": false,
     "start_time": "2023-07-03T10:00:08.661157",
     "status": "completed"
    },
    "tags": []
   },
   "source": [
    "# Facial Emotion Recognition | VGG19 Model - FER2013 Dataset"
   ]
  },
  {
   "cell_type": "markdown",
   "id": "351ca229",
   "metadata": {
    "papermill": {
     "duration": 0.008769,
     "end_time": "2023-07-03T10:00:08.688526",
     "exception": false,
     "start_time": "2023-07-03T10:00:08.679757",
     "status": "completed"
    },
    "tags": []
   },
   "source": [
    "## Library"
   ]
  },
  {
   "cell_type": "code",
   "execution_count": 1,
   "id": "8fe56c04",
   "metadata": {
    "execution": {
     "iopub.execute_input": "2023-07-03T10:00:08.708960Z",
     "iopub.status.busy": "2023-07-03T10:00:08.708216Z",
     "iopub.status.idle": "2023-07-03T10:00:18.857982Z",
     "shell.execute_reply": "2023-07-03T10:00:18.857021Z"
    },
    "papermill": {
     "duration": 10.162775,
     "end_time": "2023-07-03T10:00:18.860351",
     "exception": false,
     "start_time": "2023-07-03T10:00:08.697576",
     "status": "completed"
    },
    "tags": []
   },
   "outputs": [
    {
     "name": "stderr",
     "output_type": "stream",
     "text": [
      "/opt/conda/lib/python3.10/site-packages/tensorflow_io/python/ops/__init__.py:98: UserWarning: unable to load libtensorflow_io_plugins.so: unable to open file: libtensorflow_io_plugins.so, from paths: ['/opt/conda/lib/python3.10/site-packages/tensorflow_io/python/ops/libtensorflow_io_plugins.so']\n",
      "caused by: ['/opt/conda/lib/python3.10/site-packages/tensorflow_io/python/ops/libtensorflow_io_plugins.so: undefined symbol: _ZN3tsl6StatusC1EN10tensorflow5error4CodeESt17basic_string_viewIcSt11char_traitsIcEENS_14SourceLocationE']\n",
      "  warnings.warn(f\"unable to load libtensorflow_io_plugins.so: {e}\")\n",
      "/opt/conda/lib/python3.10/site-packages/tensorflow_io/python/ops/__init__.py:104: UserWarning: file system plugins are not loaded: unable to open file: libtensorflow_io.so, from paths: ['/opt/conda/lib/python3.10/site-packages/tensorflow_io/python/ops/libtensorflow_io.so']\n",
      "caused by: ['/opt/conda/lib/python3.10/site-packages/tensorflow_io/python/ops/libtensorflow_io.so: undefined symbol: _ZTVN10tensorflow13GcsFileSystemE']\n",
      "  warnings.warn(f\"file system plugins are not loaded: {e}\")\n"
     ]
    }
   ],
   "source": [
    "import math\n",
    "import numpy as np\n",
    "import pandas as pd\n",
    "\n",
    "import cv2\n",
    "import scikitplot\n",
    "import seaborn as sns\n",
    "from matplotlib import pyplot\n",
    "\n",
    "from sklearn.model_selection import train_test_split\n",
    "from sklearn.preprocessing import LabelEncoder\n",
    "from sklearn.metrics import classification_report\n",
    "\n",
    "import tensorflow as tf\n",
    "from tensorflow.keras import optimizers\n",
    "from tensorflow.keras.models import Model\n",
    "from tensorflow.keras.layers import Flatten, Dense, Conv2D, GlobalAveragePooling2D, GlobalMaxPooling2D\n",
    "from tensorflow.keras.layers import Dropout, BatchNormalization, Activation\n",
    "from tensorflow.keras.callbacks import Callback, EarlyStopping, ReduceLROnPlateau\n",
    "from tensorflow.keras.preprocessing.image import ImageDataGenerator\n",
    "\n",
    "from keras.utils import np_utils"
   ]
  },
  {
   "cell_type": "markdown",
   "id": "984f818f",
   "metadata": {
    "execution": {
     "iopub.execute_input": "2023-06-29T06:13:44.132285Z",
     "iopub.status.busy": "2023-06-29T06:13:44.131210Z",
     "iopub.status.idle": "2023-06-29T06:13:44.139785Z",
     "shell.execute_reply": "2023-06-29T06:13:44.138594Z",
     "shell.execute_reply.started": "2023-06-29T06:13:44.132217Z"
    },
    "papermill": {
     "duration": 0.012402,
     "end_time": "2023-07-03T10:00:18.886002",
     "exception": false,
     "start_time": "2023-07-03T10:00:18.873600",
     "status": "completed"
    },
    "tags": []
   },
   "source": [
    "## Extract data from dataset and rehshape data back to 2D dimension"
   ]
  },
  {
   "cell_type": "code",
   "execution_count": 2,
   "id": "1b95c5ca",
   "metadata": {
    "execution": {
     "iopub.execute_input": "2023-07-03T10:00:18.913974Z",
     "iopub.status.busy": "2023-07-03T10:00:18.912899Z",
     "iopub.status.idle": "2023-07-03T10:00:25.933927Z",
     "shell.execute_reply": "2023-07-03T10:00:25.932975Z"
    },
    "papermill": {
     "duration": 7.036834,
     "end_time": "2023-07-03T10:00:25.936013",
     "exception": false,
     "start_time": "2023-07-03T10:00:18.899179",
     "status": "completed"
    },
    "tags": []
   },
   "outputs": [
    {
     "name": "stdout",
     "output_type": "stream",
     "text": [
      "(35887, 3)\n"
     ]
    },
    {
     "data": {
      "text/html": [
       "<div>\n",
       "<style scoped>\n",
       "    .dataframe tbody tr th:only-of-type {\n",
       "        vertical-align: middle;\n",
       "    }\n",
       "\n",
       "    .dataframe tbody tr th {\n",
       "        vertical-align: top;\n",
       "    }\n",
       "\n",
       "    .dataframe thead th {\n",
       "        text-align: right;\n",
       "    }\n",
       "</style>\n",
       "<table border=\"1\" class=\"dataframe\">\n",
       "  <thead>\n",
       "    <tr style=\"text-align: right;\">\n",
       "      <th></th>\n",
       "      <th>emotion</th>\n",
       "      <th>pixels</th>\n",
       "      <th>Usage</th>\n",
       "    </tr>\n",
       "  </thead>\n",
       "  <tbody>\n",
       "    <tr>\n",
       "      <th>0</th>\n",
       "      <td>0</td>\n",
       "      <td>70 80 82 72 58 58 60 63 54 58 60 48 89 115 121...</td>\n",
       "      <td>Training</td>\n",
       "    </tr>\n",
       "    <tr>\n",
       "      <th>1</th>\n",
       "      <td>0</td>\n",
       "      <td>151 150 147 155 148 133 111 140 170 174 182 15...</td>\n",
       "      <td>Training</td>\n",
       "    </tr>\n",
       "    <tr>\n",
       "      <th>2</th>\n",
       "      <td>2</td>\n",
       "      <td>231 212 156 164 174 138 161 173 182 200 106 38...</td>\n",
       "      <td>Training</td>\n",
       "    </tr>\n",
       "    <tr>\n",
       "      <th>3</th>\n",
       "      <td>4</td>\n",
       "      <td>24 32 36 30 32 23 19 20 30 41 21 22 32 34 21 1...</td>\n",
       "      <td>Training</td>\n",
       "    </tr>\n",
       "    <tr>\n",
       "      <th>4</th>\n",
       "      <td>6</td>\n",
       "      <td>4 0 0 0 0 0 0 0 0 0 0 0 3 15 23 28 48 50 58 84...</td>\n",
       "      <td>Training</td>\n",
       "    </tr>\n",
       "  </tbody>\n",
       "</table>\n",
       "</div>"
      ],
      "text/plain": [
       "   emotion                                             pixels     Usage\n",
       "0        0  70 80 82 72 58 58 60 63 54 58 60 48 89 115 121...  Training\n",
       "1        0  151 150 147 155 148 133 111 140 170 174 182 15...  Training\n",
       "2        2  231 212 156 164 174 138 161 173 182 200 106 38...  Training\n",
       "3        4  24 32 36 30 32 23 19 20 30 41 21 22 32 34 21 1...  Training\n",
       "4        6  4 0 0 0 0 0 0 0 0 0 0 0 3 15 23 28 48 50 58 84...  Training"
      ]
     },
     "execution_count": 2,
     "metadata": {},
     "output_type": "execute_result"
    }
   ],
   "source": [
    "df = pd.read_csv('/kaggle/input/fer-2013/fer2013/fer2013/fer2013.csv')\n",
    "print(df.shape)\n",
    "df.head()"
   ]
  },
  {
   "cell_type": "code",
   "execution_count": 3,
   "id": "af6c25fe",
   "metadata": {
    "execution": {
     "iopub.execute_input": "2023-07-03T10:00:25.957969Z",
     "iopub.status.busy": "2023-07-03T10:00:25.956523Z",
     "iopub.status.idle": "2023-07-03T10:01:40.466595Z",
     "shell.execute_reply": "2023-07-03T10:01:40.465513Z"
    },
    "papermill": {
     "duration": 74.523228,
     "end_time": "2023-07-03T10:01:40.469272",
     "exception": false,
     "start_time": "2023-07-03T10:00:25.946044",
     "status": "completed"
    },
    "tags": []
   },
   "outputs": [],
   "source": [
    "img_array = df.pixels.apply(lambda x: np.array(x.split(' ')).reshape(48, 48).astype('float32'))\n",
    "img_array = np.stack(img_array, axis = 0)"
   ]
  },
  {
   "cell_type": "code",
   "execution_count": 4,
   "id": "306fcd03",
   "metadata": {
    "execution": {
     "iopub.execute_input": "2023-07-03T10:01:40.490070Z",
     "iopub.status.busy": "2023-07-03T10:01:40.489721Z",
     "iopub.status.idle": "2023-07-03T10:01:40.496158Z",
     "shell.execute_reply": "2023-07-03T10:01:40.495113Z"
    },
    "papermill": {
     "duration": 0.020575,
     "end_time": "2023-07-03T10:01:40.499796",
     "exception": false,
     "start_time": "2023-07-03T10:01:40.479221",
     "status": "completed"
    },
    "tags": []
   },
   "outputs": [
    {
     "data": {
      "text/plain": [
       "(35887, 48, 48)"
      ]
     },
     "execution_count": 4,
     "metadata": {},
     "output_type": "execute_result"
    }
   ],
   "source": [
    "img_array.shape"
   ]
  },
  {
   "cell_type": "markdown",
   "id": "c2690b2d",
   "metadata": {
    "papermill": {
     "duration": 0.009895,
     "end_time": "2023-07-03T10:01:40.520900",
     "exception": false,
     "start_time": "2023-07-03T10:01:40.511005",
     "status": "completed"
    },
    "tags": []
   },
   "source": [
    "## Convert Data to RBG (to compatiable with VGG 19), also normalization using Min Max Scale"
   ]
  },
  {
   "cell_type": "code",
   "execution_count": 5,
   "id": "3a764e6c",
   "metadata": {
    "execution": {
     "iopub.execute_input": "2023-07-03T10:01:40.541062Z",
     "iopub.status.busy": "2023-07-03T10:01:40.540759Z",
     "iopub.status.idle": "2023-07-03T10:01:41.766218Z",
     "shell.execute_reply": "2023-07-03T10:01:41.765230Z"
    },
    "papermill": {
     "duration": 1.238607,
     "end_time": "2023-07-03T10:01:41.768952",
     "exception": false,
     "start_time": "2023-07-03T10:01:40.530345",
     "status": "completed"
    },
    "tags": []
   },
   "outputs": [
    {
     "name": "stdout",
     "output_type": "stream",
     "text": [
      "(35887, 48, 48, 3)\n"
     ]
    }
   ],
   "source": [
    "img_features = []\n",
    "\n",
    "for i in range(len(img_array)):\n",
    "    temp = cv2.cvtColor(img_array[i], cv2.COLOR_GRAY2RGB)\n",
    "    img_features.append(temp)\n",
    "\n",
    "img_features = np.array(img_features)\n",
    "print(img_features.shape)\n",
    "\n",
    "img_features = img_features/255"
   ]
  },
  {
   "cell_type": "code",
   "execution_count": 6,
   "id": "77bf0f21",
   "metadata": {
    "execution": {
     "iopub.execute_input": "2023-07-03T10:01:41.791039Z",
     "iopub.status.busy": "2023-07-03T10:01:41.790691Z",
     "iopub.status.idle": "2023-07-03T10:01:42.044602Z",
     "shell.execute_reply": "2023-07-03T10:01:42.043711Z"
    },
    "papermill": {
     "duration": 0.266907,
     "end_time": "2023-07-03T10:01:42.046673",
     "exception": false,
     "start_time": "2023-07-03T10:01:41.779766",
     "status": "completed"
    },
    "tags": []
   },
   "outputs": [
    {
     "data": {
      "image/png": "[encoded data removed]",
      "text/plain": [
       "<Figure size 640x480 with 1 Axes>"
      ]
     },
     "metadata": {},
     "output_type": "display_data"
    }
   ],
   "source": [
    "pyplot.imshow((img_features[0]*255).astype(np.uint8));"
   ]
  },
  {
   "cell_type": "code",
   "execution_count": 7,
   "id": "e590d7cd",
   "metadata": {
    "execution": {
     "iopub.execute_input": "2023-07-03T10:01:42.070703Z",
     "iopub.status.busy": "2023-07-03T10:01:42.070395Z",
     "iopub.status.idle": "2023-07-03T10:01:42.084410Z",
     "shell.execute_reply": "2023-07-03T10:01:42.083475Z"
    },
    "papermill": {
     "duration": 0.02884,
     "end_time": "2023-07-03T10:01:42.086574",
     "exception": false,
     "start_time": "2023-07-03T10:01:42.057734",
     "status": "completed"
    },
    "tags": []
   },
   "outputs": [
    {
     "data": {
      "text/plain": [
       "(35887, 7)"
      ]
     },
     "execution_count": 7,
     "metadata": {},
     "output_type": "execute_result"
    }
   ],
   "source": [
    "le = LabelEncoder()\n",
    "\n",
    "img_labels = le.fit_transform(df.emotion)\n",
    "img_labels = np_utils.to_categorical(img_labels)\n",
    "img_labels.shape"
   ]
  },
  {
   "cell_type": "code",
   "execution_count": 8,
   "id": "0b5ba9c3",
   "metadata": {
    "execution": {
     "iopub.execute_input": "2023-07-03T10:01:42.108968Z",
     "iopub.status.busy": "2023-07-03T10:01:42.108596Z",
     "iopub.status.idle": "2023-07-03T10:01:42.112441Z",
     "shell.execute_reply": "2023-07-03T10:01:42.111515Z"
    },
    "papermill": {
     "duration": 0.016624,
     "end_time": "2023-07-03T10:01:42.114459",
     "exception": false,
     "start_time": "2023-07-03T10:01:42.097835",
     "status": "completed"
    },
    "tags": []
   },
   "outputs": [],
   "source": [
    "# le_name_mapping = dict(zip(le.classes_, le.transform(le.classes_)))\n",
    "# print(le_name_mapping)"
   ]
  },
  {
   "cell_type": "markdown",
   "id": "2acf24d3",
   "metadata": {
    "papermill": {
     "duration": 0.009683,
     "end_time": "2023-07-03T10:01:42.134048",
     "exception": false,
     "start_time": "2023-07-03T10:01:42.124365",
     "status": "completed"
    },
    "tags": []
   },
   "source": [
    "### Splitting the data into training and validation set."
   ]
  },
  {
   "cell_type": "code",
   "execution_count": 9,
   "id": "da7ed658",
   "metadata": {
    "execution": {
     "iopub.execute_input": "2023-07-03T10:01:42.155293Z",
     "iopub.status.busy": "2023-07-03T10:01:42.154560Z",
     "iopub.status.idle": "2023-07-03T10:01:43.489755Z",
     "shell.execute_reply": "2023-07-03T10:01:43.488741Z"
    },
    "papermill": {
     "duration": 1.347865,
     "end_time": "2023-07-03T10:01:43.491801",
     "exception": false,
     "start_time": "2023-07-03T10:01:42.143936",
     "status": "completed"
    },
    "tags": []
   },
   "outputs": [
    {
     "data": {
      "text/plain": [
       "((28745, 48, 48, 3),\n",
       " (3553, 48, 48, 3),\n",
       " (3589, 48, 48, 3),\n",
       " (28745, 7),\n",
       " (3553, 7),\n",
       " (3589, 7))"
      ]
     },
     "execution_count": 9,
     "metadata": {},
     "output_type": "execute_result"
    }
   ],
   "source": [
    "X_train_valid, X_test, y_train_valid, y_test = train_test_split(img_features, \n",
    "                                                      img_labels, \n",
    "                                                      shuffle = True, \n",
    "                                                      stratify = img_labels, \n",
    "                                                      test_size = 0.1, \n",
    "                                                      random_state = 42)\n",
    "\n",
    "X_train, X_valid, y_train, y_valid = train_test_split(X_train_valid, \n",
    "                                                      y_train_valid, \n",
    "                                                      shuffle = True, \n",
    "                                                      stratify = y_train_valid, \n",
    "                                                      test_size = 0.11, \n",
    "                                                      random_state = 42)\n",
    "X_train.shape, X_valid.shape,X_test.shape, y_train.shape, y_valid.shape, y_test.shape"
   ]
  },
  {
   "cell_type": "code",
   "execution_count": 10,
   "id": "f556abd7",
   "metadata": {
    "execution": {
     "iopub.execute_input": "2023-07-03T10:01:43.514194Z",
     "iopub.status.busy": "2023-07-03T10:01:43.513907Z",
     "iopub.status.idle": "2023-07-03T10:01:43.518130Z",
     "shell.execute_reply": "2023-07-03T10:01:43.516986Z"
    },
    "papermill": {
     "duration": 0.017822,
     "end_time": "2023-07-03T10:01:43.520526",
     "exception": false,
     "start_time": "2023-07-03T10:01:43.502704",
     "status": "completed"
    },
    "tags": []
   },
   "outputs": [],
   "source": [
    "# X_train,X_valid, y_train, y_valid = train_test_split(img_features, \n",
    "#                                                       img_labels, \n",
    "#                                                       shuffle = True, \n",
    "#                                                       stratify = img_labels, \n",
    "#                                                       test_size = 0.1, \n",
    "#                                                       random_state = 42)\n"
   ]
  },
  {
   "cell_type": "code",
   "execution_count": 11,
   "id": "ff86b00a",
   "metadata": {
    "execution": {
     "iopub.execute_input": "2023-07-03T10:01:43.542238Z",
     "iopub.status.busy": "2023-07-03T10:01:43.541479Z",
     "iopub.status.idle": "2023-07-03T10:01:43.545485Z",
     "shell.execute_reply": "2023-07-03T10:01:43.544560Z"
    },
    "papermill": {
     "duration": 0.016727,
     "end_time": "2023-07-03T10:01:43.547449",
     "exception": false,
     "start_time": "2023-07-03T10:01:43.530722",
     "status": "completed"
    },
    "tags": []
   },
   "outputs": [],
   "source": [
    "# del df\n",
    "# del img_features\n",
    "# del img_labels"
   ]
  },
  {
   "cell_type": "code",
   "execution_count": 12,
   "id": "5154d25e",
   "metadata": {
    "execution": {
     "iopub.execute_input": "2023-07-03T10:01:43.569013Z",
     "iopub.status.busy": "2023-07-03T10:01:43.568143Z",
     "iopub.status.idle": "2023-07-03T10:01:47.263658Z",
     "shell.execute_reply": "2023-07-03T10:01:47.262683Z"
    },
    "papermill": {
     "duration": 3.708956,
     "end_time": "2023-07-03T10:01:47.266314",
     "exception": false,
     "start_time": "2023-07-03T10:01:43.557358",
     "status": "completed"
    },
    "tags": []
   },
   "outputs": [
    {
     "name": "stdout",
     "output_type": "stream",
     "text": [
      "Downloading data from https://storage.googleapis.com/tensorflow/keras-applications/vgg19/vgg19_weights_tf_dim_ordering_tf_kernels_notop.h5\n",
      "80134624/80134624 [==============================] - 0s 0us/step\n"
     ]
    }
   ],
   "source": [
    "vgg = tf.keras.applications.VGG19(weights = 'imagenet',\n",
    "                                  include_top = False,\n",
    "                                  input_shape = (48, 48, 3))"
   ]
  },
  {
   "cell_type": "markdown",
   "id": "615ba0b2",
   "metadata": {
    "papermill": {
     "duration": 0.010571,
     "end_time": "2023-07-03T10:01:47.288305",
     "exception": false,
     "start_time": "2023-07-03T10:01:47.277734",
     "status": "completed"
    },
    "tags": []
   },
   "source": [
    "This code makes all layers of a VGG19 model non-trainable. This allows the model to be applied to a new problem using only pre-learned features, rather than reflecting changes in the training data to the model, while preserving the pre-trained weights. This is a technique often used in transfer learning applications.\n",
    "\n",
    "In particular, while developing a facial emotion recognition model using the VGG19 model, the pre-trained weights of the model are preserved, allowing it to be used in solving a new emotion recognition problem. In this way, it may be possible to obtain better results using less data."
   ]
  },
  {
   "cell_type": "code",
   "execution_count": 13,
   "id": "1a64c2fb",
   "metadata": {
    "execution": {
     "iopub.execute_input": "2023-07-03T10:01:47.311177Z",
     "iopub.status.busy": "2023-07-03T10:01:47.310873Z",
     "iopub.status.idle": "2023-07-03T10:01:47.351417Z",
     "shell.execute_reply": "2023-07-03T10:01:47.350641Z"
    },
    "papermill": {
     "duration": 0.089756,
     "end_time": "2023-07-03T10:01:47.388910",
     "exception": false,
     "start_time": "2023-07-03T10:01:47.299154",
     "status": "completed"
    },
    "tags": []
   },
   "outputs": [
    {
     "name": "stdout",
     "output_type": "stream",
     "text": [
      "Model: \"vgg19\"\n",
      "_________________________________________________________________\n",
      " Layer (type)                Output Shape              Param #   \n",
      "=================================================================\n",
      " input_1 (InputLayer)        [(None, 48, 48, 3)]       0         \n",
      "                                                                 \n",
      " block1_conv1 (Conv2D)       (None, 48, 48, 64)        1792      \n",
      "                                                                 \n",
      " block1_conv2 (Conv2D)       (None, 48, 48, 64)        36928     \n",
      "                                                                 \n",
      " block1_pool (MaxPooling2D)  (None, 24, 24, 64)        0         \n",
      "                                                                 \n",
      " block2_conv1 (Conv2D)       (None, 24, 24, 128)       73856     \n",
      "                                                                 \n",
      " block2_conv2 (Conv2D)       (None, 24, 24, 128)       147584    \n",
      "                                                                 \n",
      " block2_pool (MaxPooling2D)  (None, 12, 12, 128)       0         \n",
      "                                                                 \n",
      " block3_conv1 (Conv2D)       (None, 12, 12, 256)       295168    \n",
      "                                                                 \n",
      " block3_conv2 (Conv2D)       (None, 12, 12, 256)       590080    \n",
      "                                                                 \n",
      " block3_conv3 (Conv2D)       (None, 12, 12, 256)       590080    \n",
      "                                                                 \n",
      " block3_conv4 (Conv2D)       (None, 12, 12, 256)       590080    \n",
      "                                                                 \n",
      " block3_pool (MaxPooling2D)  (None, 6, 6, 256)         0         \n",
      "                                                                 \n",
      " block4_conv1 (Conv2D)       (None, 6, 6, 512)         1180160   \n",
      "                                                                 \n",
      " block4_conv2 (Conv2D)       (None, 6, 6, 512)         2359808   \n",
      "                                                                 \n",
      " block4_conv3 (Conv2D)       (None, 6, 6, 512)         2359808   \n",
      "                                                                 \n",
      " block4_conv4 (Conv2D)       (None, 6, 6, 512)         2359808   \n",
      "                                                                 \n",
      " block4_pool (MaxPooling2D)  (None, 3, 3, 512)         0         \n",
      "                                                                 \n",
      " block5_conv1 (Conv2D)       (None, 3, 3, 512)         2359808   \n",
      "                                                                 \n",
      " block5_conv2 (Conv2D)       (None, 3, 3, 512)         2359808   \n",
      "                                                                 \n",
      " block5_conv3 (Conv2D)       (None, 3, 3, 512)         2359808   \n",
      "                                                                 \n",
      " block5_conv4 (Conv2D)       (None, 3, 3, 512)         2359808   \n",
      "                                                                 \n",
      " block5_pool (MaxPooling2D)  (None, 1, 1, 512)         0         \n",
      "                                                                 \n",
      "=================================================================\n",
      "Total params: 20,024,384\n",
      "Trainable params: 20,024,384\n",
      "Non-trainable params: 0\n",
      "_________________________________________________________________\n"
     ]
    }
   ],
   "source": [
    "vgg.summary()"
   ]
  },
  {
   "cell_type": "code",
   "execution_count": 14,
   "id": "9247460d",
   "metadata": {
    "execution": {
     "iopub.execute_input": "2023-07-03T10:01:47.419633Z",
     "iopub.status.busy": "2023-07-03T10:01:47.419340Z",
     "iopub.status.idle": "2023-07-03T10:01:47.423991Z",
     "shell.execute_reply": "2023-07-03T10:01:47.423232Z"
    },
    "papermill": {
     "duration": 0.022218,
     "end_time": "2023-07-03T10:01:47.425898",
     "exception": false,
     "start_time": "2023-07-03T10:01:47.403680",
     "status": "completed"
    },
    "tags": []
   },
   "outputs": [],
   "source": [
    "def build_model(bottom_model, classes):\n",
    "    model = bottom_model.layers[-2].output\n",
    "    model = GlobalMaxPooling2D()(model)\n",
    "    model = Dense(classes, activation = 'softmax', name = 'out_layer')(model)\n",
    "    \n",
    "    return model"
   ]
  },
  {
   "cell_type": "code",
   "execution_count": 15,
   "id": "7053d984",
   "metadata": {
    "execution": {
     "iopub.execute_input": "2023-07-03T10:01:47.455872Z",
     "iopub.status.busy": "2023-07-03T10:01:47.455571Z",
     "iopub.status.idle": "2023-07-03T10:01:47.527183Z",
     "shell.execute_reply": "2023-07-03T10:01:47.526289Z"
    },
    "papermill": {
     "duration": 0.119915,
     "end_time": "2023-07-03T10:01:47.560312",
     "exception": false,
     "start_time": "2023-07-03T10:01:47.440397",
     "status": "completed"
    },
    "tags": []
   },
   "outputs": [
    {
     "name": "stdout",
     "output_type": "stream",
     "text": [
      "Model: \"model\"\n",
      "_________________________________________________________________\n",
      " Layer (type)                Output Shape              Param #   \n",
      "=================================================================\n",
      " input_1 (InputLayer)        [(None, 48, 48, 3)]       0         \n",
      "                                                                 \n",
      " block1_conv1 (Conv2D)       (None, 48, 48, 64)        1792      \n",
      "                                                                 \n",
      " block1_conv2 (Conv2D)       (None, 48, 48, 64)        36928     \n",
      "                                                                 \n",
      " block1_pool (MaxPooling2D)  (None, 24, 24, 64)        0         \n",
      "                                                                 \n",
      " block2_conv1 (Conv2D)       (None, 24, 24, 128)       73856     \n",
      "                                                                 \n",
      " block2_conv2 (Conv2D)       (None, 24, 24, 128)       147584    \n",
      "                                                                 \n",
      " block2_pool (MaxPooling2D)  (None, 12, 12, 128)       0         \n",
      "                                                                 \n",
      " block3_conv1 (Conv2D)       (None, 12, 12, 256)       295168    \n",
      "                                                                 \n",
      " block3_conv2 (Conv2D)       (None, 12, 12, 256)       590080    \n",
      "                                                                 \n",
      " block3_conv3 (Conv2D)       (None, 12, 12, 256)       590080    \n",
      "                                                                 \n",
      " block3_conv4 (Conv2D)       (None, 12, 12, 256)       590080    \n",
      "                                                                 \n",
      " block3_pool (MaxPooling2D)  (None, 6, 6, 256)         0         \n",
      "                                                                 \n",
      " block4_conv1 (Conv2D)       (None, 6, 6, 512)         1180160   \n",
      "                                                                 \n",
      " block4_conv2 (Conv2D)       (None, 6, 6, 512)         2359808   \n",
      "                                                                 \n",
      " block4_conv3 (Conv2D)       (None, 6, 6, 512)         2359808   \n",
      "                                                                 \n",
      " block4_conv4 (Conv2D)       (None, 6, 6, 512)         2359808   \n",
      "                                                                 \n",
      " block4_pool (MaxPooling2D)  (None, 3, 3, 512)         0         \n",
      "                                                                 \n",
      " block5_conv1 (Conv2D)       (None, 3, 3, 512)         2359808   \n",
      "                                                                 \n",
      " block5_conv2 (Conv2D)       (None, 3, 3, 512)         2359808   \n",
      "                                                                 \n",
      " block5_conv3 (Conv2D)       (None, 3, 3, 512)         2359808   \n",
      "                                                                 \n",
      " block5_conv4 (Conv2D)       (None, 3, 3, 512)         2359808   \n",
      "                                                                 \n",
      " global_max_pooling2d (Globa  (None, 512)              0         \n",
      " lMaxPooling2D)                                                  \n",
      "                                                                 \n",
      " out_layer (Dense)           (None, 7)                 3591      \n",
      "                                                                 \n",
      "=================================================================\n",
      "Total params: 20,027,975\n",
      "Trainable params: 20,027,975\n",
      "Non-trainable params: 0\n",
      "_________________________________________________________________\n",
      "None\n"
     ]
    }
   ],
   "source": [
    "num_classes = 7\n",
    "head = build_model(vgg, num_classes)\n",
    "\n",
    "model = Model(inputs = vgg.input, outputs = head)\n",
    "\n",
    "print(model.summary())"
   ]
  },
  {
   "cell_type": "code",
   "execution_count": 16,
   "id": "85197c3c",
   "metadata": {
    "execution": {
     "iopub.execute_input": "2023-07-03T10:01:47.600357Z",
     "iopub.status.busy": "2023-07-03T10:01:47.600023Z",
     "iopub.status.idle": "2023-07-03T10:01:47.606084Z",
     "shell.execute_reply": "2023-07-03T10:01:47.605346Z"
    },
    "papermill": {
     "duration": 0.029315,
     "end_time": "2023-07-03T10:01:47.609190",
     "exception": false,
     "start_time": "2023-07-03T10:01:47.579875",
     "status": "completed"
    },
    "tags": []
   },
   "outputs": [
    {
     "name": "stdout",
     "output_type": "stream",
     "text": [
      "input_1 True\n",
      "block1_conv1 True\n",
      "block1_conv2 True\n",
      "block1_pool True\n",
      "block2_conv1 True\n",
      "block2_conv2 True\n",
      "block2_pool True\n",
      "block3_conv1 True\n",
      "block3_conv2 True\n",
      "block3_conv3 True\n",
      "block3_conv4 True\n",
      "block3_pool True\n",
      "block4_conv1 True\n",
      "block4_conv2 True\n",
      "block4_conv3 True\n",
      "block4_conv4 True\n",
      "block4_pool True\n",
      "block5_conv1 True\n",
      "block5_conv2 True\n",
      "block5_conv3 True\n",
      "block5_conv4 True\n",
      "global_max_pooling2d True\n",
      "out_layer True\n"
     ]
    }
   ],
   "source": [
    "# Freeze layers up to block1_pool\n",
    "for layer in model.layers:\n",
    "    layer.trainable = True\n",
    "# for layer in model.layers[:4]:\n",
    "#     layer.trainable = False\n",
    "for layer in model.layers:\n",
    "    print(layer.name, layer.trainable)"
   ]
  },
  {
   "cell_type": "markdown",
   "id": "fd0a8383",
   "metadata": {
    "papermill": {
     "duration": 0.018762,
     "end_time": "2023-07-03T10:01:47.646916",
     "exception": false,
     "start_time": "2023-07-03T10:01:47.628154",
     "status": "completed"
    },
    "tags": []
   },
   "source": [
    "### I used two callbacks one is `early stopping` for avoiding overfitting training data and other `ReduceLROnPlateau` for learning rate.\n"
   ]
  },
  {
   "cell_type": "code",
   "execution_count": 17,
   "id": "b651d53e",
   "metadata": {
    "execution": {
     "iopub.execute_input": "2023-07-03T10:01:47.685818Z",
     "iopub.status.busy": "2023-07-03T10:01:47.685495Z",
     "iopub.status.idle": "2023-07-03T10:01:47.691821Z",
     "shell.execute_reply": "2023-07-03T10:01:47.690970Z"
    },
    "papermill": {
     "duration": 0.028236,
     "end_time": "2023-07-03T10:01:47.693709",
     "exception": false,
     "start_time": "2023-07-03T10:01:47.665473",
     "status": "completed"
    },
    "tags": []
   },
   "outputs": [],
   "source": [
    "early_stopping = EarlyStopping(monitor = 'val_accuracy', \n",
    "                               min_delta = 0.00005, \n",
    "                               patience = 11,\n",
    "                               verbose = 1, \n",
    "                               restore_best_weights = True,)\n",
    "\n",
    "lr_scheduler = ReduceLROnPlateau(monitor = 'val_accuracy', \n",
    "                                 factor = 0.5, \n",
    "                                 patience = 7,\n",
    "                                 min_lr = 1e-7,\n",
    "                                 verbose = 1,)\n",
    "\n",
    "callbacks = [early_stopping,lr_scheduler,]"
   ]
  },
  {
   "cell_type": "markdown",
   "id": "ea2cc90d",
   "metadata": {
    "papermill": {
     "duration": 0.019089,
     "end_time": "2023-07-03T10:01:47.732187",
     "exception": false,
     "start_time": "2023-07-03T10:01:47.713098",
     "status": "completed"
    },
    "tags": []
   },
   "source": [
    "### As the data in hand is less as compared to the task so ImageDataGenerator is good to go."
   ]
  },
  {
   "cell_type": "code",
   "execution_count": 18,
   "id": "229cf014",
   "metadata": {
    "execution": {
     "iopub.execute_input": "2023-07-03T10:01:47.771505Z",
     "iopub.status.busy": "2023-07-03T10:01:47.771211Z",
     "iopub.status.idle": "2023-07-03T10:01:48.048626Z",
     "shell.execute_reply": "2023-07-03T10:01:48.047502Z"
    },
    "papermill": {
     "duration": 0.299555,
     "end_time": "2023-07-03T10:01:48.051276",
     "exception": false,
     "start_time": "2023-07-03T10:01:47.751721",
     "status": "completed"
    },
    "tags": []
   },
   "outputs": [],
   "source": [
    "train_datagen = ImageDataGenerator(rotation_range = 15,\n",
    "                                   width_shift_range = 0.15,\n",
    "                                   height_shift_range = 0.15,\n",
    "                                   shear_range = 0.15,\n",
    "                                   zoom_range = 0.15,\n",
    "                                   horizontal_flip = True,)\n",
    "train_datagen.fit(X_train)"
   ]
  },
  {
   "cell_type": "code",
   "execution_count": 19,
   "id": "12dd68d8",
   "metadata": {
    "execution": {
     "iopub.execute_input": "2023-07-03T10:01:48.093244Z",
     "iopub.status.busy": "2023-07-03T10:01:48.092923Z",
     "iopub.status.idle": "2023-07-03T10:01:48.098834Z",
     "shell.execute_reply": "2023-07-03T10:01:48.097725Z"
    },
    "papermill": {
     "duration": 0.030203,
     "end_time": "2023-07-03T10:01:48.100754",
     "exception": false,
     "start_time": "2023-07-03T10:01:48.070551",
     "status": "completed"
    },
    "tags": []
   },
   "outputs": [],
   "source": [
    "def focal_loss(gamma=2):\n",
    "    def loss(y_true, y_pred):\n",
    "        ce_loss = tf.keras.losses.categorical_crossentropy(y_true, y_pred, from_logits=True)\n",
    "        pt = tf.math.exp(-ce_loss)\n",
    "        focal_loss = tf.pow(1 - pt, gamma) * ce_loss\n",
    "        return focal_loss\n",
    "    return loss\n",
    "gamma = 2"
   ]
  },
  {
   "cell_type": "code",
   "execution_count": 20,
   "id": "be2fd0d4",
   "metadata": {
    "execution": {
     "iopub.execute_input": "2023-07-03T10:01:48.140688Z",
     "iopub.status.busy": "2023-07-03T10:01:48.139960Z",
     "iopub.status.idle": "2023-07-03T10:01:48.158855Z",
     "shell.execute_reply": "2023-07-03T10:01:48.157895Z"
    },
    "papermill": {
     "duration": 0.040524,
     "end_time": "2023-07-03T10:01:48.160812",
     "exception": false,
     "start_time": "2023-07-03T10:01:48.120288",
     "status": "completed"
    },
    "tags": []
   },
   "outputs": [],
   "source": [
    "# batch size of 32 performs the best.\n",
    "batch_size = 32 \n",
    "epochs = 60\n",
    "optims = [optimizers.Adam(learning_rate = 0.0001, beta_1 = 0.9, beta_2 = 0.999),]\n",
    "\n",
    "model.compile(loss= focal_loss(gamma=gamma),\n",
    "              optimizer = optims[0],\n",
    "              metrics = ['accuracy'])\n"
   ]
  },
  {
   "cell_type": "code",
   "execution_count": 21,
   "id": "328b34e4",
   "metadata": {
    "execution": {
     "iopub.execute_input": "2023-07-03T10:01:48.200229Z",
     "iopub.status.busy": "2023-07-03T10:01:48.199398Z",
     "iopub.status.idle": "2023-07-03T11:13:24.795899Z",
     "shell.execute_reply": "2023-07-03T11:13:24.793870Z"
    },
    "papermill": {
     "duration": 4296.620483,
     "end_time": "2023-07-03T11:13:24.800157",
     "exception": false,
     "start_time": "2023-07-03T10:01:48.179674",
     "status": "completed"
    },
    "tags": []
   },
   "outputs": [
    {
     "name": "stdout",
     "output_type": "stream",
     "text": [
      "Epoch 1/60\n"
     ]
    },
    {
     "name": "stderr",
     "output_type": "stream",
     "text": [
      "/opt/conda/lib/python3.10/site-packages/keras/backend.py:5561: UserWarning: \"`categorical_crossentropy` received `from_logits=True`, but the `output` argument was produced by a Softmax activation and thus does not represent logits. Was this intended?\n",
      "  output, from_logits = _get_logits(\n"
     ]
    },
    {
     "name": "stdout",
     "output_type": "stream",
     "text": [
      "898/898 [==============================] - 82s 76ms/step - loss: 0.9732 - accuracy: 0.4185 - val_loss: 0.7861 - val_accuracy: 0.5131 - lr: 1.0000e-04\n",
      "Epoch 2/60\n",
      "898/898 [==============================] - 61s 68ms/step - loss: 0.7810 - accuracy: 0.5156 - val_loss: 0.6900 - val_accuracy: 0.5637 - lr: 1.0000e-04\n",
      "Epoch 3/60\n",
      "898/898 [==============================] - 66s 73ms/step - loss: 0.7132 - accuracy: 0.5451 - val_loss: 0.6645 - val_accuracy: 0.5846 - lr: 1.0000e-04\n",
      "Epoch 4/60\n",
      "898/898 [==============================] - 64s 72ms/step - loss: 0.6669 - accuracy: 0.5750 - val_loss: 0.6310 - val_accuracy: 0.5910 - lr: 1.0000e-04\n",
      "Epoch 5/60\n",
      "898/898 [==============================] - 64s 72ms/step - loss: 0.6325 - accuracy: 0.5883 - val_loss: 0.6454 - val_accuracy: 0.5925 - lr: 1.0000e-04\n",
      "Epoch 6/60\n",
      "898/898 [==============================] - 64s 71ms/step - loss: 0.6036 - accuracy: 0.6010 - val_loss: 0.5935 - val_accuracy: 0.6116 - lr: 1.0000e-04\n",
      "Epoch 7/60\n",
      "898/898 [==============================] - 64s 71ms/step - loss: 0.5814 - accuracy: 0.6090 - val_loss: 0.6082 - val_accuracy: 0.6147 - lr: 1.0000e-04\n",
      "Epoch 8/60\n",
      "898/898 [==============================] - 64s 71ms/step - loss: 0.5565 - accuracy: 0.6260 - val_loss: 0.5692 - val_accuracy: 0.6257 - lr: 1.0000e-04\n",
      "Epoch 9/60\n",
      "898/898 [==============================] - 63s 71ms/step - loss: 0.5405 - accuracy: 0.6295 - val_loss: 0.5740 - val_accuracy: 0.6296 - lr: 1.0000e-04\n",
      "Epoch 10/60\n",
      "898/898 [==============================] - 63s 70ms/step - loss: 0.5243 - accuracy: 0.6382 - val_loss: 0.5707 - val_accuracy: 0.6262 - lr: 1.0000e-04\n",
      "Epoch 11/60\n",
      "898/898 [==============================] - 64s 71ms/step - loss: 0.5053 - accuracy: 0.6490 - val_loss: 0.5418 - val_accuracy: 0.6409 - lr: 1.0000e-04\n",
      "Epoch 12/60\n",
      "898/898 [==============================] - 66s 74ms/step - loss: 0.4881 - accuracy: 0.6577 - val_loss: 0.5503 - val_accuracy: 0.6420 - lr: 1.0000e-04\n",
      "Epoch 13/60\n",
      "898/898 [==============================] - 67s 75ms/step - loss: 0.4757 - accuracy: 0.6645 - val_loss: 0.5414 - val_accuracy: 0.6459 - lr: 1.0000e-04\n",
      "Epoch 14/60\n",
      "898/898 [==============================] - 65s 72ms/step - loss: 0.4656 - accuracy: 0.6715 - val_loss: 0.5645 - val_accuracy: 0.6352 - lr: 1.0000e-04\n",
      "Epoch 15/60\n",
      "898/898 [==============================] - 63s 70ms/step - loss: 0.4494 - accuracy: 0.6771 - val_loss: 0.5536 - val_accuracy: 0.6524 - lr: 1.0000e-04\n",
      "Epoch 16/60\n",
      "898/898 [==============================] - 65s 73ms/step - loss: 0.4314 - accuracy: 0.6851 - val_loss: 0.5497 - val_accuracy: 0.6535 - lr: 1.0000e-04\n",
      "Epoch 17/60\n",
      "898/898 [==============================] - 66s 74ms/step - loss: 0.4225 - accuracy: 0.6899 - val_loss: 0.5397 - val_accuracy: 0.6533 - lr: 1.0000e-04\n",
      "Epoch 18/60\n",
      "898/898 [==============================] - 67s 74ms/step - loss: 0.4123 - accuracy: 0.6918 - val_loss: 0.5274 - val_accuracy: 0.6516 - lr: 1.0000e-04\n",
      "Epoch 19/60\n",
      "898/898 [==============================] - 65s 72ms/step - loss: 0.4000 - accuracy: 0.7006 - val_loss: 0.5589 - val_accuracy: 0.6411 - lr: 1.0000e-04\n",
      "Epoch 20/60\n",
      "898/898 [==============================] - 67s 74ms/step - loss: 0.3844 - accuracy: 0.7071 - val_loss: 0.5566 - val_accuracy: 0.6516 - lr: 1.0000e-04\n",
      "Epoch 21/60\n",
      "898/898 [==============================] - 67s 74ms/step - loss: 0.3765 - accuracy: 0.7139 - val_loss: 0.5387 - val_accuracy: 0.6583 - lr: 1.0000e-04\n",
      "Epoch 22/60\n",
      "898/898 [==============================] - 66s 73ms/step - loss: 0.3615 - accuracy: 0.7202 - val_loss: 0.5554 - val_accuracy: 0.6555 - lr: 1.0000e-04\n",
      "Epoch 23/60\n",
      "898/898 [==============================] - 67s 74ms/step - loss: 0.3568 - accuracy: 0.7241 - val_loss: 0.5933 - val_accuracy: 0.6454 - lr: 1.0000e-04\n",
      "Epoch 24/60\n",
      "898/898 [==============================] - 67s 74ms/step - loss: 0.3436 - accuracy: 0.7270 - val_loss: 0.5517 - val_accuracy: 0.6552 - lr: 1.0000e-04\n",
      "Epoch 25/60\n",
      "898/898 [==============================] - 67s 74ms/step - loss: 0.3336 - accuracy: 0.7337 - val_loss: 0.5782 - val_accuracy: 0.6639 - lr: 1.0000e-04\n",
      "Epoch 26/60\n",
      "898/898 [==============================] - 66s 74ms/step - loss: 0.3228 - accuracy: 0.7420 - val_loss: 0.5561 - val_accuracy: 0.6617 - lr: 1.0000e-04\n",
      "Epoch 27/60\n",
      "898/898 [==============================] - 65s 72ms/step - loss: 0.3144 - accuracy: 0.7445 - val_loss: 0.5736 - val_accuracy: 0.6572 - lr: 1.0000e-04\n",
      "Epoch 28/60\n",
      "898/898 [==============================] - 66s 73ms/step - loss: 0.3052 - accuracy: 0.7481 - val_loss: 0.5454 - val_accuracy: 0.6718 - lr: 1.0000e-04\n",
      "Epoch 29/60\n",
      "898/898 [==============================] - 65s 72ms/step - loss: 0.2975 - accuracy: 0.7524 - val_loss: 0.6055 - val_accuracy: 0.6502 - lr: 1.0000e-04\n",
      "Epoch 30/60\n",
      "898/898 [==============================] - 64s 72ms/step - loss: 0.2908 - accuracy: 0.7553 - val_loss: 0.5780 - val_accuracy: 0.6637 - lr: 1.0000e-04\n",
      "Epoch 31/60\n",
      "898/898 [==============================] - 64s 71ms/step - loss: 0.2783 - accuracy: 0.7611 - val_loss: 0.6144 - val_accuracy: 0.6611 - lr: 1.0000e-04\n",
      "Epoch 32/60\n",
      "898/898 [==============================] - 64s 71ms/step - loss: 0.2814 - accuracy: 0.7626 - val_loss: 0.5562 - val_accuracy: 0.6665 - lr: 1.0000e-04\n",
      "Epoch 33/60\n",
      "898/898 [==============================] - 64s 71ms/step - loss: 0.2669 - accuracy: 0.7695 - val_loss: 0.6038 - val_accuracy: 0.6592 - lr: 1.0000e-04\n",
      "Epoch 34/60\n",
      "898/898 [==============================] - 65s 72ms/step - loss: 0.2556 - accuracy: 0.7767 - val_loss: 0.5913 - val_accuracy: 0.6718 - lr: 1.0000e-04\n",
      "Epoch 35/60\n",
      "898/898 [==============================] - 63s 70ms/step - loss: 0.2554 - accuracy: 0.7758 - val_loss: 0.5822 - val_accuracy: 0.6777 - lr: 1.0000e-04\n",
      "Epoch 36/60\n",
      "898/898 [==============================] - 65s 72ms/step - loss: 0.2454 - accuracy: 0.7807 - val_loss: 0.6095 - val_accuracy: 0.6662 - lr: 1.0000e-04\n",
      "Epoch 37/60\n",
      "898/898 [==============================] - 66s 73ms/step - loss: 0.2394 - accuracy: 0.7884 - val_loss: 0.6010 - val_accuracy: 0.6620 - lr: 1.0000e-04\n",
      "Epoch 38/60\n",
      "898/898 [==============================] - 65s 73ms/step - loss: 0.2303 - accuracy: 0.7939 - val_loss: 0.6254 - val_accuracy: 0.6583 - lr: 1.0000e-04\n",
      "Epoch 39/60\n",
      "898/898 [==============================] - 63s 70ms/step - loss: 0.2256 - accuracy: 0.7959 - val_loss: 0.6700 - val_accuracy: 0.6538 - lr: 1.0000e-04\n",
      "Epoch 40/60\n",
      "898/898 [==============================] - 63s 70ms/step - loss: 0.2200 - accuracy: 0.7975 - val_loss: 0.6434 - val_accuracy: 0.6715 - lr: 1.0000e-04\n",
      "Epoch 41/60\n",
      "898/898 [==============================] - 62s 69ms/step - loss: 0.2177 - accuracy: 0.8022 - val_loss: 0.6441 - val_accuracy: 0.6673 - lr: 1.0000e-04\n",
      "Epoch 42/60\n",
      "899/898 [==============================] - ETA: 0s - loss: 0.2096 - accuracy: 0.8061\n",
      "Epoch 42: ReduceLROnPlateau reducing learning rate to 4.999999873689376e-05.\n",
      "898/898 [==============================] - 65s 72ms/step - loss: 0.2096 - accuracy: 0.8061 - val_loss: 0.6456 - val_accuracy: 0.6639 - lr: 1.0000e-04\n",
      "Epoch 43/60\n",
      "898/898 [==============================] - 66s 73ms/step - loss: 0.1643 - accuracy: 0.8383 - val_loss: 0.7064 - val_accuracy: 0.6645 - lr: 5.0000e-05\n",
      "Epoch 44/60\n",
      "898/898 [==============================] - 63s 70ms/step - loss: 0.1441 - accuracy: 0.8523 - val_loss: 0.7418 - val_accuracy: 0.6673 - lr: 5.0000e-05\n",
      "Epoch 45/60\n",
      "898/898 [==============================] - 64s 71ms/step - loss: 0.1397 - accuracy: 0.8542 - val_loss: 0.7291 - val_accuracy: 0.6831 - lr: 5.0000e-05\n",
      "Epoch 46/60\n",
      "898/898 [==============================] - 64s 71ms/step - loss: 0.1369 - accuracy: 0.8589 - val_loss: 0.7586 - val_accuracy: 0.6777 - lr: 5.0000e-05\n",
      "Epoch 47/60\n",
      "898/898 [==============================] - 64s 72ms/step - loss: 0.1311 - accuracy: 0.8617 - val_loss: 0.7407 - val_accuracy: 0.6752 - lr: 5.0000e-05\n",
      "Epoch 48/60\n",
      "898/898 [==============================] - 65s 72ms/step - loss: 0.1267 - accuracy: 0.8655 - val_loss: 0.7484 - val_accuracy: 0.6848 - lr: 5.0000e-05\n",
      "Epoch 49/60\n",
      "898/898 [==============================] - 64s 71ms/step - loss: 0.1229 - accuracy: 0.8685 - val_loss: 0.7610 - val_accuracy: 0.6744 - lr: 5.0000e-05\n",
      "Epoch 50/60\n",
      "898/898 [==============================] - 64s 71ms/step - loss: 0.1191 - accuracy: 0.8718 - val_loss: 0.8009 - val_accuracy: 0.6741 - lr: 5.0000e-05\n",
      "Epoch 51/60\n",
      "898/898 [==============================] - 67s 75ms/step - loss: 0.1149 - accuracy: 0.8775 - val_loss: 0.8224 - val_accuracy: 0.6786 - lr: 5.0000e-05\n",
      "Epoch 52/60\n",
      "898/898 [==============================] - 64s 72ms/step - loss: 0.1123 - accuracy: 0.8767 - val_loss: 0.7940 - val_accuracy: 0.6786 - lr: 5.0000e-05\n",
      "Epoch 53/60\n",
      "898/898 [==============================] - 65s 72ms/step - loss: 0.1082 - accuracy: 0.8810 - val_loss: 0.7942 - val_accuracy: 0.6811 - lr: 5.0000e-05\n",
      "Epoch 54/60\n",
      "898/898 [==============================] - 64s 71ms/step - loss: 0.1061 - accuracy: 0.8832 - val_loss: 0.8304 - val_accuracy: 0.6755 - lr: 5.0000e-05\n",
      "Epoch 55/60\n",
      "899/898 [==============================] - ETA: 0s - loss: 0.1006 - accuracy: 0.8882\n",
      "Epoch 55: ReduceLROnPlateau reducing learning rate to 2.499999936844688e-05.\n",
      "898/898 [==============================] - 64s 71ms/step - loss: 0.1006 - accuracy: 0.8882 - val_loss: 0.8279 - val_accuracy: 0.6769 - lr: 5.0000e-05\n",
      "Epoch 56/60\n",
      "898/898 [==============================] - 65s 72ms/step - loss: 0.0865 - accuracy: 0.9004 - val_loss: 0.8730 - val_accuracy: 0.6842 - lr: 2.5000e-05\n",
      "Epoch 57/60\n",
      "898/898 [==============================] - 64s 71ms/step - loss: 0.0800 - accuracy: 0.9084 - val_loss: 0.9046 - val_accuracy: 0.6912 - lr: 2.5000e-05\n",
      "Epoch 58/60\n",
      "898/898 [==============================] - 62s 69ms/step - loss: 0.0771 - accuracy: 0.9107 - val_loss: 0.9106 - val_accuracy: 0.6851 - lr: 2.5000e-05\n",
      "Epoch 59/60\n",
      "898/898 [==============================] - 63s 70ms/step - loss: 0.0739 - accuracy: 0.9122 - val_loss: 0.9042 - val_accuracy: 0.6806 - lr: 2.5000e-05\n",
      "Epoch 60/60\n",
      "898/898 [==============================] - 64s 71ms/step - loss: 0.0705 - accuracy: 0.9145 - val_loss: 0.9118 - val_accuracy: 0.6791 - lr: 2.5000e-05\n"
     ]
    }
   ],
   "source": [
    "history = model.fit(train_datagen.flow(X_train, \n",
    "                                       y_train, \n",
    "                                       batch_size = batch_size),\n",
    "                                       validation_data = (X_valid, y_valid),\n",
    "                                       steps_per_epoch = len(X_train) / batch_size,\n",
    "\n",
    "                                       epochs = epochs,\n",
    "                                       callbacks = callbacks,\n",
    "                                       use_multiprocessing = True)"
   ]
  },
  {
   "cell_type": "code",
   "execution_count": null,
   "id": "72f9d083",
   "metadata": {
    "execution": {
     "iopub.execute_input": "2023-06-30T10:01:17.508100Z",
     "iopub.status.busy": "2023-06-30T10:01:17.507729Z",
     "iopub.status.idle": "2023-06-30T10:04:37.184619Z",
     "shell.execute_reply": "2023-06-30T10:04:37.182641Z",
     "shell.execute_reply.started": "2023-06-30T10:01:17.508072Z"
    },
    "papermill": {
     "duration": 3.494155,
     "end_time": "2023-07-03T11:13:31.807756",
     "exception": false,
     "start_time": "2023-07-03T11:13:28.313601",
     "status": "completed"
    },
    "tags": []
   },
   "outputs": [],
   "source": []
  },
  {
   "cell_type": "markdown",
   "id": "01339310",
   "metadata": {
    "papermill": {
     "duration": 3.950498,
     "end_time": "2023-07-03T11:13:39.396149",
     "exception": false,
     "start_time": "2023-07-03T11:13:35.445651",
     "status": "completed"
    },
    "tags": []
   },
   "source": [
    "## Saving model"
   ]
  },
  {
   "cell_type": "code",
   "execution_count": 22,
   "id": "3af4f0a9",
   "metadata": {
    "execution": {
     "iopub.execute_input": "2023-07-03T11:13:46.397336Z",
     "iopub.status.busy": "2023-07-03T11:13:46.396958Z",
     "iopub.status.idle": "2023-07-03T11:13:46.835308Z",
     "shell.execute_reply": "2023-07-03T11:13:46.834298Z"
    },
    "papermill": {
     "duration": 3.959933,
     "end_time": "2023-07-03T11:13:46.837975",
     "exception": false,
     "start_time": "2023-07-03T11:13:42.878042",
     "status": "completed"
    },
    "tags": []
   },
   "outputs": [],
   "source": [
    "model_yaml = model.to_json()\n",
    "with open(\"model.yaml\", \"w\") as yaml_file:\n",
    "    yaml_file.write(model_yaml)\n",
    "    \n",
    "model.save(\"model.h5\")"
   ]
  },
  {
   "cell_type": "markdown",
   "id": "530f6f49",
   "metadata": {
    "papermill": {
     "duration": 3.476744,
     "end_time": "2023-07-03T11:13:53.921623",
     "exception": false,
     "start_time": "2023-07-03T11:13:50.444879",
     "status": "completed"
    },
    "tags": []
   },
   "source": [
    "## Result Visualization"
   ]
  },
  {
   "cell_type": "code",
   "execution_count": 23,
   "id": "33d14926",
   "metadata": {
    "execution": {
     "iopub.execute_input": "2023-07-03T11:14:01.181594Z",
     "iopub.status.busy": "2023-07-03T11:14:01.181062Z",
     "iopub.status.idle": "2023-07-03T11:14:02.409968Z",
     "shell.execute_reply": "2023-07-03T11:14:02.407619Z"
    },
    "papermill": {
     "duration": 4.778746,
     "end_time": "2023-07-03T11:14:02.412184",
     "exception": false,
     "start_time": "2023-07-03T11:13:57.633438",
     "status": "completed"
    },
    "tags": []
   },
   "outputs": [
    {
     "data": {
      "image/png": "[encoded data removed]",
      "text/plain": [
       "<Figure size 1200x400 with 2 Axes>"
      ]
     },
     "metadata": {},
     "output_type": "display_data"
    }
   ],
   "source": [
    "sns.set()\n",
    "fig = pyplot.figure(0, (12, 4))\n",
    "\n",
    "ax = pyplot.subplot(1, 2, 1)\n",
    "sns.lineplot(x=history.epoch, y=history.history['accuracy'], label='train')\n",
    "sns.lineplot(x=history.epoch, y=history.history['val_accuracy'], label='valid')\n",
    "pyplot.title('Accuracy')\n",
    "pyplot.tight_layout()\n",
    "\n",
    "ax = pyplot.subplot(1, 2, 2)\n",
    "sns.lineplot(x=history.epoch, y=history.history['loss'], label='train')\n",
    "sns.lineplot(x=history.epoch, y=history.history['val_loss'], label='valid')\n",
    "pyplot.title('Loss')\n",
    "pyplot.tight_layout()\n",
    "\n",
    "pyplot.savefig('epoch_history_dcnn.png')\n",
    "pyplot.show()\n"
   ]
  },
  {
   "cell_type": "code",
   "execution_count": 24,
   "id": "0423fa26",
   "metadata": {
    "execution": {
     "iopub.execute_input": "2023-07-03T11:14:09.439699Z",
     "iopub.status.busy": "2023-07-03T11:14:09.439221Z",
     "iopub.status.idle": "2023-07-03T11:14:10.665531Z",
     "shell.execute_reply": "2023-07-03T11:14:10.664621Z"
    },
    "papermill": {
     "duration": 4.763932,
     "end_time": "2023-07-03T11:14:10.668118",
     "exception": false,
     "start_time": "2023-07-03T11:14:05.904186",
     "status": "completed"
    },
    "tags": []
   },
   "outputs": [
    {
     "data": {
      "image/png": "[encoded data removed]",
      "text/plain": [
       "<Figure size 1400x400 with 2 Axes>"
      ]
     },
     "metadata": {},
     "output_type": "display_data"
    }
   ],
   "source": [
    "df_accu = pd.DataFrame({'train': history.history['accuracy'], 'valid': history.history['val_accuracy']})\n",
    "df_loss = pd.DataFrame({'train': history.history['loss'], 'valid': history.history['val_loss']})\n",
    "\n",
    "fig = pyplot.figure(0, (14, 4))\n",
    "ax = pyplot.subplot(1, 2, 1)\n",
    "sns.violinplot(x=\"variable\", y=\"value\", data=pd.melt(df_accu), showfliers=False)\n",
    "pyplot.title('Accuracy')\n",
    "pyplot.tight_layout()\n",
    "\n",
    "ax = pyplot.subplot(1, 2, 2)\n",
    "sns.violinplot(x=\"variable\", y=\"value\", data=pd.melt(df_loss), showfliers=False)\n",
    "pyplot.title('Loss')\n",
    "pyplot.tight_layout()\n",
    "\n",
    "pyplot.savefig('performance_dist.png')\n",
    "pyplot.show()"
   ]
  },
  {
   "cell_type": "code",
   "execution_count": 25,
   "id": "81a8b7e1",
   "metadata": {
    "execution": {
     "iopub.execute_input": "2023-07-03T11:14:17.791403Z",
     "iopub.status.busy": "2023-07-03T11:14:17.790984Z",
     "iopub.status.idle": "2023-07-03T11:14:20.012704Z",
     "shell.execute_reply": "2023-07-03T11:14:20.011803Z"
    },
    "papermill": {
     "duration": 5.730152,
     "end_time": "2023-07-03T11:14:20.014790",
     "exception": false,
     "start_time": "2023-07-03T11:14:14.284638",
     "status": "completed"
    },
    "tags": []
   },
   "outputs": [
    {
     "name": "stdout",
     "output_type": "stream",
     "text": [
      "This is for testing data\n",
      "113/113 [==============================] - 1s 9ms/step\n",
      "total wrong validation predictions: 1122\n",
      "\n",
      "\n",
      "              precision    recall  f1-score   support\n",
      "\n",
      "           0     0.6338    0.5980    0.6154       495\n",
      "           1     0.6792    0.6545    0.6667        55\n",
      "           2     0.5733    0.5195    0.5451       512\n",
      "           3     0.9004    0.8343    0.8661       899\n",
      "           4     0.5822    0.5477    0.5644       608\n",
      "           5     0.7749    0.8175    0.7956       400\n",
      "           6     0.5900    0.7403    0.6567       620\n",
      "\n",
      "    accuracy                         0.6874      3589\n",
      "   macro avg     0.6762    0.6731    0.6728      3589\n",
      "weighted avg     0.6920    0.6874    0.6875      3589\n",
      "\n"
     ]
    },
    {
     "data": {
      "image/png": "[encoded data removed]",
      "text/plain": [
       "<Figure size 700x700 with 2 Axes>"
      ]
     },
     "metadata": {},
     "output_type": "display_data"
    }
   ],
   "source": [
    "print(\"This is for testing data\")\n",
    "yhat_test = np.argmax(model.predict(X_test), axis=1)\n",
    "scikitplot.metrics.plot_confusion_matrix(np.argmax(y_test, axis=1), yhat_test, figsize=(7,7))\n",
    "pyplot.savefig(\"confusion_matrix_dcnn.png\")\n",
    "\n",
    "print(f'total wrong validation predictions: {np.sum(np.argmax(y_test, axis=1) != yhat_test)}\\n\\n')\n",
    "report = classification_report(np.argmax(y_test, axis=1), yhat_test, digits=4)\n",
    "print(report)"
   ]
  },
  {
   "cell_type": "code",
   "execution_count": 26,
   "id": "bc157df4",
   "metadata": {
    "execution": {
     "iopub.execute_input": "2023-07-03T11:14:27.064405Z",
     "iopub.status.busy": "2023-07-03T11:14:27.064022Z",
     "iopub.status.idle": "2023-07-03T11:14:28.895286Z",
     "shell.execute_reply": "2023-07-03T11:14:28.893451Z"
    },
    "papermill": {
     "duration": 5.408285,
     "end_time": "2023-07-03T11:14:28.897443",
     "exception": false,
     "start_time": "2023-07-03T11:14:23.489158",
     "status": "completed"
    },
    "tags": []
   },
   "outputs": [
    {
     "name": "stdout",
     "output_type": "stream",
     "text": [
      "this is for validationd data\n",
      "112/112 [==============================] - 1s 8ms/step\n",
      "total wrong validation predictions: 1140\n",
      "\n",
      "\n",
      "              precision    recall  f1-score   support\n",
      "\n",
      "           0     0.6338    0.5980    0.6154       495\n",
      "           1     0.6792    0.6545    0.6667        55\n",
      "           2     0.5733    0.5195    0.5451       512\n",
      "           3     0.9004    0.8343    0.8661       899\n",
      "           4     0.5822    0.5477    0.5644       608\n",
      "           5     0.7749    0.8175    0.7956       400\n",
      "           6     0.5900    0.7403    0.6567       620\n",
      "\n",
      "    accuracy                         0.6874      3589\n",
      "   macro avg     0.6762    0.6731    0.6728      3589\n",
      "weighted avg     0.6920    0.6874    0.6875      3589\n",
      "\n"
     ]
    },
    {
     "data": {
      "image/png": "[encoded data removed]",
      "text/plain": [
       "<Figure size 700x700 with 2 Axes>"
      ]
     },
     "metadata": {},
     "output_type": "display_data"
    }
   ],
   "source": [
    "print(\"this is for validationd data\")\n",
    "yhat_valid = np.argmax(model.predict(X_valid), axis=1)\n",
    "scikitplot.metrics.plot_confusion_matrix(np.argmax(y_valid, axis=1), yhat_valid, figsize=(7,7))\n",
    "pyplot.savefig(\"confusion_matrix_dcnn.png\")\n",
    "\n",
    "print(f'total wrong validation predictions: {np.sum(np.argmax(y_valid, axis=1) != yhat_valid)}\\n\\n')\n",
    "report = classification_report(np.argmax(y_test, axis=1), yhat_test, digits=4)\n",
    "print(report)"
   ]
  },
  {
   "cell_type": "code",
   "execution_count": null,
   "id": "e1154e11",
   "metadata": {
    "papermill": {
     "duration": 3.526506,
     "end_time": "2023-07-03T11:14:35.949432",
     "exception": false,
     "start_time": "2023-07-03T11:14:32.422926",
     "status": "completed"
    },
    "tags": []
   },
   "outputs": [],
   "source": []
  }
 ],
 "metadata": {
  "kernelspec": {
   "display_name": "Python 3",
   "language": "python",
   "name": "python3"
  },
  "language_info": {
   "codemirror_mode": {
    "name": "ipython",
    "version": 3
   },
   "file_extension": ".py",
   "mimetype": "text/x-python",
   "name": "python",
   "nbconvert_exporter": "python",
   "pygments_lexer": "ipython3",
   "version": "3.10.10"
  },
  "papermill": {
   "default_parameters": {},
   "duration": 4485.467438,
   "end_time": "2023-07-03T11:14:43.203364",
   "environment_variables": {},
   "exception": null,
   "input_path": "__notebook__.ipynb",
   "output_path": "__notebook__.ipynb",
   "parameters": {},
   "start_time": "2023-07-03T09:59:57.735926",
   "version": "2.4.0"
  }
 },
 "nbformat": 4,
 "nbformat_minor": 5
}
