{
 "cells": [
  {
   "cell_type": "markdown",
   "id": "0c28b8f6",
   "metadata": {
    "papermill": {
     "duration": 0.009539,
     "end_time": "2023-06-30T10:09:53.179174",
     "exception": false,
     "start_time": "2023-06-30T10:09:53.169635",
     "status": "completed"
    },
    "tags": []
   },
   "source": [
    "# Facial Emotion Recognition | VGG19 Model - FER2013 Dataset"
   ]
  },
  {
   "cell_type": "markdown",
   "id": "b72da5a5",
   "metadata": {
    "papermill": {
     "duration": 0.008534,
     "end_time": "2023-06-30T10:09:53.196892",
     "exception": false,
     "start_time": "2023-06-30T10:09:53.188358",
     "status": "completed"
    },
    "tags": []
   },
   "source": [
    "## Library"
   ]
  },
  {
   "cell_type": "code",
   "execution_count": 1,
   "id": "3a3131d5",
   "metadata": {
    "execution": {
     "iopub.execute_input": "2023-06-30T10:09:53.216207Z",
     "iopub.status.busy": "2023-06-30T10:09:53.215785Z",
     "iopub.status.idle": "2023-06-30T10:10:02.666469Z",
     "shell.execute_reply": "2023-06-30T10:10:02.665504Z"
    },
    "papermill": {
     "duration": 9.463003,
     "end_time": "2023-06-30T10:10:02.668815",
     "exception": false,
     "start_time": "2023-06-30T10:09:53.205812",
     "status": "completed"
    },
    "tags": []
   },
   "outputs": [
    {
     "name": "stderr",
     "output_type": "stream",
     "text": [
      "/opt/conda/lib/python3.10/site-packages/tensorflow_io/python/ops/__init__.py:98: UserWarning: unable to load libtensorflow_io_plugins.so: unable to open file: libtensorflow_io_plugins.so, from paths: ['/opt/conda/lib/python3.10/site-packages/tensorflow_io/python/ops/libtensorflow_io_plugins.so']\n",
      "caused by: ['/opt/conda/lib/python3.10/site-packages/tensorflow_io/python/ops/libtensorflow_io_plugins.so: undefined symbol: _ZN3tsl6StatusC1EN10tensorflow5error4CodeESt17basic_string_viewIcSt11char_traitsIcEENS_14SourceLocationE']\n",
      "  warnings.warn(f\"unable to load libtensorflow_io_plugins.so: {e}\")\n",
      "/opt/conda/lib/python3.10/site-packages/tensorflow_io/python/ops/__init__.py:104: UserWarning: file system plugins are not loaded: unable to open file: libtensorflow_io.so, from paths: ['/opt/conda/lib/python3.10/site-packages/tensorflow_io/python/ops/libtensorflow_io.so']\n",
      "caused by: ['/opt/conda/lib/python3.10/site-packages/tensorflow_io/python/ops/libtensorflow_io.so: undefined symbol: _ZTVN10tensorflow13GcsFileSystemE']\n",
      "  warnings.warn(f\"file system plugins are not loaded: {e}\")\n"
     ]
    }
   ],
   "source": [
    "import math\n",
    "import numpy as np\n",
    "import pandas as pd\n",
    "\n",
    "import cv2\n",
    "import scikitplot\n",
    "import seaborn as sns\n",
    "from matplotlib import pyplot\n",
    "\n",
    "from sklearn.model_selection import train_test_split\n",
    "from sklearn.preprocessing import LabelEncoder\n",
    "from sklearn.metrics import classification_report\n",
    "\n",
    "import tensorflow as tf\n",
    "from tensorflow.keras import optimizers\n",
    "from tensorflow.keras.models import Model\n",
    "from tensorflow.keras.layers import Flatten, Dense, Conv2D, GlobalAveragePooling2D, GlobalMaxPooling2D\n",
    "from tensorflow.keras.layers import Dropout, BatchNormalization, Activation\n",
    "from tensorflow.keras.callbacks import Callback, EarlyStopping, ReduceLROnPlateau\n",
    "from tensorflow.keras.preprocessing.image import ImageDataGenerator\n",
    "\n",
    "from keras.utils import np_utils"
   ]
  },
  {
   "cell_type": "markdown",
   "id": "894aceba",
   "metadata": {
    "execution": {
     "iopub.execute_input": "2023-06-29T06:13:44.132285Z",
     "iopub.status.busy": "2023-06-29T06:13:44.131210Z",
     "iopub.status.idle": "2023-06-29T06:13:44.139785Z",
     "shell.execute_reply": "2023-06-29T06:13:44.138594Z",
     "shell.execute_reply.started": "2023-06-29T06:13:44.132217Z"
    },
    "papermill": {
     "duration": 0.008646,
     "end_time": "2023-06-30T10:10:02.686815",
     "exception": false,
     "start_time": "2023-06-30T10:10:02.678169",
     "status": "completed"
    },
    "tags": []
   },
   "source": [
    "## Extract data from dataset and rehshape data back to 2D dimension"
   ]
  },
  {
   "cell_type": "code",
   "execution_count": 2,
   "id": "3d2fda3c",
   "metadata": {
    "execution": {
     "iopub.execute_input": "2023-06-30T10:10:02.706852Z",
     "iopub.status.busy": "2023-06-30T10:10:02.705467Z",
     "iopub.status.idle": "2023-06-30T10:10:08.957800Z",
     "shell.execute_reply": "2023-06-30T10:10:08.956723Z"
    },
    "papermill": {
     "duration": 6.26529,
     "end_time": "2023-06-30T10:10:08.960745",
     "exception": false,
     "start_time": "2023-06-30T10:10:02.695455",
     "status": "completed"
    },
    "tags": []
   },
   "outputs": [
    {
     "name": "stdout",
     "output_type": "stream",
     "text": [
      "(35887, 3)\n"
     ]
    },
    {
     "data": {
      "text/html": [
       "<div>\n",
       "<style scoped>\n",
       "    .dataframe tbody tr th:only-of-type {\n",
       "        vertical-align: middle;\n",
       "    }\n",
       "\n",
       "    .dataframe tbody tr th {\n",
       "        vertical-align: top;\n",
       "    }\n",
       "\n",
       "    .dataframe thead th {\n",
       "        text-align: right;\n",
       "    }\n",
       "</style>\n",
       "<table border=\"1\" class=\"dataframe\">\n",
       "  <thead>\n",
       "    <tr style=\"text-align: right;\">\n",
       "      <th></th>\n",
       "      <th>emotion</th>\n",
       "      <th>pixels</th>\n",
       "      <th>Usage</th>\n",
       "    </tr>\n",
       "  </thead>\n",
       "  <tbody>\n",
       "    <tr>\n",
       "      <th>0</th>\n",
       "      <td>0</td>\n",
       "      <td>70 80 82 72 58 58 60 63 54 58 60 48 89 115 121...</td>\n",
       "      <td>Training</td>\n",
       "    </tr>\n",
       "    <tr>\n",
       "      <th>1</th>\n",
       "      <td>0</td>\n",
       "      <td>151 150 147 155 148 133 111 140 170 174 182 15...</td>\n",
       "      <td>Training</td>\n",
       "    </tr>\n",
       "    <tr>\n",
       "      <th>2</th>\n",
       "      <td>2</td>\n",
       "      <td>231 212 156 164 174 138 161 173 182 200 106 38...</td>\n",
       "      <td>Training</td>\n",
       "    </tr>\n",
       "    <tr>\n",
       "      <th>3</th>\n",
       "      <td>4</td>\n",
       "      <td>24 32 36 30 32 23 19 20 30 41 21 22 32 34 21 1...</td>\n",
       "      <td>Training</td>\n",
       "    </tr>\n",
       "    <tr>\n",
       "      <th>4</th>\n",
       "      <td>6</td>\n",
       "      <td>4 0 0 0 0 0 0 0 0 0 0 0 3 15 23 28 48 50 58 84...</td>\n",
       "      <td>Training</td>\n",
       "    </tr>\n",
       "  </tbody>\n",
       "</table>\n",
       "</div>"
      ],
      "text/plain": [
       "   emotion                                             pixels     Usage\n",
       "0        0  70 80 82 72 58 58 60 63 54 58 60 48 89 115 121...  Training\n",
       "1        0  151 150 147 155 148 133 111 140 170 174 182 15...  Training\n",
       "2        2  231 212 156 164 174 138 161 173 182 200 106 38...  Training\n",
       "3        4  24 32 36 30 32 23 19 20 30 41 21 22 32 34 21 1...  Training\n",
       "4        6  4 0 0 0 0 0 0 0 0 0 0 0 3 15 23 28 48 50 58 84...  Training"
      ]
     },
     "execution_count": 2,
     "metadata": {},
     "output_type": "execute_result"
    }
   ],
   "source": [
    "df = pd.read_csv('/kaggle/input/fer-2013/fer2013/fer2013/fer2013.csv')\n",
    "print(df.shape)\n",
    "df.head()"
   ]
  },
  {
   "cell_type": "code",
   "execution_count": 3,
   "id": "a6ca3cc8",
   "metadata": {
    "execution": {
     "iopub.execute_input": "2023-06-30T10:10:08.982624Z",
     "iopub.status.busy": "2023-06-30T10:10:08.982307Z",
     "iopub.status.idle": "2023-06-30T10:11:23.145155Z",
     "shell.execute_reply": "2023-06-30T10:11:23.144215Z"
    },
    "papermill": {
     "duration": 74.176817,
     "end_time": "2023-06-30T10:11:23.147852",
     "exception": false,
     "start_time": "2023-06-30T10:10:08.971035",
     "status": "completed"
    },
    "tags": []
   },
   "outputs": [],
   "source": [
    "img_array = df.pixels.apply(lambda x: np.array(x.split(' ')).reshape(48, 48).astype('float32'))\n",
    "img_array = np.stack(img_array, axis = 0)"
   ]
  },
  {
   "cell_type": "code",
   "execution_count": 4,
   "id": "a9ad4546",
   "metadata": {
    "execution": {
     "iopub.execute_input": "2023-06-30T10:11:23.169965Z",
     "iopub.status.busy": "2023-06-30T10:11:23.168496Z",
     "iopub.status.idle": "2023-06-30T10:11:23.176093Z",
     "shell.execute_reply": "2023-06-30T10:11:23.175313Z"
    },
    "papermill": {
     "duration": 0.020462,
     "end_time": "2023-06-30T10:11:23.178530",
     "exception": false,
     "start_time": "2023-06-30T10:11:23.158068",
     "status": "completed"
    },
    "tags": []
   },
   "outputs": [
    {
     "data": {
      "text/plain": [
       "(35887, 48, 48)"
      ]
     },
     "execution_count": 4,
     "metadata": {},
     "output_type": "execute_result"
    }
   ],
   "source": [
    "img_array.shape"
   ]
  },
  {
   "cell_type": "markdown",
   "id": "39abedcd",
   "metadata": {
    "papermill": {
     "duration": 0.009018,
     "end_time": "2023-06-30T10:11:23.196702",
     "exception": false,
     "start_time": "2023-06-30T10:11:23.187684",
     "status": "completed"
    },
    "tags": []
   },
   "source": [
    "## Convert Data to RBG (to compatiable with VGG 19), also normalization using Min Max Scale"
   ]
  },
  {
   "cell_type": "code",
   "execution_count": 5,
   "id": "7a8308ef",
   "metadata": {
    "execution": {
     "iopub.execute_input": "2023-06-30T10:11:23.216190Z",
     "iopub.status.busy": "2023-06-30T10:11:23.215922Z",
     "iopub.status.idle": "2023-06-30T10:11:24.386011Z",
     "shell.execute_reply": "2023-06-30T10:11:24.381801Z"
    },
    "papermill": {
     "duration": 1.182597,
     "end_time": "2023-06-30T10:11:24.388533",
     "exception": false,
     "start_time": "2023-06-30T10:11:23.205936",
     "status": "completed"
    },
    "tags": []
   },
   "outputs": [
    {
     "name": "stdout",
     "output_type": "stream",
     "text": [
      "(35887, 48, 48, 3)\n"
     ]
    }
   ],
   "source": [
    "img_features = []\n",
    "\n",
    "for i in range(len(img_array)):\n",
    "    temp = cv2.cvtColor(img_array[i], cv2.COLOR_GRAY2RGB)\n",
    "    img_features.append(temp)\n",
    "\n",
    "img_features = np.array(img_features)\n",
    "print(img_features.shape)\n",
    "\n",
    "img_features = img_features/255"
   ]
  },
  {
   "cell_type": "code",
   "execution_count": 6,
   "id": "7db05262",
   "metadata": {
    "execution": {
     "iopub.execute_input": "2023-06-30T10:11:24.409898Z",
     "iopub.status.busy": "2023-06-30T10:11:24.409283Z",
     "iopub.status.idle": "2023-06-30T10:11:24.656684Z",
     "shell.execute_reply": "2023-06-30T10:11:24.655807Z"
    },
    "papermill": {
     "duration": 0.260301,
     "end_time": "2023-06-30T10:11:24.659154",
     "exception": false,
     "start_time": "2023-06-30T10:11:24.398853",
     "status": "completed"
    },
    "tags": []
   },
   "outputs": [
    {
     "data": {
      "image/png": "[encoded data removed]",
      "text/plain": [
       "<Figure size 640x480 with 1 Axes>"
      ]
     },
     "metadata": {},
     "output_type": "display_data"
    }
   ],
   "source": [
    "pyplot.imshow((img_features[0]*255).astype(np.uint8));"
   ]
  },
  {
   "cell_type": "code",
   "execution_count": 7,
   "id": "09582fa7",
   "metadata": {
    "execution": {
     "iopub.execute_input": "2023-06-30T10:11:24.681129Z",
     "iopub.status.busy": "2023-06-30T10:11:24.679543Z",
     "iopub.status.idle": "2023-06-30T10:11:24.692632Z",
     "shell.execute_reply": "2023-06-30T10:11:24.691649Z"
    },
    "papermill": {
     "duration": 0.025875,
     "end_time": "2023-06-30T10:11:24.694716",
     "exception": false,
     "start_time": "2023-06-30T10:11:24.668841",
     "status": "completed"
    },
    "tags": []
   },
   "outputs": [
    {
     "data": {
      "text/plain": [
       "(35887, 7)"
      ]
     },
     "execution_count": 7,
     "metadata": {},
     "output_type": "execute_result"
    }
   ],
   "source": [
    "le = LabelEncoder()\n",
    "\n",
    "img_labels = le.fit_transform(df.emotion)\n",
    "img_labels = np_utils.to_categorical(img_labels)\n",
    "img_labels.shape"
   ]
  },
  {
   "cell_type": "code",
   "execution_count": 8,
   "id": "d51269c3",
   "metadata": {
    "execution": {
     "iopub.execute_input": "2023-06-30T10:11:24.715787Z",
     "iopub.status.busy": "2023-06-30T10:11:24.715015Z",
     "iopub.status.idle": "2023-06-30T10:11:24.719232Z",
     "shell.execute_reply": "2023-06-30T10:11:24.718375Z"
    },
    "papermill": {
     "duration": 0.016437,
     "end_time": "2023-06-30T10:11:24.721130",
     "exception": false,
     "start_time": "2023-06-30T10:11:24.704693",
     "status": "completed"
    },
    "tags": []
   },
   "outputs": [],
   "source": [
    "# le_name_mapping = dict(zip(le.classes_, le.transform(le.classes_)))\n",
    "# print(le_name_mapping)"
   ]
  },
  {
   "cell_type": "markdown",
   "id": "c2ee78eb",
   "metadata": {
    "papermill": {
     "duration": 0.009793,
     "end_time": "2023-06-30T10:11:24.741088",
     "exception": false,
     "start_time": "2023-06-30T10:11:24.731295",
     "status": "completed"
    },
    "tags": []
   },
   "source": [
    "### Splitting the data into training and validation set."
   ]
  },
  {
   "cell_type": "code",
   "execution_count": 9,
   "id": "48efaf50",
   "metadata": {
    "execution": {
     "iopub.execute_input": "2023-06-30T10:11:24.761916Z",
     "iopub.status.busy": "2023-06-30T10:11:24.761157Z",
     "iopub.status.idle": "2023-06-30T10:11:26.053380Z",
     "shell.execute_reply": "2023-06-30T10:11:26.052376Z"
    },
    "papermill": {
     "duration": 1.305047,
     "end_time": "2023-06-30T10:11:26.055628",
     "exception": false,
     "start_time": "2023-06-30T10:11:24.750581",
     "status": "completed"
    },
    "tags": []
   },
   "outputs": [
    {
     "data": {
      "text/plain": [
       "((28745, 48, 48, 3),\n",
       " (3553, 48, 48, 3),\n",
       " (3589, 48, 48, 3),\n",
       " (28745, 7),\n",
       " (3553, 7),\n",
       " (3589, 7))"
      ]
     },
     "execution_count": 9,
     "metadata": {},
     "output_type": "execute_result"
    }
   ],
   "source": [
    "X_train_valid, X_test, y_train_valid, y_test = train_test_split(img_features, \n",
    "                                                      img_labels, \n",
    "                                                      shuffle = True, \n",
    "                                                      stratify = img_labels, \n",
    "                                                      test_size = 0.1, \n",
    "                                                      random_state = 42)\n",
    "\n",
    "X_train, X_valid, y_train, y_valid = train_test_split(X_train_valid, \n",
    "                                                      y_train_valid, \n",
    "                                                      shuffle = True, \n",
    "                                                      stratify = y_train_valid, \n",
    "                                                      test_size = 0.11, \n",
    "                                                      random_state = 42)\n",
    "X_train.shape, X_valid.shape,X_test.shape, y_train.shape, y_valid.shape, y_test.shape"
   ]
  },
  {
   "cell_type": "code",
   "execution_count": 10,
   "id": "8c303110",
   "metadata": {
    "execution": {
     "iopub.execute_input": "2023-06-30T10:11:26.076618Z",
     "iopub.status.busy": "2023-06-30T10:11:26.076321Z",
     "iopub.status.idle": "2023-06-30T10:11:26.080764Z",
     "shell.execute_reply": "2023-06-30T10:11:26.079858Z"
    },
    "papermill": {
     "duration": 0.017052,
     "end_time": "2023-06-30T10:11:26.082793",
     "exception": false,
     "start_time": "2023-06-30T10:11:26.065741",
     "status": "completed"
    },
    "tags": []
   },
   "outputs": [],
   "source": [
    "# X_train,X_valid, y_train, y_valid = train_test_split(img_features, \n",
    "#                                                       img_labels, \n",
    "#                                                       shuffle = True, \n",
    "#                                                       stratify = img_labels, \n",
    "#                                                       test_size = 0.1, \n",
    "#                                                       random_state = 42)\n"
   ]
  },
  {
   "cell_type": "code",
   "execution_count": 11,
   "id": "2f8a7b99",
   "metadata": {
    "execution": {
     "iopub.execute_input": "2023-06-30T10:11:26.104214Z",
     "iopub.status.busy": "2023-06-30T10:11:26.103512Z",
     "iopub.status.idle": "2023-06-30T10:11:26.107494Z",
     "shell.execute_reply": "2023-06-30T10:11:26.106690Z"
    },
    "papermill": {
     "duration": 0.016503,
     "end_time": "2023-06-30T10:11:26.109454",
     "exception": false,
     "start_time": "2023-06-30T10:11:26.092951",
     "status": "completed"
    },
    "tags": []
   },
   "outputs": [],
   "source": [
    "# del df\n",
    "# del img_features\n",
    "# del img_labels"
   ]
  },
  {
   "cell_type": "code",
   "execution_count": 12,
   "id": "8a08cd85",
   "metadata": {
    "execution": {
     "iopub.execute_input": "2023-06-30T10:11:26.130185Z",
     "iopub.status.busy": "2023-06-30T10:11:26.129484Z",
     "iopub.status.idle": "2023-06-30T10:11:29.805583Z",
     "shell.execute_reply": "2023-06-30T10:11:29.804621Z"
    },
    "papermill": {
     "duration": 3.688881,
     "end_time": "2023-06-30T10:11:29.808108",
     "exception": false,
     "start_time": "2023-06-30T10:11:26.119227",
     "status": "completed"
    },
    "tags": []
   },
   "outputs": [
    {
     "name": "stdout",
     "output_type": "stream",
     "text": [
      "Downloading data from https://storage.googleapis.com/tensorflow/keras-applications/vgg19/vgg19_weights_tf_dim_ordering_tf_kernels_notop.h5\n",
      "80134624/80134624 [==============================] - 1s 0us/step\n"
     ]
    }
   ],
   "source": [
    "vgg = tf.keras.applications.VGG19(weights = 'imagenet',\n",
    "                                  include_top = False,\n",
    "                                  input_shape = (48, 48, 3))"
   ]
  },
  {
   "cell_type": "markdown",
   "id": "47c3b6ac",
   "metadata": {
    "papermill": {
     "duration": 0.010303,
     "end_time": "2023-06-30T10:11:29.830033",
     "exception": false,
     "start_time": "2023-06-30T10:11:29.819730",
     "status": "completed"
    },
    "tags": []
   },
   "source": [
    "This code makes all layers of a VGG19 model non-trainable. This allows the model to be applied to a new problem using only pre-learned features, rather than reflecting changes in the training data to the model, while preserving the pre-trained weights. This is a technique often used in transfer learning applications.\n",
    "\n",
    "In particular, while developing a facial emotion recognition model using the VGG19 model, the pre-trained weights of the model are preserved, allowing it to be used in solving a new emotion recognition problem. In this way, it may be possible to obtain better results using less data."
   ]
  },
  {
   "cell_type": "code",
   "execution_count": 13,
   "id": "9d231c2a",
   "metadata": {
    "execution": {
     "iopub.execute_input": "2023-06-30T10:11:29.853308Z",
     "iopub.status.busy": "2023-06-30T10:11:29.852406Z",
     "iopub.status.idle": "2023-06-30T10:11:29.897757Z",
     "shell.execute_reply": "2023-06-30T10:11:29.896905Z"
    },
    "papermill": {
     "duration": 0.087566,
     "end_time": "2023-06-30T10:11:29.928312",
     "exception": false,
     "start_time": "2023-06-30T10:11:29.840746",
     "status": "completed"
    },
    "tags": []
   },
   "outputs": [
    {
     "name": "stdout",
     "output_type": "stream",
     "text": [
      "Model: \"vgg19\"\n",
      "_________________________________________________________________\n",
      " Layer (type)                Output Shape              Param #   \n",
      "=================================================================\n",
      " input_1 (InputLayer)        [(None, 48, 48, 3)]       0         \n",
      "                                                                 \n",
      " block1_conv1 (Conv2D)       (None, 48, 48, 64)        1792      \n",
      "                                                                 \n",
      " block1_conv2 (Conv2D)       (None, 48, 48, 64)        36928     \n",
      "                                                                 \n",
      " block1_pool (MaxPooling2D)  (None, 24, 24, 64)        0         \n",
      "                                                                 \n",
      " block2_conv1 (Conv2D)       (None, 24, 24, 128)       73856     \n",
      "                                                                 \n",
      " block2_conv2 (Conv2D)       (None, 24, 24, 128)       147584    \n",
      "                                                                 \n",
      " block2_pool (MaxPooling2D)  (None, 12, 12, 128)       0         \n",
      "                                                                 \n",
      " block3_conv1 (Conv2D)       (None, 12, 12, 256)       295168    \n",
      "                                                                 \n",
      " block3_conv2 (Conv2D)       (None, 12, 12, 256)       590080    \n",
      "                                                                 \n",
      " block3_conv3 (Conv2D)       (None, 12, 12, 256)       590080    \n",
      "                                                                 \n",
      " block3_conv4 (Conv2D)       (None, 12, 12, 256)       590080    \n",
      "                                                                 \n",
      " block3_pool (MaxPooling2D)  (None, 6, 6, 256)         0         \n",
      "                                                                 \n",
      " block4_conv1 (Conv2D)       (None, 6, 6, 512)         1180160   \n",
      "                                                                 \n",
      " block4_conv2 (Conv2D)       (None, 6, 6, 512)         2359808   \n",
      "                                                                 \n",
      " block4_conv3 (Conv2D)       (None, 6, 6, 512)         2359808   \n",
      "                                                                 \n",
      " block4_conv4 (Conv2D)       (None, 6, 6, 512)         2359808   \n",
      "                                                                 \n",
      " block4_pool (MaxPooling2D)  (None, 3, 3, 512)         0         \n",
      "                                                                 \n",
      " block5_conv1 (Conv2D)       (None, 3, 3, 512)         2359808   \n",
      "                                                                 \n",
      " block5_conv2 (Conv2D)       (None, 3, 3, 512)         2359808   \n",
      "                                                                 \n",
      " block5_conv3 (Conv2D)       (None, 3, 3, 512)         2359808   \n",
      "                                                                 \n",
      " block5_conv4 (Conv2D)       (None, 3, 3, 512)         2359808   \n",
      "                                                                 \n",
      " block5_pool (MaxPooling2D)  (None, 1, 1, 512)         0         \n",
      "                                                                 \n",
      "=================================================================\n",
      "Total params: 20,024,384\n",
      "Trainable params: 20,024,384\n",
      "Non-trainable params: 0\n",
      "_________________________________________________________________\n"
     ]
    }
   ],
   "source": [
    "vgg.summary()"
   ]
  },
  {
   "cell_type": "code",
   "execution_count": 14,
   "id": "27e8440a",
   "metadata": {
    "execution": {
     "iopub.execute_input": "2023-06-30T10:11:29.958729Z",
     "iopub.status.busy": "2023-06-30T10:11:29.958394Z",
     "iopub.status.idle": "2023-06-30T10:11:29.963418Z",
     "shell.execute_reply": "2023-06-30T10:11:29.962500Z"
    },
    "papermill": {
     "duration": 0.022242,
     "end_time": "2023-06-30T10:11:29.965384",
     "exception": false,
     "start_time": "2023-06-30T10:11:29.943142",
     "status": "completed"
    },
    "tags": []
   },
   "outputs": [],
   "source": [
    "def build_model(bottom_model, classes):\n",
    "    model = bottom_model.layers[-2].output\n",
    "    model = GlobalMaxPooling2D()(model)\n",
    "    model = Dense(classes, activation = 'softmax', name = 'out_layer')(model)\n",
    "    \n",
    "    return model"
   ]
  },
  {
   "cell_type": "code",
   "execution_count": 15,
   "id": "fee3b622",
   "metadata": {
    "execution": {
     "iopub.execute_input": "2023-06-30T10:11:29.995561Z",
     "iopub.status.busy": "2023-06-30T10:11:29.994841Z",
     "iopub.status.idle": "2023-06-30T10:11:30.064622Z",
     "shell.execute_reply": "2023-06-30T10:11:30.063911Z"
    },
    "papermill": {
     "duration": 0.119611,
     "end_time": "2023-06-30T10:11:30.099384",
     "exception": false,
     "start_time": "2023-06-30T10:11:29.979773",
     "status": "completed"
    },
    "tags": []
   },
   "outputs": [
    {
     "name": "stdout",
     "output_type": "stream",
     "text": [
      "Model: \"model\"\n",
      "_________________________________________________________________\n",
      " Layer (type)                Output Shape              Param #   \n",
      "=================================================================\n",
      " input_1 (InputLayer)        [(None, 48, 48, 3)]       0         \n",
      "                                                                 \n",
      " block1_conv1 (Conv2D)       (None, 48, 48, 64)        1792      \n",
      "                                                                 \n",
      " block1_conv2 (Conv2D)       (None, 48, 48, 64)        36928     \n",
      "                                                                 \n",
      " block1_pool (MaxPooling2D)  (None, 24, 24, 64)        0         \n",
      "                                                                 \n",
      " block2_conv1 (Conv2D)       (None, 24, 24, 128)       73856     \n",
      "                                                                 \n",
      " block2_conv2 (Conv2D)       (None, 24, 24, 128)       147584    \n",
      "                                                                 \n",
      " block2_pool (MaxPooling2D)  (None, 12, 12, 128)       0         \n",
      "                                                                 \n",
      " block3_conv1 (Conv2D)       (None, 12, 12, 256)       295168    \n",
      "                                                                 \n",
      " block3_conv2 (Conv2D)       (None, 12, 12, 256)       590080    \n",
      "                                                                 \n",
      " block3_conv3 (Conv2D)       (None, 12, 12, 256)       590080    \n",
      "                                                                 \n",
      " block3_conv4 (Conv2D)       (None, 12, 12, 256)       590080    \n",
      "                                                                 \n",
      " block3_pool (MaxPooling2D)  (None, 6, 6, 256)         0         \n",
      "                                                                 \n",
      " block4_conv1 (Conv2D)       (None, 6, 6, 512)         1180160   \n",
      "                                                                 \n",
      " block4_conv2 (Conv2D)       (None, 6, 6, 512)         2359808   \n",
      "                                                                 \n",
      " block4_conv3 (Conv2D)       (None, 6, 6, 512)         2359808   \n",
      "                                                                 \n",
      " block4_conv4 (Conv2D)       (None, 6, 6, 512)         2359808   \n",
      "                                                                 \n",
      " block4_pool (MaxPooling2D)  (None, 3, 3, 512)         0         \n",
      "                                                                 \n",
      " block5_conv1 (Conv2D)       (None, 3, 3, 512)         2359808   \n",
      "                                                                 \n",
      " block5_conv2 (Conv2D)       (None, 3, 3, 512)         2359808   \n",
      "                                                                 \n",
      " block5_conv3 (Conv2D)       (None, 3, 3, 512)         2359808   \n",
      "                                                                 \n",
      " block5_conv4 (Conv2D)       (None, 3, 3, 512)         2359808   \n",
      "                                                                 \n",
      " global_max_pooling2d (Globa  (None, 512)              0         \n",
      " lMaxPooling2D)                                                  \n",
      "                                                                 \n",
      " out_layer (Dense)           (None, 7)                 3591      \n",
      "                                                                 \n",
      "=================================================================\n",
      "Total params: 20,027,975\n",
      "Trainable params: 20,027,975\n",
      "Non-trainable params: 0\n",
      "_________________________________________________________________\n",
      "None\n"
     ]
    }
   ],
   "source": [
    "num_classes = 7\n",
    "head = build_model(vgg, num_classes)\n",
    "\n",
    "model = Model(inputs = vgg.input, outputs = head)\n",
    "\n",
    "print(model.summary())"
   ]
  },
  {
   "cell_type": "code",
   "execution_count": 16,
   "id": "724b36b8",
   "metadata": {
    "execution": {
     "iopub.execute_input": "2023-06-30T10:11:30.138367Z",
     "iopub.status.busy": "2023-06-30T10:11:30.138002Z",
     "iopub.status.idle": "2023-06-30T10:11:30.144880Z",
     "shell.execute_reply": "2023-06-30T10:11:30.143993Z"
    },
    "papermill": {
     "duration": 0.028992,
     "end_time": "2023-06-30T10:11:30.147032",
     "exception": false,
     "start_time": "2023-06-30T10:11:30.118040",
     "status": "completed"
    },
    "tags": []
   },
   "outputs": [
    {
     "name": "stdout",
     "output_type": "stream",
     "text": [
      "input_1 True\n",
      "block1_conv1 True\n",
      "block1_conv2 True\n",
      "block1_pool True\n",
      "block2_conv1 True\n",
      "block2_conv2 True\n",
      "block2_pool True\n",
      "block3_conv1 True\n",
      "block3_conv2 True\n",
      "block3_conv3 True\n",
      "block3_conv4 True\n",
      "block3_pool True\n",
      "block4_conv1 True\n",
      "block4_conv2 True\n",
      "block4_conv3 True\n",
      "block4_conv4 True\n",
      "block4_pool True\n",
      "block5_conv1 True\n",
      "block5_conv2 True\n",
      "block5_conv3 True\n",
      "block5_conv4 True\n",
      "global_max_pooling2d True\n",
      "out_layer True\n"
     ]
    }
   ],
   "source": [
    "# Freeze layers up to block1_pool\n",
    "for layer in model.layers:\n",
    "    layer.trainable = True\n",
    "# for layer in model.layers[:4]:\n",
    "#     layer.trainable = False\n",
    "for layer in model.layers:\n",
    "    print(layer.name, layer.trainable)"
   ]
  },
  {
   "cell_type": "markdown",
   "id": "fa9aa88a",
   "metadata": {
    "papermill": {
     "duration": 0.018377,
     "end_time": "2023-06-30T10:11:30.184145",
     "exception": false,
     "start_time": "2023-06-30T10:11:30.165768",
     "status": "completed"
    },
    "tags": []
   },
   "source": [
    "### I used two callbacks one is `early stopping` for avoiding overfitting training data and other `ReduceLROnPlateau` for learning rate.\n"
   ]
  },
  {
   "cell_type": "code",
   "execution_count": 17,
   "id": "fae83b87",
   "metadata": {
    "execution": {
     "iopub.execute_input": "2023-06-30T10:11:30.222945Z",
     "iopub.status.busy": "2023-06-30T10:11:30.222654Z",
     "iopub.status.idle": "2023-06-30T10:11:30.228083Z",
     "shell.execute_reply": "2023-06-30T10:11:30.227066Z"
    },
    "papermill": {
     "duration": 0.027101,
     "end_time": "2023-06-30T10:11:30.230099",
     "exception": false,
     "start_time": "2023-06-30T10:11:30.202998",
     "status": "completed"
    },
    "tags": []
   },
   "outputs": [],
   "source": [
    "early_stopping = EarlyStopping(monitor = 'val_accuracy', \n",
    "                               min_delta = 0.00005, \n",
    "                               patience = 11,\n",
    "                               verbose = 1, \n",
    "                               restore_best_weights = True,)\n",
    "\n",
    "lr_scheduler = ReduceLROnPlateau(monitor = 'val_accuracy', \n",
    "                                 factor = 0.5, \n",
    "                                 patience = 7,\n",
    "                                 min_lr = 1e-7,\n",
    "                                 verbose = 1,)\n",
    "\n",
    "callbacks = [early_stopping,lr_scheduler,]"
   ]
  },
  {
   "cell_type": "markdown",
   "id": "e8d590bb",
   "metadata": {
    "papermill": {
     "duration": 0.018818,
     "end_time": "2023-06-30T10:11:30.267988",
     "exception": false,
     "start_time": "2023-06-30T10:11:30.249170",
     "status": "completed"
    },
    "tags": []
   },
   "source": [
    "### As the data in hand is less as compared to the task so ImageDataGenerator is good to go."
   ]
  },
  {
   "cell_type": "code",
   "execution_count": 18,
   "id": "1176d7e4",
   "metadata": {
    "execution": {
     "iopub.execute_input": "2023-06-30T10:11:30.306731Z",
     "iopub.status.busy": "2023-06-30T10:11:30.306411Z",
     "iopub.status.idle": "2023-06-30T10:11:30.585796Z",
     "shell.execute_reply": "2023-06-30T10:11:30.584818Z"
    },
    "papermill": {
     "duration": 0.301821,
     "end_time": "2023-06-30T10:11:30.588143",
     "exception": false,
     "start_time": "2023-06-30T10:11:30.286322",
     "status": "completed"
    },
    "tags": []
   },
   "outputs": [],
   "source": [
    "train_datagen = ImageDataGenerator(rotation_range = 15,\n",
    "                                   width_shift_range = 0.15,\n",
    "                                   height_shift_range = 0.15,\n",
    "                                   shear_range = 0.15,\n",
    "                                   zoom_range = 0.15,\n",
    "                                   horizontal_flip = True,)\n",
    "train_datagen.fit(X_train)"
   ]
  },
  {
   "cell_type": "code",
   "execution_count": 19,
   "id": "b118bc58",
   "metadata": {
    "execution": {
     "iopub.execute_input": "2023-06-30T10:11:30.627120Z",
     "iopub.status.busy": "2023-06-30T10:11:30.626826Z",
     "iopub.status.idle": "2023-06-30T10:11:30.645796Z",
     "shell.execute_reply": "2023-06-30T10:11:30.644967Z"
    },
    "papermill": {
     "duration": 0.040478,
     "end_time": "2023-06-30T10:11:30.647769",
     "exception": false,
     "start_time": "2023-06-30T10:11:30.607291",
     "status": "completed"
    },
    "tags": []
   },
   "outputs": [],
   "source": [
    "# batch size of 32 performs the best.\n",
    "batch_size = 32 \n",
    "epochs = 60\n",
    "optims = [optimizers.Adam(learning_rate = 0.0001, beta_1 = 0.9, beta_2 = 0.999),]\n",
    "\n",
    "model.compile(loss = 'categorical_crossentropy',\n",
    "              optimizer = optims[0],\n",
    "              metrics = ['accuracy'])\n"
   ]
  },
  {
   "cell_type": "code",
   "execution_count": 20,
   "id": "0c8cd61e",
   "metadata": {
    "execution": {
     "iopub.execute_input": "2023-06-30T10:11:30.685978Z",
     "iopub.status.busy": "2023-06-30T10:11:30.685711Z",
     "iopub.status.idle": "2023-06-30T10:11:30.690175Z",
     "shell.execute_reply": "2023-06-30T10:11:30.689213Z"
    },
    "papermill": {
     "duration": 0.025979,
     "end_time": "2023-06-30T10:11:30.692284",
     "exception": false,
     "start_time": "2023-06-30T10:11:30.666305",
     "status": "completed"
    },
    "tags": []
   },
   "outputs": [],
   "source": [
    "# history = model.fit(train_datagen.flow(X_train, \n",
    "#                                        y_train, \n",
    "#                                        batch_size = batch_size),\n",
    "#                                        validation_data = (X_valid, y_valid),\n",
    "#                                        steps_per_epoch = len(X_train) / batch_size,\n",
    "\n",
    "#                                        epochs = epochs,\n",
    "#                                        callbacks = callbacks,\n",
    "#                                        use_multiprocessing = True)"
   ]
  },
  {
   "cell_type": "code",
   "execution_count": 21,
   "id": "13a1cc00",
   "metadata": {
    "execution": {
     "iopub.execute_input": "2023-06-30T10:11:30.730321Z",
     "iopub.status.busy": "2023-06-30T10:11:30.730048Z",
     "iopub.status.idle": "2023-06-30T10:31:34.499478Z",
     "shell.execute_reply": "2023-06-30T10:31:34.498398Z"
    },
    "papermill": {
     "duration": 1203.791009,
     "end_time": "2023-06-30T10:31:34.501647",
     "exception": false,
     "start_time": "2023-06-30T10:11:30.710638",
     "status": "completed"
    },
    "tags": []
   },
   "outputs": [
    {
     "name": "stdout",
     "output_type": "stream",
     "text": [
      "Epoch 1/60\n",
      "898/898 [==============================] - 40s 31ms/step - loss: 1.3479 - accuracy: 0.4786 - val_loss: 1.2895 - val_accuracy: 0.5069 - lr: 1.0000e-04\n",
      "Epoch 2/60\n",
      "898/898 [==============================] - 26s 29ms/step - loss: 1.1113 - accuracy: 0.5780 - val_loss: 1.1481 - val_accuracy: 0.5699 - lr: 1.0000e-04\n",
      "Epoch 3/60\n",
      "898/898 [==============================] - 26s 29ms/step - loss: 0.9887 - accuracy: 0.6306 - val_loss: 1.0563 - val_accuracy: 0.6009 - lr: 1.0000e-04\n",
      "Epoch 4/60\n",
      "898/898 [==============================] - 26s 29ms/step - loss: 0.8737 - accuracy: 0.6749 - val_loss: 1.0175 - val_accuracy: 0.6259 - lr: 1.0000e-04\n",
      "Epoch 5/60\n",
      "898/898 [==============================] - 26s 29ms/step - loss: 0.7516 - accuracy: 0.7238 - val_loss: 1.0205 - val_accuracy: 0.6327 - lr: 1.0000e-04\n",
      "Epoch 6/60\n",
      "898/898 [==============================] - 26s 29ms/step - loss: 0.6244 - accuracy: 0.7750 - val_loss: 1.0612 - val_accuracy: 0.6434 - lr: 1.0000e-04\n",
      "Epoch 7/60\n",
      "898/898 [==============================] - 26s 29ms/step - loss: 0.5030 - accuracy: 0.8216 - val_loss: 1.2096 - val_accuracy: 0.6254 - lr: 1.0000e-04\n",
      "Epoch 8/60\n",
      "898/898 [==============================] - 26s 29ms/step - loss: 0.3825 - accuracy: 0.8679 - val_loss: 1.2782 - val_accuracy: 0.6392 - lr: 1.0000e-04\n",
      "Epoch 9/60\n",
      "898/898 [==============================] - 27s 30ms/step - loss: 0.2922 - accuracy: 0.8985 - val_loss: 1.3502 - val_accuracy: 0.6341 - lr: 1.0000e-04\n",
      "Epoch 10/60\n",
      "898/898 [==============================] - 27s 30ms/step - loss: 0.2337 - accuracy: 0.9190 - val_loss: 1.4565 - val_accuracy: 0.6389 - lr: 1.0000e-04\n",
      "Epoch 11/60\n",
      "898/898 [==============================] - 26s 29ms/step - loss: 0.1830 - accuracy: 0.9389 - val_loss: 1.6540 - val_accuracy: 0.6335 - lr: 1.0000e-04\n",
      "Epoch 12/60\n",
      "898/898 [==============================] - 26s 29ms/step - loss: 0.1522 - accuracy: 0.9487 - val_loss: 1.6545 - val_accuracy: 0.6350 - lr: 1.0000e-04\n",
      "Epoch 13/60\n",
      "897/898 [============================>.] - ETA: 0s - loss: 0.1360 - accuracy: 0.9539\n",
      "Epoch 13: ReduceLROnPlateau reducing learning rate to 4.999999873689376e-05.\n",
      "898/898 [==============================] - 26s 29ms/step - loss: 0.1361 - accuracy: 0.9538 - val_loss: 1.6716 - val_accuracy: 0.6251 - lr: 1.0000e-04\n",
      "Epoch 14/60\n",
      "898/898 [==============================] - 27s 30ms/step - loss: 0.0507 - accuracy: 0.9841 - val_loss: 1.9973 - val_accuracy: 0.6386 - lr: 5.0000e-05\n",
      "Epoch 15/60\n",
      "898/898 [==============================] - 27s 30ms/step - loss: 0.0372 - accuracy: 0.9884 - val_loss: 2.1860 - val_accuracy: 0.6302 - lr: 5.0000e-05\n",
      "Epoch 16/60\n",
      "898/898 [==============================] - 27s 30ms/step - loss: 0.0416 - accuracy: 0.9865 - val_loss: 2.2810 - val_accuracy: 0.6479 - lr: 5.0000e-05\n",
      "Epoch 17/60\n",
      "898/898 [==============================] - 26s 29ms/step - loss: 0.0418 - accuracy: 0.9854 - val_loss: 2.2360 - val_accuracy: 0.6437 - lr: 5.0000e-05\n",
      "Epoch 18/60\n",
      "898/898 [==============================] - 26s 29ms/step - loss: 0.0406 - accuracy: 0.9862 - val_loss: 2.1817 - val_accuracy: 0.6431 - lr: 5.0000e-05\n",
      "Epoch 19/60\n",
      "898/898 [==============================] - 26s 29ms/step - loss: 0.0335 - accuracy: 0.9887 - val_loss: 2.3784 - val_accuracy: 0.6423 - lr: 5.0000e-05\n",
      "Epoch 20/60\n",
      "898/898 [==============================] - 26s 29ms/step - loss: 0.0342 - accuracy: 0.9882 - val_loss: 2.2545 - val_accuracy: 0.6369 - lr: 5.0000e-05\n",
      "Epoch 21/60\n",
      "898/898 [==============================] - 26s 29ms/step - loss: 0.0320 - accuracy: 0.9893 - val_loss: 2.3355 - val_accuracy: 0.6381 - lr: 5.0000e-05\n",
      "Epoch 22/60\n",
      "898/898 [==============================] - 26s 29ms/step - loss: 0.0375 - accuracy: 0.9867 - val_loss: 2.1609 - val_accuracy: 0.6330 - lr: 5.0000e-05\n",
      "Epoch 23/60\n",
      "897/898 [============================>.] - ETA: 0s - loss: 0.0312 - accuracy: 0.9890\n",
      "Epoch 23: ReduceLROnPlateau reducing learning rate to 2.499999936844688e-05.\n",
      "898/898 [==============================] - 26s 29ms/step - loss: 0.0312 - accuracy: 0.9890 - val_loss: 2.2452 - val_accuracy: 0.6344 - lr: 5.0000e-05\n",
      "Epoch 24/60\n",
      "898/898 [==============================] - 26s 29ms/step - loss: 0.0132 - accuracy: 0.9948 - val_loss: 2.4617 - val_accuracy: 0.6524 - lr: 2.5000e-05\n",
      "Epoch 25/60\n",
      "898/898 [==============================] - 27s 30ms/step - loss: 0.0103 - accuracy: 0.9955 - val_loss: 2.5635 - val_accuracy: 0.6535 - lr: 2.5000e-05\n",
      "Epoch 26/60\n",
      "898/898 [==============================] - 26s 29ms/step - loss: 0.0093 - accuracy: 0.9959 - val_loss: 2.5929 - val_accuracy: 0.6510 - lr: 2.5000e-05\n",
      "Epoch 27/60\n",
      "898/898 [==============================] - 26s 29ms/step - loss: 0.0106 - accuracy: 0.9951 - val_loss: 2.8046 - val_accuracy: 0.6428 - lr: 2.5000e-05\n",
      "Epoch 28/60\n",
      "898/898 [==============================] - 27s 30ms/step - loss: 0.0224 - accuracy: 0.9915 - val_loss: 2.5784 - val_accuracy: 0.6389 - lr: 2.5000e-05\n",
      "Epoch 29/60\n",
      "898/898 [==============================] - 26s 29ms/step - loss: 0.0105 - accuracy: 0.9954 - val_loss: 2.8327 - val_accuracy: 0.6437 - lr: 2.5000e-05\n",
      "Epoch 30/60\n",
      "898/898 [==============================] - 26s 29ms/step - loss: 0.0132 - accuracy: 0.9949 - val_loss: 2.6433 - val_accuracy: 0.6516 - lr: 2.5000e-05\n",
      "Epoch 31/60\n",
      "898/898 [==============================] - 26s 29ms/step - loss: 0.0106 - accuracy: 0.9955 - val_loss: 2.8723 - val_accuracy: 0.6524 - lr: 2.5000e-05\n",
      "Epoch 32/60\n",
      "899/898 [==============================] - ETA: 0s - loss: 0.0115 - accuracy: 0.9948\n",
      "Epoch 32: ReduceLROnPlateau reducing learning rate to 1.249999968422344e-05.\n",
      "898/898 [==============================] - 27s 30ms/step - loss: 0.0115 - accuracy: 0.9948 - val_loss: 2.7651 - val_accuracy: 0.6487 - lr: 2.5000e-05\n",
      "Epoch 33/60\n",
      "898/898 [==============================] - 26s 29ms/step - loss: 0.0083 - accuracy: 0.9962 - val_loss: 2.8856 - val_accuracy: 0.6521 - lr: 1.2500e-05\n",
      "Epoch 34/60\n",
      "898/898 [==============================] - 27s 30ms/step - loss: 0.0058 - accuracy: 0.9967 - val_loss: 2.9997 - val_accuracy: 0.6552 - lr: 1.2500e-05\n",
      "Epoch 35/60\n",
      "898/898 [==============================] - 26s 29ms/step - loss: 0.0063 - accuracy: 0.9965 - val_loss: 2.9905 - val_accuracy: 0.6507 - lr: 1.2500e-05\n",
      "Epoch 36/60\n",
      "898/898 [==============================] - 26s 29ms/step - loss: 0.0075 - accuracy: 0.9964 - val_loss: 2.9895 - val_accuracy: 0.6527 - lr: 1.2500e-05\n",
      "Epoch 37/60\n",
      "898/898 [==============================] - 27s 30ms/step - loss: 0.0067 - accuracy: 0.9968 - val_loss: 3.0598 - val_accuracy: 0.6510 - lr: 1.2500e-05\n",
      "Epoch 38/60\n",
      "898/898 [==============================] - 26s 29ms/step - loss: 0.0078 - accuracy: 0.9963 - val_loss: 3.1486 - val_accuracy: 0.6502 - lr: 1.2500e-05\n",
      "Epoch 39/60\n",
      "898/898 [==============================] - 26s 29ms/step - loss: 0.0077 - accuracy: 0.9966 - val_loss: 3.0144 - val_accuracy: 0.6369 - lr: 1.2500e-05\n",
      "Epoch 40/60\n",
      "898/898 [==============================] - 27s 30ms/step - loss: 0.0080 - accuracy: 0.9965 - val_loss: 3.1883 - val_accuracy: 0.6445 - lr: 1.2500e-05\n",
      "Epoch 41/60\n",
      "897/898 [============================>.] - ETA: 0s - loss: 0.0056 - accuracy: 0.9970\n",
      "Epoch 41: ReduceLROnPlateau reducing learning rate to 6.24999984211172e-06.\n",
      "898/898 [==============================] - 27s 30ms/step - loss: 0.0057 - accuracy: 0.9970 - val_loss: 3.2806 - val_accuracy: 0.6485 - lr: 1.2500e-05\n",
      "Epoch 42/60\n",
      "898/898 [==============================] - 26s 29ms/step - loss: 0.0049 - accuracy: 0.9974 - val_loss: 3.3573 - val_accuracy: 0.6516 - lr: 6.2500e-06\n",
      "Epoch 43/60\n",
      "898/898 [==============================] - 26s 29ms/step - loss: 0.0047 - accuracy: 0.9977 - val_loss: 3.4544 - val_accuracy: 0.6510 - lr: 6.2500e-06\n",
      "Epoch 44/60\n",
      "898/898 [==============================] - 26s 29ms/step - loss: 0.0049 - accuracy: 0.9971 - val_loss: 3.4732 - val_accuracy: 0.6535 - lr: 6.2500e-06\n",
      "Epoch 45/60\n",
      "897/898 [============================>.] - ETA: 0s - loss: 0.0053 - accuracy: 0.9973Restoring model weights from the end of the best epoch: 34.\n",
      "898/898 [==============================] - 26s 29ms/step - loss: 0.0053 - accuracy: 0.9973 - val_loss: 3.3872 - val_accuracy: 0.6473 - lr: 6.2500e-06\n",
      "Epoch 45: early stopping\n"
     ]
    }
   ],
   "source": [
    "history = model.fit(X_train, y_train, batch_size = batch_size,\n",
    "                                       validation_data = (X_valid, y_valid),\n",
    "                                       steps_per_epoch = len(X_train) / batch_size,\n",
    "\n",
    "                                       epochs = epochs,\n",
    "                                       callbacks = callbacks,\n",
    "                                       use_multiprocessing = True)"
   ]
  },
  {
   "cell_type": "markdown",
   "id": "42cc14b9",
   "metadata": {
    "papermill": {
     "duration": 1.635309,
     "end_time": "2023-06-30T10:31:37.765696",
     "exception": false,
     "start_time": "2023-06-30T10:31:36.130387",
     "status": "completed"
    },
    "tags": []
   },
   "source": [
    "## Saving model"
   ]
  },
  {
   "cell_type": "code",
   "execution_count": 22,
   "id": "8d3afab0",
   "metadata": {
    "execution": {
     "iopub.execute_input": "2023-06-30T10:31:41.015365Z",
     "iopub.status.busy": "2023-06-30T10:31:41.014994Z",
     "iopub.status.idle": "2023-06-30T10:31:56.895537Z",
     "shell.execute_reply": "2023-06-30T10:31:56.894523Z"
    },
    "papermill": {
     "duration": 17.498577,
     "end_time": "2023-06-30T10:31:56.897987",
     "exception": false,
     "start_time": "2023-06-30T10:31:39.399410",
     "status": "completed"
    },
    "tags": []
   },
   "outputs": [],
   "source": [
    "model_yaml = model.to_json()\n",
    "with open(\"model.yaml\", \"w\") as yaml_file:\n",
    "    yaml_file.write(model_yaml)\n",
    "    \n",
    "model.save(\"model.h5\")"
   ]
  },
  {
   "cell_type": "markdown",
   "id": "84d1d8df",
   "metadata": {
    "papermill": {
     "duration": 1.6411,
     "end_time": "2023-06-30T10:32:00.141949",
     "exception": false,
     "start_time": "2023-06-30T10:31:58.500849",
     "status": "completed"
    },
    "tags": []
   },
   "source": [
    "## Result Visualization"
   ]
  },
  {
   "cell_type": "code",
   "execution_count": 23,
   "id": "056fd355",
   "metadata": {
    "execution": {
     "iopub.execute_input": "2023-06-30T10:32:03.351056Z",
     "iopub.status.busy": "2023-06-30T10:32:03.350709Z",
     "iopub.status.idle": "2023-06-30T10:32:04.500600Z",
     "shell.execute_reply": "2023-06-30T10:32:04.499679Z"
    },
    "papermill": {
     "duration": 2.759919,
     "end_time": "2023-06-30T10:32:04.502817",
     "exception": false,
     "start_time": "2023-06-30T10:32:01.742898",
     "status": "completed"
    },
    "tags": []
   },
   "outputs": [
    {
     "data": {
      "image/png": "[encoded data removed]",
      "text/plain": [
       "<Figure size 1200x400 with 2 Axes>"
      ]
     },
     "metadata": {},
     "output_type": "display_data"
    }
   ],
   "source": [
    "sns.set()\n",
    "fig = pyplot.figure(0, (12, 4))\n",
    "\n",
    "ax = pyplot.subplot(1, 2, 1)\n",
    "sns.lineplot(x=history.epoch, y=history.history['accuracy'], label='train')\n",
    "sns.lineplot(x=history.epoch, y=history.history['val_accuracy'], label='valid')\n",
    "pyplot.title('Accuracy')\n",
    "pyplot.tight_layout()\n",
    "\n",
    "ax = pyplot.subplot(1, 2, 2)\n",
    "sns.lineplot(x=history.epoch, y=history.history['loss'], label='train')\n",
    "sns.lineplot(x=history.epoch, y=history.history['val_loss'], label='valid')\n",
    "pyplot.title('Loss')\n",
    "pyplot.tight_layout()\n",
    "\n",
    "pyplot.savefig('epoch_history_dcnn.png')\n",
    "pyplot.show()\n"
   ]
  },
  {
   "cell_type": "code",
   "execution_count": 24,
   "id": "52ae3ce5",
   "metadata": {
    "execution": {
     "iopub.execute_input": "2023-06-30T10:32:07.704929Z",
     "iopub.status.busy": "2023-06-30T10:32:07.704505Z",
     "iopub.status.idle": "2023-06-30T10:32:08.616827Z",
     "shell.execute_reply": "2023-06-30T10:32:08.615904Z"
    },
    "papermill": {
     "duration": 2.520549,
     "end_time": "2023-06-30T10:32:08.619031",
     "exception": false,
     "start_time": "2023-06-30T10:32:06.098482",
     "status": "completed"
    },
    "tags": []
   },
   "outputs": [
    {
     "data": {
      "image/png": "[encoded data removed]",
      "text/plain": [
       "<Figure size 1400x400 with 2 Axes>"
      ]
     },
     "metadata": {},
     "output_type": "display_data"
    }
   ],
   "source": [
    "df_accu = pd.DataFrame({'train': history.history['accuracy'], 'valid': history.history['val_accuracy']})\n",
    "df_loss = pd.DataFrame({'train': history.history['loss'], 'valid': history.history['val_loss']})\n",
    "\n",
    "fig = pyplot.figure(0, (14, 4))\n",
    "ax = pyplot.subplot(1, 2, 1)\n",
    "sns.violinplot(x=\"variable\", y=\"value\", data=pd.melt(df_accu), showfliers=False)\n",
    "pyplot.title('Accuracy')\n",
    "pyplot.tight_layout()\n",
    "\n",
    "ax = pyplot.subplot(1, 2, 2)\n",
    "sns.violinplot(x=\"variable\", y=\"value\", data=pd.melt(df_loss), showfliers=False)\n",
    "pyplot.title('Loss')\n",
    "pyplot.tight_layout()\n",
    "\n",
    "pyplot.savefig('performance_dist.png')\n",
    "pyplot.show()"
   ]
  },
  {
   "cell_type": "code",
   "execution_count": 25,
   "id": "79731d98",
   "metadata": {
    "execution": {
     "iopub.execute_input": "2023-06-30T10:32:11.871197Z",
     "iopub.status.busy": "2023-06-30T10:32:11.870834Z",
     "iopub.status.idle": "2023-06-30T10:32:14.132479Z",
     "shell.execute_reply": "2023-06-30T10:32:14.131361Z"
    },
    "papermill": {
     "duration": 3.864464,
     "end_time": "2023-06-30T10:32:14.134512",
     "exception": false,
     "start_time": "2023-06-30T10:32:10.270048",
     "status": "completed"
    },
    "tags": []
   },
   "outputs": [
    {
     "name": "stdout",
     "output_type": "stream",
     "text": [
      "This is for testing data\n",
      "113/113 [==============================] - 1s 9ms/step\n",
      "total wrong validation predictions: 1206\n",
      "\n",
      "\n",
      "              precision    recall  f1-score   support\n",
      "\n",
      "           0       0.57      0.60      0.58       495\n",
      "           1       0.74      0.53      0.62        55\n",
      "           2       0.53      0.50      0.52       512\n",
      "           3       0.84      0.85      0.85       899\n",
      "           4       0.56      0.53      0.54       608\n",
      "           5       0.78      0.76      0.77       400\n",
      "           6       0.61      0.66      0.64       620\n",
      "\n",
      "    accuracy                           0.66      3589\n",
      "   macro avg       0.66      0.63      0.64      3589\n",
      "weighted avg       0.66      0.66      0.66      3589\n",
      "\n"
     ]
    },
    {
     "data": {
      "image/png": "[encoded data removed]",
      "text/plain": [
       "<Figure size 700x700 with 2 Axes>"
      ]
     },
     "metadata": {},
     "output_type": "display_data"
    }
   ],
   "source": [
    "print(\"This is for testing data\")\n",
    "yhat_test = np.argmax(model.predict(X_test), axis=1)\n",
    "scikitplot.metrics.plot_confusion_matrix(np.argmax(y_test, axis=1), yhat_test, figsize=(7,7))\n",
    "pyplot.savefig(\"confusion_matrix_dcnn.png\")\n",
    "\n",
    "print(f'total wrong validation predictions: {np.sum(np.argmax(y_test, axis=1) != yhat_test)}\\n\\n')\n",
    "print(classification_report(np.argmax(y_test, axis=1), yhat_test))"
   ]
  },
  {
   "cell_type": "code",
   "execution_count": 26,
   "id": "e0dd5aa5",
   "metadata": {
    "execution": {
     "iopub.execute_input": "2023-06-30T10:32:17.347041Z",
     "iopub.status.busy": "2023-06-30T10:32:17.346664Z",
     "iopub.status.idle": "2023-06-30T10:32:19.233821Z",
     "shell.execute_reply": "2023-06-30T10:32:19.232903Z"
    },
    "papermill": {
     "duration": 3.493902,
     "end_time": "2023-06-30T10:32:19.235953",
     "exception": false,
     "start_time": "2023-06-30T10:32:15.742051",
     "status": "completed"
    },
    "tags": []
   },
   "outputs": [
    {
     "name": "stdout",
     "output_type": "stream",
     "text": [
      "this is for validationd data\n",
      "112/112 [==============================] - 1s 8ms/step\n",
      "total wrong validation predictions: 1225\n",
      "\n",
      "\n",
      "              precision    recall  f1-score   support\n",
      "\n",
      "           0       0.56      0.58      0.57       490\n",
      "           1       0.70      0.57      0.63        54\n",
      "           2       0.52      0.51      0.52       507\n",
      "           3       0.82      0.85      0.84       890\n",
      "           4       0.58      0.52      0.55       602\n",
      "           5       0.81      0.75      0.78       396\n",
      "           6       0.57      0.63      0.60       614\n",
      "\n",
      "    accuracy                           0.66      3553\n",
      "   macro avg       0.65      0.63      0.64      3553\n",
      "weighted avg       0.66      0.66      0.65      3553\n",
      "\n"
     ]
    },
    {
     "data": {
      "image/png": "[encoded data removed]",
      "text/plain": [
       "<Figure size 700x700 with 2 Axes>"
      ]
     },
     "metadata": {},
     "output_type": "display_data"
    }
   ],
   "source": [
    "print(\"this is for validationd data\")\n",
    "yhat_valid = np.argmax(model.predict(X_valid), axis=1)\n",
    "scikitplot.metrics.plot_confusion_matrix(np.argmax(y_valid, axis=1), yhat_valid, figsize=(7,7))\n",
    "pyplot.savefig(\"confusion_matrix_dcnn.png\")\n",
    "\n",
    "print(f'total wrong validation predictions: {np.sum(np.argmax(y_valid, axis=1) != yhat_valid)}\\n\\n')\n",
    "print(classification_report(np.argmax(y_valid, axis=1), yhat_valid))"
   ]
  },
  {
   "cell_type": "code",
   "execution_count": null,
   "id": "22ad190b",
   "metadata": {
    "papermill": {
     "duration": 1.536932,
     "end_time": "2023-06-30T10:32:22.398686",
     "exception": false,
     "start_time": "2023-06-30T10:32:20.861754",
     "status": "completed"
    },
    "tags": []
   },
   "outputs": [],
   "source": []
  }
 ],
 "metadata": {
  "kernelspec": {
   "display_name": "Python 3",
   "language": "python",
   "name": "python3"
  },
  "language_info": {
   "codemirror_mode": {
    "name": "ipython",
    "version": 3
   },
   "file_extension": ".py",
   "mimetype": "text/x-python",
   "name": "python",
   "nbconvert_exporter": "python",
   "pygments_lexer": "ipython3",
   "version": "3.10.10"
  },
  "papermill": {
   "default_parameters": {},
   "duration": 1365.185903,
   "end_time": "2023-06-30T10:32:27.178469",
   "environment_variables": {},
   "exception": null,
   "input_path": "__notebook__.ipynb",
   "output_path": "__notebook__.ipynb",
   "parameters": {},
   "start_time": "2023-06-30T10:09:41.992566",
   "version": "2.4.0"
  }
 },
 "nbformat": 4,
 "nbformat_minor": 5
}
