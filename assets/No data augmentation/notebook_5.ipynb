{
 "cells": [
  {
   "cell_type": "markdown",
   "id": "cbb67538",
   "metadata": {
    "papermill": {
     "duration": 0.00943,
     "end_time": "2023-06-30T12:26:59.159475",
     "exception": false,
     "start_time": "2023-06-30T12:26:59.150045",
     "status": "completed"
    },
    "tags": []
   },
   "source": [
    "# Facial Emotion Recognition | VGG19 Model - FER2013 Dataset"
   ]
  },
  {
   "cell_type": "markdown",
   "id": "f9e1eb42",
   "metadata": {
    "papermill": {
     "duration": 0.008518,
     "end_time": "2023-06-30T12:26:59.176884",
     "exception": false,
     "start_time": "2023-06-30T12:26:59.168366",
     "status": "completed"
    },
    "tags": []
   },
   "source": [
    "## Library"
   ]
  },
  {
   "cell_type": "code",
   "execution_count": 1,
   "id": "2234c372",
   "metadata": {
    "execution": {
     "iopub.execute_input": "2023-06-30T12:26:59.196422Z",
     "iopub.status.busy": "2023-06-30T12:26:59.195707Z",
     "iopub.status.idle": "2023-06-30T12:27:08.896351Z",
     "shell.execute_reply": "2023-06-30T12:27:08.895413Z"
    },
    "papermill": {
     "duration": 9.713109,
     "end_time": "2023-06-30T12:27:08.898728",
     "exception": false,
     "start_time": "2023-06-30T12:26:59.185619",
     "status": "completed"
    },
    "tags": []
   },
   "outputs": [
    {
     "name": "stderr",
     "output_type": "stream",
     "text": [
      "/opt/conda/lib/python3.10/site-packages/tensorflow_io/python/ops/__init__.py:98: UserWarning: unable to load libtensorflow_io_plugins.so: unable to open file: libtensorflow_io_plugins.so, from paths: ['/opt/conda/lib/python3.10/site-packages/tensorflow_io/python/ops/libtensorflow_io_plugins.so']\n",
      "caused by: ['/opt/conda/lib/python3.10/site-packages/tensorflow_io/python/ops/libtensorflow_io_plugins.so: undefined symbol: _ZN3tsl6StatusC1EN10tensorflow5error4CodeESt17basic_string_viewIcSt11char_traitsIcEENS_14SourceLocationE']\n",
      "  warnings.warn(f\"unable to load libtensorflow_io_plugins.so: {e}\")\n",
      "/opt/conda/lib/python3.10/site-packages/tensorflow_io/python/ops/__init__.py:104: UserWarning: file system plugins are not loaded: unable to open file: libtensorflow_io.so, from paths: ['/opt/conda/lib/python3.10/site-packages/tensorflow_io/python/ops/libtensorflow_io.so']\n",
      "caused by: ['/opt/conda/lib/python3.10/site-packages/tensorflow_io/python/ops/libtensorflow_io.so: undefined symbol: _ZTVN10tensorflow13GcsFileSystemE']\n",
      "  warnings.warn(f\"file system plugins are not loaded: {e}\")\n"
     ]
    }
   ],
   "source": [
    "import math\n",
    "import numpy as np\n",
    "import pandas as pd\n",
    "\n",
    "import cv2\n",
    "import scikitplot\n",
    "import seaborn as sns\n",
    "from matplotlib import pyplot\n",
    "\n",
    "from sklearn.model_selection import train_test_split\n",
    "from sklearn.preprocessing import LabelEncoder\n",
    "from sklearn.metrics import classification_report\n",
    "\n",
    "import tensorflow as tf\n",
    "from tensorflow.keras import optimizers\n",
    "from tensorflow.keras.models import Model\n",
    "from tensorflow.keras.layers import Flatten, Dense, Conv2D, GlobalAveragePooling2D, GlobalMaxPooling2D\n",
    "from tensorflow.keras.layers import Dropout, BatchNormalization, Activation\n",
    "from tensorflow.keras.callbacks import Callback, EarlyStopping, ReduceLROnPlateau\n",
    "from tensorflow.keras.preprocessing.image import ImageDataGenerator\n",
    "\n",
    "from keras.utils import np_utils"
   ]
  },
  {
   "cell_type": "markdown",
   "id": "6aac85a6",
   "metadata": {
    "execution": {
     "iopub.execute_input": "2023-06-29T06:13:44.132285Z",
     "iopub.status.busy": "2023-06-29T06:13:44.131210Z",
     "iopub.status.idle": "2023-06-29T06:13:44.139785Z",
     "shell.execute_reply": "2023-06-29T06:13:44.138594Z",
     "shell.execute_reply.started": "2023-06-29T06:13:44.132217Z"
    },
    "papermill": {
     "duration": 0.008643,
     "end_time": "2023-06-30T12:27:08.916692",
     "exception": false,
     "start_time": "2023-06-30T12:27:08.908049",
     "status": "completed"
    },
    "tags": []
   },
   "source": [
    "## Extract data from dataset and rehshape data back to 2D dimension"
   ]
  },
  {
   "cell_type": "code",
   "execution_count": 2,
   "id": "ef6a26f8",
   "metadata": {
    "execution": {
     "iopub.execute_input": "2023-06-30T12:27:08.936449Z",
     "iopub.status.busy": "2023-06-30T12:27:08.935265Z",
     "iopub.status.idle": "2023-06-30T12:27:13.853244Z",
     "shell.execute_reply": "2023-06-30T12:27:13.852394Z"
    },
    "papermill": {
     "duration": 4.93011,
     "end_time": "2023-06-30T12:27:13.855638",
     "exception": false,
     "start_time": "2023-06-30T12:27:08.925528",
     "status": "completed"
    },
    "tags": []
   },
   "outputs": [
    {
     "name": "stdout",
     "output_type": "stream",
     "text": [
      "(35887, 3)\n"
     ]
    },
    {
     "data": {
      "text/html": [
       "<div>\n",
       "<style scoped>\n",
       "    .dataframe tbody tr th:only-of-type {\n",
       "        vertical-align: middle;\n",
       "    }\n",
       "\n",
       "    .dataframe tbody tr th {\n",
       "        vertical-align: top;\n",
       "    }\n",
       "\n",
       "    .dataframe thead th {\n",
       "        text-align: right;\n",
       "    }\n",
       "</style>\n",
       "<table border=\"1\" class=\"dataframe\">\n",
       "  <thead>\n",
       "    <tr style=\"text-align: right;\">\n",
       "      <th></th>\n",
       "      <th>emotion</th>\n",
       "      <th>pixels</th>\n",
       "      <th>Usage</th>\n",
       "    </tr>\n",
       "  </thead>\n",
       "  <tbody>\n",
       "    <tr>\n",
       "      <th>0</th>\n",
       "      <td>0</td>\n",
       "      <td>70 80 82 72 58 58 60 63 54 58 60 48 89 115 121...</td>\n",
       "      <td>Training</td>\n",
       "    </tr>\n",
       "    <tr>\n",
       "      <th>1</th>\n",
       "      <td>0</td>\n",
       "      <td>151 150 147 155 148 133 111 140 170 174 182 15...</td>\n",
       "      <td>Training</td>\n",
       "    </tr>\n",
       "    <tr>\n",
       "      <th>2</th>\n",
       "      <td>2</td>\n",
       "      <td>231 212 156 164 174 138 161 173 182 200 106 38...</td>\n",
       "      <td>Training</td>\n",
       "    </tr>\n",
       "    <tr>\n",
       "      <th>3</th>\n",
       "      <td>4</td>\n",
       "      <td>24 32 36 30 32 23 19 20 30 41 21 22 32 34 21 1...</td>\n",
       "      <td>Training</td>\n",
       "    </tr>\n",
       "    <tr>\n",
       "      <th>4</th>\n",
       "      <td>6</td>\n",
       "      <td>4 0 0 0 0 0 0 0 0 0 0 0 3 15 23 28 48 50 58 84...</td>\n",
       "      <td>Training</td>\n",
       "    </tr>\n",
       "  </tbody>\n",
       "</table>\n",
       "</div>"
      ],
      "text/plain": [
       "   emotion                                             pixels     Usage\n",
       "0        0  70 80 82 72 58 58 60 63 54 58 60 48 89 115 121...  Training\n",
       "1        0  151 150 147 155 148 133 111 140 170 174 182 15...  Training\n",
       "2        2  231 212 156 164 174 138 161 173 182 200 106 38...  Training\n",
       "3        4  24 32 36 30 32 23 19 20 30 41 21 22 32 34 21 1...  Training\n",
       "4        6  4 0 0 0 0 0 0 0 0 0 0 0 3 15 23 28 48 50 58 84...  Training"
      ]
     },
     "execution_count": 2,
     "metadata": {},
     "output_type": "execute_result"
    }
   ],
   "source": [
    "df = pd.read_csv('/kaggle/input/fer-2013/fer2013/fer2013/fer2013.csv')\n",
    "print(df.shape)\n",
    "df.head()"
   ]
  },
  {
   "cell_type": "code",
   "execution_count": 3,
   "id": "4e1876e9",
   "metadata": {
    "execution": {
     "iopub.execute_input": "2023-06-30T12:27:13.875515Z",
     "iopub.status.busy": "2023-06-30T12:27:13.875241Z",
     "iopub.status.idle": "2023-06-30T12:28:29.413921Z",
     "shell.execute_reply": "2023-06-30T12:28:29.412904Z"
    },
    "papermill": {
     "duration": 75.551636,
     "end_time": "2023-06-30T12:28:29.416819",
     "exception": false,
     "start_time": "2023-06-30T12:27:13.865183",
     "status": "completed"
    },
    "tags": []
   },
   "outputs": [],
   "source": [
    "img_array = df.pixels.apply(lambda x: np.array(x.split(' ')).reshape(48, 48).astype('float32'))\n",
    "img_array = np.stack(img_array, axis = 0)"
   ]
  },
  {
   "cell_type": "code",
   "execution_count": 4,
   "id": "48e7e777",
   "metadata": {
    "execution": {
     "iopub.execute_input": "2023-06-30T12:28:29.437029Z",
     "iopub.status.busy": "2023-06-30T12:28:29.436682Z",
     "iopub.status.idle": "2023-06-30T12:28:29.442704Z",
     "shell.execute_reply": "2023-06-30T12:28:29.441876Z"
    },
    "papermill": {
     "duration": 0.018543,
     "end_time": "2023-06-30T12:28:29.444944",
     "exception": false,
     "start_time": "2023-06-30T12:28:29.426401",
     "status": "completed"
    },
    "tags": []
   },
   "outputs": [
    {
     "data": {
      "text/plain": [
       "(35887, 48, 48)"
      ]
     },
     "execution_count": 4,
     "metadata": {},
     "output_type": "execute_result"
    }
   ],
   "source": [
    "img_array.shape"
   ]
  },
  {
   "cell_type": "markdown",
   "id": "68c13c80",
   "metadata": {
    "papermill": {
     "duration": 0.008953,
     "end_time": "2023-06-30T12:28:29.463198",
     "exception": false,
     "start_time": "2023-06-30T12:28:29.454245",
     "status": "completed"
    },
    "tags": []
   },
   "source": [
    "## Convert Data to RBG (to compatiable with VGG 19), also normalization using Min Max Scale"
   ]
  },
  {
   "cell_type": "code",
   "execution_count": 5,
   "id": "49fdcd36",
   "metadata": {
    "execution": {
     "iopub.execute_input": "2023-06-30T12:28:29.484070Z",
     "iopub.status.busy": "2023-06-30T12:28:29.483201Z",
     "iopub.status.idle": "2023-06-30T12:28:30.691939Z",
     "shell.execute_reply": "2023-06-30T12:28:30.690706Z"
    },
    "papermill": {
     "duration": 1.221833,
     "end_time": "2023-06-30T12:28:30.694788",
     "exception": false,
     "start_time": "2023-06-30T12:28:29.472955",
     "status": "completed"
    },
    "tags": []
   },
   "outputs": [
    {
     "name": "stdout",
     "output_type": "stream",
     "text": [
      "(35887, 48, 48, 3)\n"
     ]
    }
   ],
   "source": [
    "img_features = []\n",
    "\n",
    "for i in range(len(img_array)):\n",
    "    temp = cv2.cvtColor(img_array[i], cv2.COLOR_GRAY2RGB)\n",
    "    img_features.append(temp)\n",
    "\n",
    "img_features = np.array(img_features)\n",
    "print(img_features.shape)\n",
    "\n",
    "img_features = img_features/255"
   ]
  },
  {
   "cell_type": "code",
   "execution_count": 6,
   "id": "d76acf07",
   "metadata": {
    "execution": {
     "iopub.execute_input": "2023-06-30T12:28:30.717427Z",
     "iopub.status.busy": "2023-06-30T12:28:30.715624Z",
     "iopub.status.idle": "2023-06-30T12:28:30.966669Z",
     "shell.execute_reply": "2023-06-30T12:28:30.965687Z"
    },
    "papermill": {
     "duration": 0.263711,
     "end_time": "2023-06-30T12:28:30.968888",
     "exception": false,
     "start_time": "2023-06-30T12:28:30.705177",
     "status": "completed"
    },
    "tags": []
   },
   "outputs": [
    {
     "data": {
      "image/png": "[encoded data removed]",
      "text/plain": [
       "<Figure size 640x480 with 1 Axes>"
      ]
     },
     "metadata": {},
     "output_type": "display_data"
    }
   ],
   "source": [
    "pyplot.imshow((img_features[0]*255).astype(np.uint8));"
   ]
  },
  {
   "cell_type": "code",
   "execution_count": 7,
   "id": "96db90d8",
   "metadata": {
    "execution": {
     "iopub.execute_input": "2023-06-30T12:28:30.989983Z",
     "iopub.status.busy": "2023-06-30T12:28:30.989690Z",
     "iopub.status.idle": "2023-06-30T12:28:31.002246Z",
     "shell.execute_reply": "2023-06-30T12:28:31.001146Z"
    },
    "papermill": {
     "duration": 0.025262,
     "end_time": "2023-06-30T12:28:31.004363",
     "exception": false,
     "start_time": "2023-06-30T12:28:30.979101",
     "status": "completed"
    },
    "tags": []
   },
   "outputs": [
    {
     "data": {
      "text/plain": [
       "(35887, 7)"
      ]
     },
     "execution_count": 7,
     "metadata": {},
     "output_type": "execute_result"
    }
   ],
   "source": [
    "le = LabelEncoder()\n",
    "\n",
    "img_labels = le.fit_transform(df.emotion)\n",
    "img_labels = np_utils.to_categorical(img_labels)\n",
    "img_labels.shape"
   ]
  },
  {
   "cell_type": "code",
   "execution_count": 8,
   "id": "cec7e48e",
   "metadata": {
    "execution": {
     "iopub.execute_input": "2023-06-30T12:28:31.025522Z",
     "iopub.status.busy": "2023-06-30T12:28:31.024722Z",
     "iopub.status.idle": "2023-06-30T12:28:31.028950Z",
     "shell.execute_reply": "2023-06-30T12:28:31.028111Z"
    },
    "papermill": {
     "duration": 0.01675,
     "end_time": "2023-06-30T12:28:31.030850",
     "exception": false,
     "start_time": "2023-06-30T12:28:31.014100",
     "status": "completed"
    },
    "tags": []
   },
   "outputs": [],
   "source": [
    "# le_name_mapping = dict(zip(le.classes_, le.transform(le.classes_)))\n",
    "# print(le_name_mapping)"
   ]
  },
  {
   "cell_type": "markdown",
   "id": "b23c8775",
   "metadata": {
    "papermill": {
     "duration": 0.009498,
     "end_time": "2023-06-30T12:28:31.050060",
     "exception": false,
     "start_time": "2023-06-30T12:28:31.040562",
     "status": "completed"
    },
    "tags": []
   },
   "source": [
    "### Splitting the data into training and validation set."
   ]
  },
  {
   "cell_type": "code",
   "execution_count": 9,
   "id": "d8b8601a",
   "metadata": {
    "execution": {
     "iopub.execute_input": "2023-06-30T12:28:31.070888Z",
     "iopub.status.busy": "2023-06-30T12:28:31.070170Z",
     "iopub.status.idle": "2023-06-30T12:28:32.373223Z",
     "shell.execute_reply": "2023-06-30T12:28:32.372299Z"
    },
    "papermill": {
     "duration": 1.315834,
     "end_time": "2023-06-30T12:28:32.375586",
     "exception": false,
     "start_time": "2023-06-30T12:28:31.059752",
     "status": "completed"
    },
    "tags": []
   },
   "outputs": [
    {
     "data": {
      "text/plain": [
       "((28745, 48, 48, 3),\n",
       " (3553, 48, 48, 3),\n",
       " (3589, 48, 48, 3),\n",
       " (28745, 7),\n",
       " (3553, 7),\n",
       " (3589, 7))"
      ]
     },
     "execution_count": 9,
     "metadata": {},
     "output_type": "execute_result"
    }
   ],
   "source": [
    "X_train_valid, X_test, y_train_valid, y_test = train_test_split(img_features, \n",
    "                                                      img_labels, \n",
    "                                                      shuffle = True, \n",
    "                                                      stratify = img_labels, \n",
    "                                                      test_size = 0.1, \n",
    "                                                      random_state = 42)\n",
    "\n",
    "X_train, X_valid, y_train, y_valid = train_test_split(X_train_valid, \n",
    "                                                      y_train_valid, \n",
    "                                                      shuffle = True, \n",
    "                                                      stratify = y_train_valid, \n",
    "                                                      test_size = 0.11, \n",
    "                                                      random_state = 42)\n",
    "X_train.shape, X_valid.shape,X_test.shape, y_train.shape, y_valid.shape, y_test.shape"
   ]
  },
  {
   "cell_type": "code",
   "execution_count": 10,
   "id": "83367e08",
   "metadata": {
    "execution": {
     "iopub.execute_input": "2023-06-30T12:28:32.399909Z",
     "iopub.status.busy": "2023-06-30T12:28:32.399575Z",
     "iopub.status.idle": "2023-06-30T12:28:32.403875Z",
     "shell.execute_reply": "2023-06-30T12:28:32.402883Z"
    },
    "papermill": {
     "duration": 0.020387,
     "end_time": "2023-06-30T12:28:32.406157",
     "exception": false,
     "start_time": "2023-06-30T12:28:32.385770",
     "status": "completed"
    },
    "tags": []
   },
   "outputs": [],
   "source": [
    "# X_train,X_valid, y_train, y_valid = train_test_split(img_features, \n",
    "#                                                       img_labels, \n",
    "#                                                       shuffle = True, \n",
    "#                                                       stratify = img_labels, \n",
    "#                                                       test_size = 0.1, \n",
    "#                                                       random_state = 42)\n"
   ]
  },
  {
   "cell_type": "code",
   "execution_count": 11,
   "id": "2505b9ba",
   "metadata": {
    "execution": {
     "iopub.execute_input": "2023-06-30T12:28:32.427512Z",
     "iopub.status.busy": "2023-06-30T12:28:32.426631Z",
     "iopub.status.idle": "2023-06-30T12:28:32.430886Z",
     "shell.execute_reply": "2023-06-30T12:28:32.430084Z"
    },
    "papermill": {
     "duration": 0.016747,
     "end_time": "2023-06-30T12:28:32.432724",
     "exception": false,
     "start_time": "2023-06-30T12:28:32.415977",
     "status": "completed"
    },
    "tags": []
   },
   "outputs": [],
   "source": [
    "# del df\n",
    "# del img_features\n",
    "# del img_labels"
   ]
  },
  {
   "cell_type": "code",
   "execution_count": 12,
   "id": "50399c7c",
   "metadata": {
    "execution": {
     "iopub.execute_input": "2023-06-30T12:28:32.453864Z",
     "iopub.status.busy": "2023-06-30T12:28:32.453155Z",
     "iopub.status.idle": "2023-06-30T12:28:36.080805Z",
     "shell.execute_reply": "2023-06-30T12:28:36.079814Z"
    },
    "papermill": {
     "duration": 3.6408,
     "end_time": "2023-06-30T12:28:36.083417",
     "exception": false,
     "start_time": "2023-06-30T12:28:32.442617",
     "status": "completed"
    },
    "tags": []
   },
   "outputs": [
    {
     "name": "stdout",
     "output_type": "stream",
     "text": [
      "Downloading data from https://storage.googleapis.com/tensorflow/keras-applications/vgg19/vgg19_weights_tf_dim_ordering_tf_kernels_notop.h5\n",
      "80134624/80134624 [==============================] - 0s 0us/step\n"
     ]
    }
   ],
   "source": [
    "vgg = tf.keras.applications.VGG19(weights = 'imagenet',\n",
    "                                  include_top = False,\n",
    "                                  input_shape = (48, 48, 3))"
   ]
  },
  {
   "cell_type": "markdown",
   "id": "3aeea35d",
   "metadata": {
    "papermill": {
     "duration": 0.010722,
     "end_time": "2023-06-30T12:28:36.105198",
     "exception": false,
     "start_time": "2023-06-30T12:28:36.094476",
     "status": "completed"
    },
    "tags": []
   },
   "source": [
    "This code makes all layers of a VGG19 model non-trainable. This allows the model to be applied to a new problem using only pre-learned features, rather than reflecting changes in the training data to the model, while preserving the pre-trained weights. This is a technique often used in transfer learning applications.\n",
    "\n",
    "In particular, while developing a facial emotion recognition model using the VGG19 model, the pre-trained weights of the model are preserved, allowing it to be used in solving a new emotion recognition problem. In this way, it may be possible to obtain better results using less data."
   ]
  },
  {
   "cell_type": "code",
   "execution_count": 13,
   "id": "f76f51f3",
   "metadata": {
    "execution": {
     "iopub.execute_input": "2023-06-30T12:28:36.128227Z",
     "iopub.status.busy": "2023-06-30T12:28:36.127920Z",
     "iopub.status.idle": "2023-06-30T12:28:36.173692Z",
     "shell.execute_reply": "2023-06-30T12:28:36.172897Z"
    },
    "papermill": {
     "duration": 0.091387,
     "end_time": "2023-06-30T12:28:36.207466",
     "exception": false,
     "start_time": "2023-06-30T12:28:36.116079",
     "status": "completed"
    },
    "tags": []
   },
   "outputs": [
    {
     "name": "stdout",
     "output_type": "stream",
     "text": [
      "Model: \"vgg19\"\n",
      "_________________________________________________________________\n",
      " Layer (type)                Output Shape              Param #   \n",
      "=================================================================\n",
      " input_1 (InputLayer)        [(None, 48, 48, 3)]       0         \n",
      "                                                                 \n",
      " block1_conv1 (Conv2D)       (None, 48, 48, 64)        1792      \n",
      "                                                                 \n",
      " block1_conv2 (Conv2D)       (None, 48, 48, 64)        36928     \n",
      "                                                                 \n",
      " block1_pool (MaxPooling2D)  (None, 24, 24, 64)        0         \n",
      "                                                                 \n",
      " block2_conv1 (Conv2D)       (None, 24, 24, 128)       73856     \n",
      "                                                                 \n",
      " block2_conv2 (Conv2D)       (None, 24, 24, 128)       147584    \n",
      "                                                                 \n",
      " block2_pool (MaxPooling2D)  (None, 12, 12, 128)       0         \n",
      "                                                                 \n",
      " block3_conv1 (Conv2D)       (None, 12, 12, 256)       295168    \n",
      "                                                                 \n",
      " block3_conv2 (Conv2D)       (None, 12, 12, 256)       590080    \n",
      "                                                                 \n",
      " block3_conv3 (Conv2D)       (None, 12, 12, 256)       590080    \n",
      "                                                                 \n",
      " block3_conv4 (Conv2D)       (None, 12, 12, 256)       590080    \n",
      "                                                                 \n",
      " block3_pool (MaxPooling2D)  (None, 6, 6, 256)         0         \n",
      "                                                                 \n",
      " block4_conv1 (Conv2D)       (None, 6, 6, 512)         1180160   \n",
      "                                                                 \n",
      " block4_conv2 (Conv2D)       (None, 6, 6, 512)         2359808   \n",
      "                                                                 \n",
      " block4_conv3 (Conv2D)       (None, 6, 6, 512)         2359808   \n",
      "                                                                 \n",
      " block4_conv4 (Conv2D)       (None, 6, 6, 512)         2359808   \n",
      "                                                                 \n",
      " block4_pool (MaxPooling2D)  (None, 3, 3, 512)         0         \n",
      "                                                                 \n",
      " block5_conv1 (Conv2D)       (None, 3, 3, 512)         2359808   \n",
      "                                                                 \n",
      " block5_conv2 (Conv2D)       (None, 3, 3, 512)         2359808   \n",
      "                                                                 \n",
      " block5_conv3 (Conv2D)       (None, 3, 3, 512)         2359808   \n",
      "                                                                 \n",
      " block5_conv4 (Conv2D)       (None, 3, 3, 512)         2359808   \n",
      "                                                                 \n",
      " block5_pool (MaxPooling2D)  (None, 1, 1, 512)         0         \n",
      "                                                                 \n",
      "=================================================================\n",
      "Total params: 20,024,384\n",
      "Trainable params: 20,024,384\n",
      "Non-trainable params: 0\n",
      "_________________________________________________________________\n"
     ]
    }
   ],
   "source": [
    "vgg.summary()"
   ]
  },
  {
   "cell_type": "code",
   "execution_count": 14,
   "id": "15685ce4",
   "metadata": {
    "execution": {
     "iopub.execute_input": "2023-06-30T12:28:36.240171Z",
     "iopub.status.busy": "2023-06-30T12:28:36.239830Z",
     "iopub.status.idle": "2023-06-30T12:28:36.244557Z",
     "shell.execute_reply": "2023-06-30T12:28:36.243793Z"
    },
    "papermill": {
     "duration": 0.023352,
     "end_time": "2023-06-30T12:28:36.246625",
     "exception": false,
     "start_time": "2023-06-30T12:28:36.223273",
     "status": "completed"
    },
    "tags": []
   },
   "outputs": [],
   "source": [
    "def build_model(bottom_model, classes):\n",
    "    model = bottom_model.layers[-2].output\n",
    "    model = GlobalMaxPooling2D()(model)\n",
    "    model = Dense(classes, activation = 'softmax', name = 'out_layer')(model)\n",
    "    \n",
    "    return model"
   ]
  },
  {
   "cell_type": "code",
   "execution_count": 15,
   "id": "f88a0ef6",
   "metadata": {
    "execution": {
     "iopub.execute_input": "2023-06-30T12:28:36.276684Z",
     "iopub.status.busy": "2023-06-30T12:28:36.276391Z",
     "iopub.status.idle": "2023-06-30T12:28:36.345247Z",
     "shell.execute_reply": "2023-06-30T12:28:36.344555Z"
    },
    "papermill": {
     "duration": 0.122253,
     "end_time": "2023-06-30T12:28:36.383463",
     "exception": false,
     "start_time": "2023-06-30T12:28:36.261210",
     "status": "completed"
    },
    "tags": []
   },
   "outputs": [
    {
     "name": "stdout",
     "output_type": "stream",
     "text": [
      "Model: \"model\"\n",
      "_________________________________________________________________\n",
      " Layer (type)                Output Shape              Param #   \n",
      "=================================================================\n",
      " input_1 (InputLayer)        [(None, 48, 48, 3)]       0         \n",
      "                                                                 \n",
      " block1_conv1 (Conv2D)       (None, 48, 48, 64)        1792      \n",
      "                                                                 \n",
      " block1_conv2 (Conv2D)       (None, 48, 48, 64)        36928     \n",
      "                                                                 \n",
      " block1_pool (MaxPooling2D)  (None, 24, 24, 64)        0         \n",
      "                                                                 \n",
      " block2_conv1 (Conv2D)       (None, 24, 24, 128)       73856     \n",
      "                                                                 \n",
      " block2_conv2 (Conv2D)       (None, 24, 24, 128)       147584    \n",
      "                                                                 \n",
      " block2_pool (MaxPooling2D)  (None, 12, 12, 128)       0         \n",
      "                                                                 \n",
      " block3_conv1 (Conv2D)       (None, 12, 12, 256)       295168    \n",
      "                                                                 \n",
      " block3_conv2 (Conv2D)       (None, 12, 12, 256)       590080    \n",
      "                                                                 \n",
      " block3_conv3 (Conv2D)       (None, 12, 12, 256)       590080    \n",
      "                                                                 \n",
      " block3_conv4 (Conv2D)       (None, 12, 12, 256)       590080    \n",
      "                                                                 \n",
      " block3_pool (MaxPooling2D)  (None, 6, 6, 256)         0         \n",
      "                                                                 \n",
      " block4_conv1 (Conv2D)       (None, 6, 6, 512)         1180160   \n",
      "                                                                 \n",
      " block4_conv2 (Conv2D)       (None, 6, 6, 512)         2359808   \n",
      "                                                                 \n",
      " block4_conv3 (Conv2D)       (None, 6, 6, 512)         2359808   \n",
      "                                                                 \n",
      " block4_conv4 (Conv2D)       (None, 6, 6, 512)         2359808   \n",
      "                                                                 \n",
      " block4_pool (MaxPooling2D)  (None, 3, 3, 512)         0         \n",
      "                                                                 \n",
      " block5_conv1 (Conv2D)       (None, 3, 3, 512)         2359808   \n",
      "                                                                 \n",
      " block5_conv2 (Conv2D)       (None, 3, 3, 512)         2359808   \n",
      "                                                                 \n",
      " block5_conv3 (Conv2D)       (None, 3, 3, 512)         2359808   \n",
      "                                                                 \n",
      " block5_conv4 (Conv2D)       (None, 3, 3, 512)         2359808   \n",
      "                                                                 \n",
      " global_max_pooling2d (Globa  (None, 512)              0         \n",
      " lMaxPooling2D)                                                  \n",
      "                                                                 \n",
      " out_layer (Dense)           (None, 7)                 3591      \n",
      "                                                                 \n",
      "=================================================================\n",
      "Total params: 20,027,975\n",
      "Trainable params: 20,027,975\n",
      "Non-trainable params: 0\n",
      "_________________________________________________________________\n",
      "None\n"
     ]
    }
   ],
   "source": [
    "num_classes = 7\n",
    "head = build_model(vgg, num_classes)\n",
    "\n",
    "model = Model(inputs = vgg.input, outputs = head)\n",
    "\n",
    "print(model.summary())"
   ]
  },
  {
   "cell_type": "code",
   "execution_count": 16,
   "id": "a19d6f11",
   "metadata": {
    "execution": {
     "iopub.execute_input": "2023-06-30T12:28:36.431083Z",
     "iopub.status.busy": "2023-06-30T12:28:36.430755Z",
     "iopub.status.idle": "2023-06-30T12:28:36.438188Z",
     "shell.execute_reply": "2023-06-30T12:28:36.437176Z"
    },
    "papermill": {
     "duration": 0.035991,
     "end_time": "2023-06-30T12:28:36.440871",
     "exception": false,
     "start_time": "2023-06-30T12:28:36.404880",
     "status": "completed"
    },
    "tags": []
   },
   "outputs": [
    {
     "name": "stdout",
     "output_type": "stream",
     "text": [
      "input_1 True\n",
      "block1_conv1 True\n",
      "block1_conv2 True\n",
      "block1_pool True\n",
      "block2_conv1 True\n",
      "block2_conv2 True\n",
      "block2_pool True\n",
      "block3_conv1 True\n",
      "block3_conv2 True\n",
      "block3_conv3 True\n",
      "block3_conv4 True\n",
      "block3_pool True\n",
      "block4_conv1 True\n",
      "block4_conv2 True\n",
      "block4_conv3 True\n",
      "block4_conv4 True\n",
      "block4_pool True\n",
      "block5_conv1 True\n",
      "block5_conv2 True\n",
      "block5_conv3 True\n",
      "block5_conv4 True\n",
      "global_max_pooling2d True\n",
      "out_layer True\n"
     ]
    }
   ],
   "source": [
    "# Freeze layers up to block1_pool\n",
    "for layer in model.layers:\n",
    "    layer.trainable = True\n",
    "# for layer in model.layers[:4]:\n",
    "#     layer.trainable = False\n",
    "for layer in model.layers:\n",
    "    print(layer.name, layer.trainable)"
   ]
  },
  {
   "cell_type": "markdown",
   "id": "3e4ae3f1",
   "metadata": {
    "papermill": {
     "duration": 0.020411,
     "end_time": "2023-06-30T12:28:36.482011",
     "exception": false,
     "start_time": "2023-06-30T12:28:36.461600",
     "status": "completed"
    },
    "tags": []
   },
   "source": [
    "### I used two callbacks one is `early stopping` for avoiding overfitting training data and other `ReduceLROnPlateau` for learning rate.\n"
   ]
  },
  {
   "cell_type": "code",
   "execution_count": 17,
   "id": "8e1103ed",
   "metadata": {
    "execution": {
     "iopub.execute_input": "2023-06-30T12:28:36.523126Z",
     "iopub.status.busy": "2023-06-30T12:28:36.522809Z",
     "iopub.status.idle": "2023-06-30T12:28:36.528560Z",
     "shell.execute_reply": "2023-06-30T12:28:36.527539Z"
    },
    "papermill": {
     "duration": 0.029367,
     "end_time": "2023-06-30T12:28:36.530705",
     "exception": false,
     "start_time": "2023-06-30T12:28:36.501338",
     "status": "completed"
    },
    "tags": []
   },
   "outputs": [],
   "source": [
    "early_stopping = EarlyStopping(monitor = 'val_accuracy', \n",
    "                               min_delta = 0.00005, \n",
    "                               patience = 11,\n",
    "                               verbose = 1, \n",
    "                               restore_best_weights = True,)\n",
    "\n",
    "lr_scheduler = ReduceLROnPlateau(monitor = 'val_accuracy', \n",
    "                                 factor = 0.5, \n",
    "                                 patience = 7,\n",
    "                                 min_lr = 1e-7,\n",
    "                                 verbose = 1,)\n",
    "\n",
    "callbacks = [early_stopping,lr_scheduler,]"
   ]
  },
  {
   "cell_type": "markdown",
   "id": "8b4cd0e1",
   "metadata": {
    "papermill": {
     "duration": 0.019758,
     "end_time": "2023-06-30T12:28:36.570461",
     "exception": false,
     "start_time": "2023-06-30T12:28:36.550703",
     "status": "completed"
    },
    "tags": []
   },
   "source": [
    "### As the data in hand is less as compared to the task so ImageDataGenerator is good to go."
   ]
  },
  {
   "cell_type": "code",
   "execution_count": 18,
   "id": "994d8b74",
   "metadata": {
    "execution": {
     "iopub.execute_input": "2023-06-30T12:28:36.611203Z",
     "iopub.status.busy": "2023-06-30T12:28:36.610908Z",
     "iopub.status.idle": "2023-06-30T12:28:36.886978Z",
     "shell.execute_reply": "2023-06-30T12:28:36.885884Z"
    },
    "papermill": {
     "duration": 0.299362,
     "end_time": "2023-06-30T12:28:36.889571",
     "exception": false,
     "start_time": "2023-06-30T12:28:36.590209",
     "status": "completed"
    },
    "tags": []
   },
   "outputs": [],
   "source": [
    "train_datagen = ImageDataGenerator(rotation_range = 15,\n",
    "                                   width_shift_range = 0.15,\n",
    "                                   height_shift_range = 0.15,\n",
    "                                   shear_range = 0.15,\n",
    "                                   zoom_range = 0.15,\n",
    "                                   horizontal_flip = True,)\n",
    "train_datagen.fit(X_train)"
   ]
  },
  {
   "cell_type": "code",
   "execution_count": 19,
   "id": "9490b2d5",
   "metadata": {
    "execution": {
     "iopub.execute_input": "2023-06-30T12:28:36.929521Z",
     "iopub.status.busy": "2023-06-30T12:28:36.928921Z",
     "iopub.status.idle": "2023-06-30T12:28:36.948571Z",
     "shell.execute_reply": "2023-06-30T12:28:36.947686Z"
    },
    "papermill": {
     "duration": 0.041854,
     "end_time": "2023-06-30T12:28:36.950760",
     "exception": false,
     "start_time": "2023-06-30T12:28:36.908906",
     "status": "completed"
    },
    "tags": []
   },
   "outputs": [],
   "source": [
    "# batch size of 32 performs the best.\n",
    "batch_size = 32 \n",
    "epochs = 60\n",
    "optims = [optimizers.Adam(learning_rate = 0.0001, beta_1 = 0.9, beta_2 = 0.999),]\n",
    "\n",
    "model.compile(loss = 'categorical_crossentropy',\n",
    "              optimizer = optims[0],\n",
    "              metrics = ['accuracy'])\n"
   ]
  },
  {
   "cell_type": "code",
   "execution_count": 20,
   "id": "d132beee",
   "metadata": {
    "execution": {
     "iopub.execute_input": "2023-06-30T12:28:36.990995Z",
     "iopub.status.busy": "2023-06-30T12:28:36.990252Z",
     "iopub.status.idle": "2023-06-30T12:28:36.994943Z",
     "shell.execute_reply": "2023-06-30T12:28:36.994118Z"
    },
    "papermill": {
     "duration": 0.027,
     "end_time": "2023-06-30T12:28:36.996952",
     "exception": false,
     "start_time": "2023-06-30T12:28:36.969952",
     "status": "completed"
    },
    "tags": []
   },
   "outputs": [],
   "source": [
    "# history = model.fit(train_datagen.flow(X_train, \n",
    "#                                        y_train, \n",
    "#                                        batch_size = batch_size),\n",
    "#                                        validation_data = (X_valid, y_valid),\n",
    "#                                        steps_per_epoch = len(X_train) / batch_size,\n",
    "\n",
    "#                                        epochs = epochs,\n",
    "#                                        callbacks = callbacks,\n",
    "#                                        use_multiprocessing = True)"
   ]
  },
  {
   "cell_type": "code",
   "execution_count": 21,
   "id": "8871b033",
   "metadata": {
    "execution": {
     "iopub.execute_input": "2023-06-30T12:28:37.036071Z",
     "iopub.status.busy": "2023-06-30T12:28:37.034981Z",
     "iopub.status.idle": "2023-06-30T12:53:33.777552Z",
     "shell.execute_reply": "2023-06-30T12:53:33.776488Z"
    },
    "papermill": {
     "duration": 1496.764224,
     "end_time": "2023-06-30T12:53:33.779631",
     "exception": false,
     "start_time": "2023-06-30T12:28:37.015407",
     "status": "completed"
    },
    "tags": []
   },
   "outputs": [
    {
     "name": "stdout",
     "output_type": "stream",
     "text": [
      "Epoch 1/60\n",
      "898/898 [==============================] - 41s 31ms/step - loss: 1.4543 - accuracy: 0.4272 - val_loss: 1.2513 - val_accuracy: 0.5049 - lr: 1.0000e-04\n",
      "Epoch 2/60\n",
      "898/898 [==============================] - 26s 29ms/step - loss: 1.1580 - accuracy: 0.5571 - val_loss: 1.1563 - val_accuracy: 0.5677 - lr: 1.0000e-04\n",
      "Epoch 3/60\n",
      "898/898 [==============================] - 26s 29ms/step - loss: 1.0347 - accuracy: 0.6117 - val_loss: 1.0618 - val_accuracy: 0.5981 - lr: 1.0000e-04\n",
      "Epoch 4/60\n",
      "898/898 [==============================] - 26s 29ms/step - loss: 0.9317 - accuracy: 0.6537 - val_loss: 1.0618 - val_accuracy: 0.6113 - lr: 1.0000e-04\n",
      "Epoch 5/60\n",
      "898/898 [==============================] - 27s 30ms/step - loss: 0.8247 - accuracy: 0.6986 - val_loss: 1.0180 - val_accuracy: 0.6262 - lr: 1.0000e-04\n",
      "Epoch 6/60\n",
      "898/898 [==============================] - 27s 30ms/step - loss: 0.7149 - accuracy: 0.7404 - val_loss: 1.0293 - val_accuracy: 0.6243 - lr: 1.0000e-04\n",
      "Epoch 7/60\n",
      "898/898 [==============================] - 27s 30ms/step - loss: 0.6012 - accuracy: 0.7848 - val_loss: 1.0839 - val_accuracy: 0.6366 - lr: 1.0000e-04\n",
      "Epoch 8/60\n",
      "898/898 [==============================] - 27s 30ms/step - loss: 0.4907 - accuracy: 0.8279 - val_loss: 1.2304 - val_accuracy: 0.6383 - lr: 1.0000e-04\n",
      "Epoch 9/60\n",
      "898/898 [==============================] - 27s 30ms/step - loss: 0.3895 - accuracy: 0.8640 - val_loss: 1.3447 - val_accuracy: 0.6290 - lr: 1.0000e-04\n",
      "Epoch 10/60\n",
      "898/898 [==============================] - 27s 30ms/step - loss: 0.3029 - accuracy: 0.8943 - val_loss: 1.4009 - val_accuracy: 0.6372 - lr: 1.0000e-04\n",
      "Epoch 11/60\n",
      "898/898 [==============================] - 27s 30ms/step - loss: 0.2422 - accuracy: 0.9180 - val_loss: 1.5942 - val_accuracy: 0.6366 - lr: 1.0000e-04\n",
      "Epoch 12/60\n",
      "898/898 [==============================] - 27s 30ms/step - loss: 0.1936 - accuracy: 0.9353 - val_loss: 1.5425 - val_accuracy: 0.6316 - lr: 1.0000e-04\n",
      "Epoch 13/60\n",
      "898/898 [==============================] - 27s 30ms/step - loss: 0.1668 - accuracy: 0.9445 - val_loss: 1.6739 - val_accuracy: 0.6319 - lr: 1.0000e-04\n",
      "Epoch 14/60\n",
      "898/898 [==============================] - 27s 30ms/step - loss: 0.1396 - accuracy: 0.9541 - val_loss: 1.7065 - val_accuracy: 0.6409 - lr: 1.0000e-04\n",
      "Epoch 15/60\n",
      "898/898 [==============================] - 26s 29ms/step - loss: 0.1257 - accuracy: 0.9597 - val_loss: 1.7935 - val_accuracy: 0.6237 - lr: 1.0000e-04\n",
      "Epoch 16/60\n",
      "898/898 [==============================] - 26s 29ms/step - loss: 0.1112 - accuracy: 0.9631 - val_loss: 1.8154 - val_accuracy: 0.6254 - lr: 1.0000e-04\n",
      "Epoch 17/60\n",
      "898/898 [==============================] - 26s 29ms/step - loss: 0.1071 - accuracy: 0.9644 - val_loss: 1.7709 - val_accuracy: 0.6327 - lr: 1.0000e-04\n",
      "Epoch 18/60\n",
      "898/898 [==============================] - 26s 29ms/step - loss: 0.0881 - accuracy: 0.9705 - val_loss: 2.0202 - val_accuracy: 0.6358 - lr: 1.0000e-04\n",
      "Epoch 19/60\n",
      "898/898 [==============================] - 26s 29ms/step - loss: 0.0947 - accuracy: 0.9689 - val_loss: 1.8895 - val_accuracy: 0.6409 - lr: 1.0000e-04\n",
      "Epoch 20/60\n",
      "898/898 [==============================] - 26s 29ms/step - loss: 0.0843 - accuracy: 0.9723 - val_loss: 1.9892 - val_accuracy: 0.6459 - lr: 1.0000e-04\n",
      "Epoch 21/60\n",
      "898/898 [==============================] - 27s 30ms/step - loss: 0.0720 - accuracy: 0.9764 - val_loss: 2.1299 - val_accuracy: 0.6231 - lr: 1.0000e-04\n",
      "Epoch 22/60\n",
      "898/898 [==============================] - 26s 29ms/step - loss: 0.0865 - accuracy: 0.9718 - val_loss: 2.0121 - val_accuracy: 0.6307 - lr: 1.0000e-04\n",
      "Epoch 23/60\n",
      "898/898 [==============================] - 26s 29ms/step - loss: 0.0684 - accuracy: 0.9778 - val_loss: 2.1508 - val_accuracy: 0.6268 - lr: 1.0000e-04\n",
      "Epoch 24/60\n",
      "898/898 [==============================] - 26s 29ms/step - loss: 0.0704 - accuracy: 0.9774 - val_loss: 2.0953 - val_accuracy: 0.6254 - lr: 1.0000e-04\n",
      "Epoch 25/60\n",
      "898/898 [==============================] - 26s 29ms/step - loss: 0.0712 - accuracy: 0.9767 - val_loss: 1.8951 - val_accuracy: 0.6397 - lr: 1.0000e-04\n",
      "Epoch 26/60\n",
      "898/898 [==============================] - 26s 29ms/step - loss: 0.0620 - accuracy: 0.9788 - val_loss: 2.0896 - val_accuracy: 0.6369 - lr: 1.0000e-04\n",
      "Epoch 27/60\n",
      "897/898 [============================>.] - ETA: 0s - loss: 0.0639 - accuracy: 0.9786\n",
      "Epoch 27: ReduceLROnPlateau reducing learning rate to 4.999999873689376e-05.\n",
      "898/898 [==============================] - 26s 29ms/step - loss: 0.0639 - accuracy: 0.9786 - val_loss: 1.9300 - val_accuracy: 0.6327 - lr: 1.0000e-04\n",
      "Epoch 28/60\n",
      "898/898 [==============================] - 26s 29ms/step - loss: 0.0211 - accuracy: 0.9924 - val_loss: 2.4483 - val_accuracy: 0.6420 - lr: 5.0000e-05\n",
      "Epoch 29/60\n",
      "898/898 [==============================] - 26s 29ms/step - loss: 0.0161 - accuracy: 0.9940 - val_loss: 2.5458 - val_accuracy: 0.6383 - lr: 5.0000e-05\n",
      "Epoch 30/60\n",
      "898/898 [==============================] - 27s 30ms/step - loss: 0.0177 - accuracy: 0.9933 - val_loss: 2.4035 - val_accuracy: 0.6465 - lr: 5.0000e-05\n",
      "Epoch 31/60\n",
      "898/898 [==============================] - 26s 29ms/step - loss: 0.0269 - accuracy: 0.9903 - val_loss: 2.5626 - val_accuracy: 0.6482 - lr: 5.0000e-05\n",
      "Epoch 32/60\n",
      "898/898 [==============================] - 26s 29ms/step - loss: 0.0226 - accuracy: 0.9921 - val_loss: 2.6147 - val_accuracy: 0.6414 - lr: 5.0000e-05\n",
      "Epoch 33/60\n",
      "898/898 [==============================] - 27s 30ms/step - loss: 0.0203 - accuracy: 0.9925 - val_loss: 2.6617 - val_accuracy: 0.6507 - lr: 5.0000e-05\n",
      "Epoch 34/60\n",
      "898/898 [==============================] - 26s 29ms/step - loss: 0.0189 - accuracy: 0.9927 - val_loss: 2.6626 - val_accuracy: 0.6355 - lr: 5.0000e-05\n",
      "Epoch 35/60\n",
      "898/898 [==============================] - 26s 29ms/step - loss: 0.0181 - accuracy: 0.9929 - val_loss: 2.6148 - val_accuracy: 0.6487 - lr: 5.0000e-05\n",
      "Epoch 36/60\n",
      "898/898 [==============================] - 26s 29ms/step - loss: 0.0217 - accuracy: 0.9921 - val_loss: 2.5994 - val_accuracy: 0.6473 - lr: 5.0000e-05\n",
      "Epoch 37/60\n",
      "898/898 [==============================] - 26s 29ms/step - loss: 0.0182 - accuracy: 0.9934 - val_loss: 2.7180 - val_accuracy: 0.6555 - lr: 5.0000e-05\n",
      "Epoch 38/60\n",
      "898/898 [==============================] - 26s 29ms/step - loss: 0.0190 - accuracy: 0.9928 - val_loss: 2.6854 - val_accuracy: 0.6487 - lr: 5.0000e-05\n",
      "Epoch 39/60\n",
      "898/898 [==============================] - 26s 29ms/step - loss: 0.0225 - accuracy: 0.9921 - val_loss: 2.7486 - val_accuracy: 0.6533 - lr: 5.0000e-05\n",
      "Epoch 40/60\n",
      "898/898 [==============================] - 26s 29ms/step - loss: 0.0191 - accuracy: 0.9930 - val_loss: 2.4659 - val_accuracy: 0.6454 - lr: 5.0000e-05\n",
      "Epoch 41/60\n",
      "898/898 [==============================] - 26s 29ms/step - loss: 0.0174 - accuracy: 0.9939 - val_loss: 2.5662 - val_accuracy: 0.6549 - lr: 5.0000e-05\n",
      "Epoch 42/60\n",
      "898/898 [==============================] - 26s 29ms/step - loss: 0.0211 - accuracy: 0.9926 - val_loss: 2.6127 - val_accuracy: 0.6397 - lr: 5.0000e-05\n",
      "Epoch 43/60\n",
      "898/898 [==============================] - 26s 29ms/step - loss: 0.0199 - accuracy: 0.9927 - val_loss: 2.5505 - val_accuracy: 0.6454 - lr: 5.0000e-05\n",
      "Epoch 44/60\n",
      "897/898 [============================>.] - ETA: 0s - loss: 0.0174 - accuracy: 0.9936\n",
      "Epoch 44: ReduceLROnPlateau reducing learning rate to 2.499999936844688e-05.\n",
      "898/898 [==============================] - 26s 29ms/step - loss: 0.0174 - accuracy: 0.9936 - val_loss: 2.8410 - val_accuracy: 0.6527 - lr: 5.0000e-05\n",
      "Epoch 45/60\n",
      "898/898 [==============================] - 26s 29ms/step - loss: 0.0078 - accuracy: 0.9966 - val_loss: 2.8831 - val_accuracy: 0.6575 - lr: 2.5000e-05\n",
      "Epoch 46/60\n",
      "898/898 [==============================] - 26s 29ms/step - loss: 0.0059 - accuracy: 0.9967 - val_loss: 3.1157 - val_accuracy: 0.6561 - lr: 2.5000e-05\n",
      "Epoch 47/60\n",
      "898/898 [==============================] - 26s 29ms/step - loss: 0.0064 - accuracy: 0.9970 - val_loss: 3.1980 - val_accuracy: 0.6504 - lr: 2.5000e-05\n",
      "Epoch 48/60\n",
      "898/898 [==============================] - 26s 29ms/step - loss: 0.0104 - accuracy: 0.9959 - val_loss: 3.2957 - val_accuracy: 0.6437 - lr: 2.5000e-05\n",
      "Epoch 49/60\n",
      "898/898 [==============================] - 27s 30ms/step - loss: 0.0099 - accuracy: 0.9960 - val_loss: 3.2169 - val_accuracy: 0.6493 - lr: 2.5000e-05\n",
      "Epoch 50/60\n",
      "898/898 [==============================] - 27s 30ms/step - loss: 0.0069 - accuracy: 0.9966 - val_loss: 3.4712 - val_accuracy: 0.6454 - lr: 2.5000e-05\n",
      "Epoch 51/60\n",
      "898/898 [==============================] - 27s 30ms/step - loss: 0.0095 - accuracy: 0.9960 - val_loss: 3.2151 - val_accuracy: 0.6485 - lr: 2.5000e-05\n",
      "Epoch 52/60\n",
      "898/898 [============================>.] - ETA: 0s - loss: 0.0088 - accuracy: 0.9961\n",
      "Epoch 52: ReduceLROnPlateau reducing learning rate to 1.249999968422344e-05.\n",
      "898/898 [==============================] - 26s 29ms/step - loss: 0.0088 - accuracy: 0.9961 - val_loss: 3.2793 - val_accuracy: 0.6417 - lr: 2.5000e-05\n",
      "Epoch 53/60\n",
      "898/898 [==============================] - 26s 29ms/step - loss: 0.0061 - accuracy: 0.9969 - val_loss: 3.4353 - val_accuracy: 0.6434 - lr: 1.2500e-05\n",
      "Epoch 54/60\n",
      "898/898 [==============================] - 26s 29ms/step - loss: 0.0048 - accuracy: 0.9974 - val_loss: 3.5102 - val_accuracy: 0.6476 - lr: 1.2500e-05\n",
      "Epoch 55/60\n",
      "898/898 [==============================] - 27s 30ms/step - loss: 0.0047 - accuracy: 0.9974 - val_loss: 3.5602 - val_accuracy: 0.6490 - lr: 1.2500e-05\n",
      "Epoch 56/60\n",
      "897/898 [============================>.] - ETA: 0s - loss: 0.0046 - accuracy: 0.9974Restoring model weights from the end of the best epoch: 45.\n",
      "898/898 [==============================] - 26s 29ms/step - loss: 0.0046 - accuracy: 0.9974 - val_loss: 3.6623 - val_accuracy: 0.6431 - lr: 1.2500e-05\n",
      "Epoch 56: early stopping\n"
     ]
    }
   ],
   "source": [
    "history = model.fit(X_train, y_train, batch_size = batch_size,\n",
    "                                       validation_data = (X_valid, y_valid),\n",
    "                                       steps_per_epoch = len(X_train) / batch_size,\n",
    "\n",
    "                                       epochs = epochs,\n",
    "                                       callbacks = callbacks,\n",
    "                                       use_multiprocessing = True)"
   ]
  },
  {
   "cell_type": "markdown",
   "id": "b8ef1eee",
   "metadata": {
    "papermill": {
     "duration": 1.984249,
     "end_time": "2023-06-30T12:53:38.316198",
     "exception": false,
     "start_time": "2023-06-30T12:53:36.331949",
     "status": "completed"
    },
    "tags": []
   },
   "source": [
    "## Saving model"
   ]
  },
  {
   "cell_type": "code",
   "execution_count": 22,
   "id": "793cf657",
   "metadata": {
    "execution": {
     "iopub.execute_input": "2023-06-30T12:53:42.397597Z",
     "iopub.status.busy": "2023-06-30T12:53:42.397235Z",
     "iopub.status.idle": "2023-06-30T12:54:03.226004Z",
     "shell.execute_reply": "2023-06-30T12:54:03.224906Z"
    },
    "papermill": {
     "duration": 22.896063,
     "end_time": "2023-06-30T12:54:03.228611",
     "exception": false,
     "start_time": "2023-06-30T12:53:40.332548",
     "status": "completed"
    },
    "tags": []
   },
   "outputs": [],
   "source": [
    "model_yaml = model.to_json()\n",
    "with open(\"model.yaml\", \"w\") as yaml_file:\n",
    "    yaml_file.write(model_yaml)\n",
    "    \n",
    "model.save(\"model.h5\")"
   ]
  },
  {
   "cell_type": "markdown",
   "id": "c3cfd9a6",
   "metadata": {
    "papermill": {
     "duration": 2.506963,
     "end_time": "2023-06-30T12:54:07.725170",
     "exception": false,
     "start_time": "2023-06-30T12:54:05.218207",
     "status": "completed"
    },
    "tags": []
   },
   "source": [
    "## Result Visualization"
   ]
  },
  {
   "cell_type": "code",
   "execution_count": 23,
   "id": "819dbc97",
   "metadata": {
    "execution": {
     "iopub.execute_input": "2023-06-30T12:54:11.739751Z",
     "iopub.status.busy": "2023-06-30T12:54:11.739376Z",
     "iopub.status.idle": "2023-06-30T12:54:12.953601Z",
     "shell.execute_reply": "2023-06-30T12:54:12.952701Z"
    },
    "papermill": {
     "duration": 3.224332,
     "end_time": "2023-06-30T12:54:12.955796",
     "exception": false,
     "start_time": "2023-06-30T12:54:09.731464",
     "status": "completed"
    },
    "tags": []
   },
   "outputs": [
    {
     "data": {
      "image/png": "[encoded data removed]",
      "text/plain": [
       "<Figure size 1200x400 with 2 Axes>"
      ]
     },
     "metadata": {},
     "output_type": "display_data"
    }
   ],
   "source": [
    "sns.set()\n",
    "fig = pyplot.figure(0, (12, 4))\n",
    "\n",
    "ax = pyplot.subplot(1, 2, 1)\n",
    "sns.lineplot(x=history.epoch, y=history.history['accuracy'], label='train')\n",
    "sns.lineplot(x=history.epoch, y=history.history['val_accuracy'], label='valid')\n",
    "pyplot.title('Accuracy')\n",
    "pyplot.tight_layout()\n",
    "\n",
    "ax = pyplot.subplot(1, 2, 2)\n",
    "sns.lineplot(x=history.epoch, y=history.history['loss'], label='train')\n",
    "sns.lineplot(x=history.epoch, y=history.history['val_loss'], label='valid')\n",
    "pyplot.title('Loss')\n",
    "pyplot.tight_layout()\n",
    "\n",
    "pyplot.savefig('epoch_history_dcnn.png')\n",
    "pyplot.show()\n"
   ]
  },
  {
   "cell_type": "code",
   "execution_count": 24,
   "id": "c4de9996",
   "metadata": {
    "execution": {
     "iopub.execute_input": "2023-06-30T12:54:16.997044Z",
     "iopub.status.busy": "2023-06-30T12:54:16.996664Z",
     "iopub.status.idle": "2023-06-30T12:54:17.948254Z",
     "shell.execute_reply": "2023-06-30T12:54:17.947331Z"
    },
    "papermill": {
     "duration": 2.989491,
     "end_time": "2023-06-30T12:54:17.950390",
     "exception": false,
     "start_time": "2023-06-30T12:54:14.960899",
     "status": "completed"
    },
    "tags": []
   },
   "outputs": [
    {
     "data": {
      "image/png": "[encoded data removed]",
      "text/plain": [
       "<Figure size 1400x400 with 2 Axes>"
      ]
     },
     "metadata": {},
     "output_type": "display_data"
    }
   ],
   "source": [
    "df_accu = pd.DataFrame({'train': history.history['accuracy'], 'valid': history.history['val_accuracy']})\n",
    "df_loss = pd.DataFrame({'train': history.history['loss'], 'valid': history.history['val_loss']})\n",
    "\n",
    "fig = pyplot.figure(0, (14, 4))\n",
    "ax = pyplot.subplot(1, 2, 1)\n",
    "sns.violinplot(x=\"variable\", y=\"value\", data=pd.melt(df_accu), showfliers=False)\n",
    "pyplot.title('Accuracy')\n",
    "pyplot.tight_layout()\n",
    "\n",
    "ax = pyplot.subplot(1, 2, 2)\n",
    "sns.violinplot(x=\"variable\", y=\"value\", data=pd.melt(df_loss), showfliers=False)\n",
    "pyplot.title('Loss')\n",
    "pyplot.tight_layout()\n",
    "\n",
    "pyplot.savefig('performance_dist.png')\n",
    "pyplot.show()"
   ]
  },
  {
   "cell_type": "code",
   "execution_count": 25,
   "id": "ea87ee01",
   "metadata": {
    "execution": {
     "iopub.execute_input": "2023-06-30T12:54:21.979984Z",
     "iopub.status.busy": "2023-06-30T12:54:21.978900Z",
     "iopub.status.idle": "2023-06-30T12:54:24.344869Z",
     "shell.execute_reply": "2023-06-30T12:54:24.343789Z"
    },
    "papermill": {
     "duration": 4.391086,
     "end_time": "2023-06-30T12:54:24.346850",
     "exception": false,
     "start_time": "2023-06-30T12:54:19.955764",
     "status": "completed"
    },
    "tags": []
   },
   "outputs": [
    {
     "name": "stdout",
     "output_type": "stream",
     "text": [
      "This is for testing data\n",
      "113/113 [==============================] - 1s 9ms/step\n",
      "total wrong validation predictions: 1202\n",
      "\n",
      "\n",
      "              precision    recall  f1-score   support\n",
      "\n",
      "           0       0.60      0.58      0.59       495\n",
      "           1       0.78      0.53      0.63        55\n",
      "           2       0.55      0.52      0.53       512\n",
      "           3       0.85      0.84      0.85       899\n",
      "           4       0.53      0.55      0.54       608\n",
      "           5       0.80      0.77      0.79       400\n",
      "           6       0.59      0.65      0.62       620\n",
      "\n",
      "    accuracy                           0.67      3589\n",
      "   macro avg       0.67      0.63      0.65      3589\n",
      "weighted avg       0.67      0.67      0.67      3589\n",
      "\n"
     ]
    },
    {
     "data": {
      "image/png": "[encoded data removed]",
      "text/plain": [
       "<Figure size 700x700 with 2 Axes>"
      ]
     },
     "metadata": {},
     "output_type": "display_data"
    }
   ],
   "source": [
    "print(\"This is for testing data\")\n",
    "yhat_test = np.argmax(model.predict(X_test), axis=1)\n",
    "scikitplot.metrics.plot_confusion_matrix(np.argmax(y_test, axis=1), yhat_test, figsize=(7,7))\n",
    "pyplot.savefig(\"confusion_matrix_dcnn.png\")\n",
    "\n",
    "print(f'total wrong validation predictions: {np.sum(np.argmax(y_test, axis=1) != yhat_test)}\\n\\n')\n",
    "print(classification_report(np.argmax(y_test, axis=1), yhat_test))"
   ]
  },
  {
   "cell_type": "code",
   "execution_count": 26,
   "id": "23577bd8",
   "metadata": {
    "execution": {
     "iopub.execute_input": "2023-06-30T12:54:28.387877Z",
     "iopub.status.busy": "2023-06-30T12:54:28.387500Z",
     "iopub.status.idle": "2023-06-30T12:54:30.262924Z",
     "shell.execute_reply": "2023-06-30T12:54:30.261998Z"
    },
    "papermill": {
     "duration": 3.865904,
     "end_time": "2023-06-30T12:54:30.264944",
     "exception": false,
     "start_time": "2023-06-30T12:54:26.399040",
     "status": "completed"
    },
    "tags": []
   },
   "outputs": [
    {
     "name": "stdout",
     "output_type": "stream",
     "text": [
      "this is for validationd data\n",
      "112/112 [==============================] - 1s 8ms/step\n",
      "total wrong validation predictions: 1217\n",
      "\n",
      "\n",
      "              precision    recall  f1-score   support\n",
      "\n",
      "           0       0.57      0.53      0.55       490\n",
      "           1       0.81      0.48      0.60        54\n",
      "           2       0.53      0.49      0.51       507\n",
      "           3       0.85      0.86      0.86       890\n",
      "           4       0.53      0.58      0.55       602\n",
      "           5       0.79      0.77      0.78       396\n",
      "           6       0.59      0.62      0.61       614\n",
      "\n",
      "    accuracy                           0.66      3553\n",
      "   macro avg       0.67      0.62      0.64      3553\n",
      "weighted avg       0.66      0.66      0.66      3553\n",
      "\n"
     ]
    },
    {
     "data": {
      "image/png": "[encoded data removed]",
      "text/plain": [
       "<Figure size 700x700 with 2 Axes>"
      ]
     },
     "metadata": {},
     "output_type": "display_data"
    }
   ],
   "source": [
    "print(\"this is for validationd data\")\n",
    "yhat_valid = np.argmax(model.predict(X_valid), axis=1)\n",
    "scikitplot.metrics.plot_confusion_matrix(np.argmax(y_valid, axis=1), yhat_valid, figsize=(7,7))\n",
    "pyplot.savefig(\"confusion_matrix_dcnn.png\")\n",
    "\n",
    "print(f'total wrong validation predictions: {np.sum(np.argmax(y_valid, axis=1) != yhat_valid)}\\n\\n')\n",
    "print(classification_report(np.argmax(y_valid, axis=1), yhat_valid))"
   ]
  },
  {
   "cell_type": "code",
   "execution_count": null,
   "id": "377c5ba0",
   "metadata": {
    "papermill": {
     "duration": 2.109012,
     "end_time": "2023-06-30T12:54:34.370769",
     "exception": false,
     "start_time": "2023-06-30T12:54:32.261757",
     "status": "completed"
    },
    "tags": []
   },
   "outputs": [],
   "source": []
  }
 ],
 "metadata": {
  "kernelspec": {
   "display_name": "Python 3",
   "language": "python",
   "name": "python3"
  },
  "language_info": {
   "codemirror_mode": {
    "name": "ipython",
    "version": 3
   },
   "file_extension": ".py",
   "mimetype": "text/x-python",
   "name": "python",
   "nbconvert_exporter": "python",
   "pygments_lexer": "ipython3",
   "version": "3.10.10"
  },
  "papermill": {
   "default_parameters": {},
   "duration": 1671.574044,
   "end_time": "2023-06-30T12:54:39.912168",
   "environment_variables": {},
   "exception": null,
   "input_path": "__notebook__.ipynb",
   "output_path": "__notebook__.ipynb",
   "parameters": {},
   "start_time": "2023-06-30T12:26:48.338124",
   "version": "2.4.0"
  }
 },
 "nbformat": 4,
 "nbformat_minor": 5
}
